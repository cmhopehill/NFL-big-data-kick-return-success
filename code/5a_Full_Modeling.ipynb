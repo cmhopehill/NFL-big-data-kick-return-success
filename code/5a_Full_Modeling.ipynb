{
 "cells": [
  {
   "cell_type": "code",
   "execution_count": 1,
   "id": "f7f91324-d493-4c6a-915d-d7556b82481d",
   "metadata": {},
   "outputs": [],
   "source": [
    "import pandas as pd\n",
    "pd.set_option('display.max_columns', None)\n",
    "\n",
    "import numpy as np\n",
    "import matplotlib.pyplot as plt\n",
    "\n",
    "from sklearn.model_selection import train_test_split, GridSearchCV\n",
    "from sklearn.preprocessing import StandardScaler, Binarizer\n",
    "from sklearn.metrics import plot_confusion_matrix, classification_report, f1_score, mean_squared_error, accuracy_score, precision_score, recall_score\n",
    "\n",
    "from sklearn.tree import DecisionTreeClassifier\n",
    "from sklearn.ensemble import RandomForestClassifier, BaggingClassifier, AdaBoostClassifier, GradientBoostingClassifier, VotingClassifier\n",
    "from sklearn.linear_model import LogisticRegression, LinearRegression\n",
    "from sklearn.neighbors import KNeighborsClassifier\n",
    "\n",
    "np.random.seed(3792)"
   ]
  },
  {
   "cell_type": "code",
   "execution_count": 101,
   "id": "a20ab5ad-1c66-4ad6-9f98-558d86a4dc94",
   "metadata": {},
   "outputs": [
    {
     "data": {
      "text/html": [
       "<div>\n",
       "<style scoped>\n",
       "    .dataframe tbody tr th:only-of-type {\n",
       "        vertical-align: middle;\n",
       "    }\n",
       "\n",
       "    .dataframe tbody tr th {\n",
       "        vertical-align: top;\n",
       "    }\n",
       "\n",
       "    .dataframe thead th {\n",
       "        text-align: right;\n",
       "    }\n",
       "</style>\n",
       "<table border=\"1\" class=\"dataframe\">\n",
       "  <thead>\n",
       "    <tr style=\"text-align: right;\">\n",
       "      <th></th>\n",
       "      <th>gameId</th>\n",
       "      <th>playId</th>\n",
       "      <th>quarter</th>\n",
       "      <th>kickerId</th>\n",
       "      <th>returnerId</th>\n",
       "      <th>yardlineNumber</th>\n",
       "      <th>penaltyYards</th>\n",
       "      <th>preSnapHomeScore</th>\n",
       "      <th>preSnapVisitorScore</th>\n",
       "      <th>kickLength</th>\n",
       "      <th>kickReturnYardage</th>\n",
       "      <th>absoluteYardlineNumber</th>\n",
       "      <th>hangTime</th>\n",
       "      <th>missedTackler</th>\n",
       "      <th>assistTackler</th>\n",
       "      <th>tackler</th>\n",
       "      <th>week</th>\n",
       "      <th>gameTimeEastern</th>\n",
       "      <th>x</th>\n",
       "      <th>y</th>\n",
       "      <th>s</th>\n",
       "      <th>a</th>\n",
       "      <th>dis</th>\n",
       "      <th>o</th>\n",
       "      <th>dir</th>\n",
       "      <th>nflId</th>\n",
       "      <th>jerseyNumber</th>\n",
       "      <th>team</th>\n",
       "      <th>frameId</th>\n",
       "      <th>playDirection</th>\n",
       "      <th>yardlineSide_ARI</th>\n",
       "      <th>yardlineSide_ATL</th>\n",
       "      <th>yardlineSide_BAL</th>\n",
       "      <th>yardlineSide_BUF</th>\n",
       "      <th>yardlineSide_CAR</th>\n",
       "      <th>yardlineSide_CHI</th>\n",
       "      <th>yardlineSide_CIN</th>\n",
       "      <th>yardlineSide_CLE</th>\n",
       "      <th>yardlineSide_DAL</th>\n",
       "      <th>yardlineSide_DEN</th>\n",
       "      <th>yardlineSide_DET</th>\n",
       "      <th>yardlineSide_GB</th>\n",
       "      <th>yardlineSide_HOU</th>\n",
       "      <th>yardlineSide_IND</th>\n",
       "      <th>yardlineSide_JAX</th>\n",
       "      <th>yardlineSide_KC</th>\n",
       "      <th>yardlineSide_LA</th>\n",
       "      <th>yardlineSide_LAC</th>\n",
       "      <th>yardlineSide_MIA</th>\n",
       "      <th>yardlineSide_MIN</th>\n",
       "      <th>yardlineSide_NE</th>\n",
       "      <th>yardlineSide_NO</th>\n",
       "      <th>yardlineSide_NYG</th>\n",
       "      <th>yardlineSide_NYJ</th>\n",
       "      <th>yardlineSide_OAK</th>\n",
       "      <th>yardlineSide_PHI</th>\n",
       "      <th>yardlineSide_PIT</th>\n",
       "      <th>yardlineSide_SEA</th>\n",
       "      <th>yardlineSide_SF</th>\n",
       "      <th>yardlineSide_TB</th>\n",
       "      <th>yardlineSide_TEN</th>\n",
       "      <th>yardlineSide_WAS</th>\n",
       "      <th>yardlineSide_midfield</th>\n",
       "      <th>kickType_D</th>\n",
       "      <th>kickType_K</th>\n",
       "      <th>kickType_P</th>\n",
       "      <th>kickType_Q</th>\n",
       "      <th>kickDirectionIntended_C</th>\n",
       "      <th>kickDirectionIntended_L</th>\n",
       "      <th>kickDirectionIntended_R</th>\n",
       "      <th>kickDirectionActual_C</th>\n",
       "      <th>kickDirectionActual_L</th>\n",
       "      <th>kickDirectionActual_R</th>\n",
       "      <th>returnDirectionIntended_C</th>\n",
       "      <th>returnDirectionIntended_L</th>\n",
       "      <th>returnDirectionIntended_R</th>\n",
       "      <th>returnDirectionActual_C</th>\n",
       "      <th>returnDirectionActual_L</th>\n",
       "      <th>returnDirectionActual_R</th>\n",
       "      <th>kickoffReturnFormation_5-3-2</th>\n",
       "      <th>kickoffReturnFormation_6-0-3</th>\n",
       "      <th>kickoffReturnFormation_6-0-4</th>\n",
       "      <th>kickoffReturnFormation_6-2-2</th>\n",
       "      <th>kickoffReturnFormation_7-0-3</th>\n",
       "      <th>kickoffReturnFormation_8-0-1</th>\n",
       "      <th>kickoffReturnFormation_8-0-2</th>\n",
       "      <th>kickoffReturnFormation_8-1-1</th>\n",
       "      <th>position_CB</th>\n",
       "      <th>position_DB</th>\n",
       "      <th>position_DE</th>\n",
       "      <th>position_DL</th>\n",
       "      <th>position_DT</th>\n",
       "      <th>position_FB</th>\n",
       "      <th>position_FS</th>\n",
       "      <th>position_G</th>\n",
       "      <th>position_HB</th>\n",
       "      <th>position_ILB</th>\n",
       "      <th>position_K</th>\n",
       "      <th>position_LB</th>\n",
       "      <th>position_LS</th>\n",
       "      <th>position_MLB</th>\n",
       "      <th>position_OLB</th>\n",
       "      <th>position_P</th>\n",
       "      <th>position_QB</th>\n",
       "      <th>position_RB</th>\n",
       "      <th>position_S</th>\n",
       "      <th>position_SS</th>\n",
       "      <th>position_TE</th>\n",
       "      <th>position_WR</th>\n",
       "    </tr>\n",
       "  </thead>\n",
       "  <tbody>\n",
       "    <tr>\n",
       "      <th>0</th>\n",
       "      <td>2018090600</td>\n",
       "      <td>677</td>\n",
       "      <td>1</td>\n",
       "      <td>37267</td>\n",
       "      <td>44979</td>\n",
       "      <td>35</td>\n",
       "      <td>0</td>\n",
       "      <td>0</td>\n",
       "      <td>3</td>\n",
       "      <td>64</td>\n",
       "      <td>30</td>\n",
       "      <td>75</td>\n",
       "      <td>4.06</td>\n",
       "      <td>1</td>\n",
       "      <td>1</td>\n",
       "      <td>1</td>\n",
       "      <td>1</td>\n",
       "      <td>9</td>\n",
       "      <td>79.22</td>\n",
       "      <td>26.19</td>\n",
       "      <td>4.47</td>\n",
       "      <td>1.58</td>\n",
       "      <td>0.44</td>\n",
       "      <td>289.13</td>\n",
       "      <td>305.37</td>\n",
       "      <td>37267</td>\n",
       "      <td>5</td>\n",
       "      <td>0</td>\n",
       "      <td>1</td>\n",
       "      <td>0</td>\n",
       "      <td>0</td>\n",
       "      <td>1</td>\n",
       "      <td>0</td>\n",
       "      <td>0</td>\n",
       "      <td>0</td>\n",
       "      <td>0</td>\n",
       "      <td>0</td>\n",
       "      <td>0</td>\n",
       "      <td>0</td>\n",
       "      <td>0</td>\n",
       "      <td>0</td>\n",
       "      <td>0</td>\n",
       "      <td>0</td>\n",
       "      <td>0</td>\n",
       "      <td>0</td>\n",
       "      <td>0</td>\n",
       "      <td>0</td>\n",
       "      <td>0</td>\n",
       "      <td>0</td>\n",
       "      <td>0</td>\n",
       "      <td>0</td>\n",
       "      <td>0</td>\n",
       "      <td>0</td>\n",
       "      <td>0</td>\n",
       "      <td>0</td>\n",
       "      <td>0</td>\n",
       "      <td>0</td>\n",
       "      <td>0</td>\n",
       "      <td>0</td>\n",
       "      <td>0</td>\n",
       "      <td>0</td>\n",
       "      <td>0</td>\n",
       "      <td>0</td>\n",
       "      <td>1</td>\n",
       "      <td>0</td>\n",
       "      <td>0</td>\n",
       "      <td>0</td>\n",
       "      <td>0</td>\n",
       "      <td>0</td>\n",
       "      <td>1</td>\n",
       "      <td>0</td>\n",
       "      <td>0</td>\n",
       "      <td>1</td>\n",
       "      <td>1</td>\n",
       "      <td>0</td>\n",
       "      <td>0</td>\n",
       "      <td>1</td>\n",
       "      <td>0</td>\n",
       "      <td>0</td>\n",
       "      <td>0</td>\n",
       "      <td>0</td>\n",
       "      <td>0</td>\n",
       "      <td>0</td>\n",
       "      <td>0</td>\n",
       "      <td>0</td>\n",
       "      <td>1</td>\n",
       "      <td>0</td>\n",
       "      <td>0</td>\n",
       "      <td>0</td>\n",
       "      <td>0</td>\n",
       "      <td>0</td>\n",
       "      <td>0</td>\n",
       "      <td>0</td>\n",
       "      <td>0</td>\n",
       "      <td>0</td>\n",
       "      <td>0</td>\n",
       "      <td>0</td>\n",
       "      <td>0</td>\n",
       "      <td>0</td>\n",
       "      <td>0</td>\n",
       "      <td>0</td>\n",
       "      <td>0</td>\n",
       "      <td>1</td>\n",
       "      <td>0</td>\n",
       "      <td>0</td>\n",
       "      <td>0</td>\n",
       "      <td>0</td>\n",
       "      <td>0</td>\n",
       "      <td>0</td>\n",
       "    </tr>\n",
       "  </tbody>\n",
       "</table>\n",
       "</div>"
      ],
      "text/plain": [
       "       gameId  playId  quarter  kickerId  returnerId  yardlineNumber  \\\n",
       "0  2018090600     677        1     37267       44979              35   \n",
       "\n",
       "   penaltyYards  preSnapHomeScore  preSnapVisitorScore  kickLength  \\\n",
       "0             0                 0                    3          64   \n",
       "\n",
       "   kickReturnYardage  absoluteYardlineNumber  hangTime  missedTackler  \\\n",
       "0                 30                      75      4.06              1   \n",
       "\n",
       "   assistTackler  tackler  week  gameTimeEastern      x      y     s     a  \\\n",
       "0              1        1     1                9  79.22  26.19  4.47  1.58   \n",
       "\n",
       "    dis       o     dir  nflId  jerseyNumber  team  frameId  playDirection  \\\n",
       "0  0.44  289.13  305.37  37267             5     0        1              0   \n",
       "\n",
       "   yardlineSide_ARI  yardlineSide_ATL  yardlineSide_BAL  yardlineSide_BUF  \\\n",
       "0                 0                 1                 0                 0   \n",
       "\n",
       "   yardlineSide_CAR  yardlineSide_CHI  yardlineSide_CIN  yardlineSide_CLE  \\\n",
       "0                 0                 0                 0                 0   \n",
       "\n",
       "   yardlineSide_DAL  yardlineSide_DEN  yardlineSide_DET  yardlineSide_GB  \\\n",
       "0                 0                 0                 0                0   \n",
       "\n",
       "   yardlineSide_HOU  yardlineSide_IND  yardlineSide_JAX  yardlineSide_KC  \\\n",
       "0                 0                 0                 0                0   \n",
       "\n",
       "   yardlineSide_LA  yardlineSide_LAC  yardlineSide_MIA  yardlineSide_MIN  \\\n",
       "0                0                 0                 0                 0   \n",
       "\n",
       "   yardlineSide_NE  yardlineSide_NO  yardlineSide_NYG  yardlineSide_NYJ  \\\n",
       "0                0                0                 0                 0   \n",
       "\n",
       "   yardlineSide_OAK  yardlineSide_PHI  yardlineSide_PIT  yardlineSide_SEA  \\\n",
       "0                 0                 0                 0                 0   \n",
       "\n",
       "   yardlineSide_SF  yardlineSide_TB  yardlineSide_TEN  yardlineSide_WAS  \\\n",
       "0                0                0                 0                 0   \n",
       "\n",
       "   yardlineSide_midfield  kickType_D  kickType_K  kickType_P  kickType_Q  \\\n",
       "0                      0           1           0           0           0   \n",
       "\n",
       "   kickDirectionIntended_C  kickDirectionIntended_L  kickDirectionIntended_R  \\\n",
       "0                        0                        0                        1   \n",
       "\n",
       "   kickDirectionActual_C  kickDirectionActual_L  kickDirectionActual_R  \\\n",
       "0                      0                      0                      1   \n",
       "\n",
       "   returnDirectionIntended_C  returnDirectionIntended_L  \\\n",
       "0                          1                          0   \n",
       "\n",
       "   returnDirectionIntended_R  returnDirectionActual_C  \\\n",
       "0                          0                        1   \n",
       "\n",
       "   returnDirectionActual_L  returnDirectionActual_R  \\\n",
       "0                        0                        0   \n",
       "\n",
       "   kickoffReturnFormation_5-3-2  kickoffReturnFormation_6-0-3  \\\n",
       "0                             0                             0   \n",
       "\n",
       "   kickoffReturnFormation_6-0-4  kickoffReturnFormation_6-2-2  \\\n",
       "0                             0                             0   \n",
       "\n",
       "   kickoffReturnFormation_7-0-3  kickoffReturnFormation_8-0-1  \\\n",
       "0                             0                             0   \n",
       "\n",
       "   kickoffReturnFormation_8-0-2  kickoffReturnFormation_8-1-1  position_CB  \\\n",
       "0                             1                             0            0   \n",
       "\n",
       "   position_DB  position_DE  position_DL  position_DT  position_FB  \\\n",
       "0            0            0            0            0            0   \n",
       "\n",
       "   position_FS  position_G  position_HB  position_ILB  position_K  \\\n",
       "0            0           0            0             0           0   \n",
       "\n",
       "   position_LB  position_LS  position_MLB  position_OLB  position_P  \\\n",
       "0            0            0             0             0           1   \n",
       "\n",
       "   position_QB  position_RB  position_S  position_SS  position_TE  position_WR  \n",
       "0            0            0           0            0            0            0  "
      ]
     },
     "execution_count": 101,
     "metadata": {},
     "output_type": "execute_result"
    }
   ],
   "source": [
    "kickoff_df = pd.read_csv('../data/kickoffs_2018_model_ready.csv')\n",
    "kickoff_df.head(1)"
   ]
  },
  {
   "cell_type": "code",
   "execution_count": 102,
   "id": "e5d0a680-a356-4bf7-b534-4543f47bbe03",
   "metadata": {},
   "outputs": [
    {
     "data": {
      "text/plain": [
       "0    1277069\n",
       "1     390730\n",
       "2     193684\n",
       "Name: assistTackler, dtype: int64"
      ]
     },
     "execution_count": 102,
     "metadata": {},
     "output_type": "execute_result"
    }
   ],
   "source": [
    "kickoff_df['assistTackler'].value_counts()"
   ]
  },
  {
   "cell_type": "code",
   "execution_count": 103,
   "id": "f95facd4-c8f0-4908-b052-18764e21367f",
   "metadata": {},
   "outputs": [],
   "source": [
    "#Messed up in previous notebook currently flipped around as our 2 class is NT or No Tackle which should be our 0 class, etc.\n",
    "kickoff_df['assistTackler'] = kickoff_df['assistTackler'].map({0 : 'Solo', 1 : 'assist', 2: 'NT'})"
   ]
  },
  {
   "cell_type": "code",
   "execution_count": 104,
   "id": "fd847c17-05f6-452a-b051-9dfc909e6146",
   "metadata": {},
   "outputs": [],
   "source": [
    "kickoff_df['assistTackler'] = kickoff_df['assistTackler'].map({\n",
    "    'NT' : 0,\n",
    "    'Solo' : 1,\n",
    "    'assist' : 2\n",
    "})"
   ]
  },
  {
   "cell_type": "code",
   "execution_count": 106,
   "id": "aa3fc78a-e116-4006-93da-6c6bb522052a",
   "metadata": {},
   "outputs": [
    {
     "data": {
      "text/plain": [
       "1    1277069\n",
       "2     390730\n",
       "0     193684\n",
       "Name: assistTackler, dtype: int64"
      ]
     },
     "execution_count": 106,
     "metadata": {},
     "output_type": "execute_result"
    }
   ],
   "source": [
    "kickoff_df['assistTackler'].value_counts()"
   ]
  },
  {
   "cell_type": "markdown",
   "id": "2baff309-7f6d-4287-9d09-3f138988e8e9",
   "metadata": {},
   "source": [
    "# Modeling Steps \n",
    "1. Re-run the simple Linear Regression to see how well our data can predict the exact length of a return.\n",
    "1. Run through binary classification models\n",
    "1. If time run through multi-class classification models"
   ]
  },
  {
   "cell_type": "code",
   "execution_count": 114,
   "id": "27c34fac-a0fb-4489-bcd6-734d9f9f394e",
   "metadata": {},
   "outputs": [
    {
     "data": {
      "text/plain": [
       "(1861483, 109)"
      ]
     },
     "execution_count": 114,
     "metadata": {},
     "output_type": "execute_result"
    }
   ],
   "source": [
    "#We have a much larger dataset now so we can likely get away with a 2/3 : 1/3 train to test split\n",
    "kickoff_df.shape"
   ]
  },
  {
   "cell_type": "code",
   "execution_count": 115,
   "id": "37237012-7c61-4b8e-8840-3a3873d35082",
   "metadata": {},
   "outputs": [],
   "source": [
    "X = kickoff_df.drop(columns='kickReturnYardage')\n",
    "y = kickoff_df['kickReturnYardage']\n",
    "\n",
    "X_train, X_test, y_train, y_test = train_test_split(X, y,\n",
    "                                                   random_state=3792,\n",
    "                                                   train_size= 2/3)"
   ]
  },
  {
   "cell_type": "code",
   "execution_count": 116,
   "id": "7bb632c8-7095-4bc1-87f9-a18b0f4bdff1",
   "metadata": {},
   "outputs": [],
   "source": [
    "lr = LinearRegression()"
   ]
  },
  {
   "cell_type": "code",
   "execution_count": 117,
   "id": "47866100-683c-4522-8ad2-9cbc40b30da6",
   "metadata": {},
   "outputs": [
    {
     "data": {
      "text/plain": [
       "LinearRegression()"
      ]
     },
     "execution_count": 117,
     "metadata": {},
     "output_type": "execute_result"
    }
   ],
   "source": [
    "lr.fit(X_train, y_train)"
   ]
  },
  {
   "cell_type": "code",
   "execution_count": 118,
   "id": "39bfb4a8-addf-4fd6-8905-5bd80653c6db",
   "metadata": {},
   "outputs": [
    {
     "data": {
      "text/plain": [
       "(0.2881484496573481, 0.28951887706338264)"
      ]
     },
     "execution_count": 118,
     "metadata": {},
     "output_type": "execute_result"
    }
   ],
   "source": [
    "#Well we improved slighlty (previous was around .16 to .13 )\n",
    "lr.score(X_train, y_train) , lr.score(X_test, y_test)"
   ]
  },
  {
   "cell_type": "code",
   "execution_count": 120,
   "id": "84421814-58e6-4d19-8c1c-507aa8fc5696",
   "metadata": {},
   "outputs": [
    {
     "data": {
      "text/html": [
       "<div>\n",
       "<style scoped>\n",
       "    .dataframe tbody tr th:only-of-type {\n",
       "        vertical-align: middle;\n",
       "    }\n",
       "\n",
       "    .dataframe tbody tr th {\n",
       "        vertical-align: top;\n",
       "    }\n",
       "\n",
       "    .dataframe thead th {\n",
       "        text-align: right;\n",
       "    }\n",
       "</style>\n",
       "<table border=\"1\" class=\"dataframe\">\n",
       "  <thead>\n",
       "    <tr style=\"text-align: right;\">\n",
       "      <th></th>\n",
       "      <th>Feature</th>\n",
       "      <th>Coef</th>\n",
       "    </tr>\n",
       "  </thead>\n",
       "  <tbody>\n",
       "    <tr>\n",
       "      <th>0</th>\n",
       "      <td>gameId</td>\n",
       "      <td>0.000366</td>\n",
       "    </tr>\n",
       "    <tr>\n",
       "      <th>1</th>\n",
       "      <td>playId</td>\n",
       "      <td>-0.000345</td>\n",
       "    </tr>\n",
       "    <tr>\n",
       "      <th>2</th>\n",
       "      <td>quarter</td>\n",
       "      <td>0.743376</td>\n",
       "    </tr>\n",
       "    <tr>\n",
       "      <th>3</th>\n",
       "      <td>kickerId</td>\n",
       "      <td>-0.000135</td>\n",
       "    </tr>\n",
       "    <tr>\n",
       "      <th>4</th>\n",
       "      <td>returnerId</td>\n",
       "      <td>-0.000159</td>\n",
       "    </tr>\n",
       "  </tbody>\n",
       "</table>\n",
       "</div>"
      ],
      "text/plain": [
       "      Feature      Coef\n",
       "0      gameId  0.000366\n",
       "1      playId -0.000345\n",
       "2     quarter  0.743376\n",
       "3    kickerId -0.000135\n",
       "4  returnerId -0.000159"
      ]
     },
     "execution_count": 120,
     "metadata": {},
     "output_type": "execute_result"
    }
   ],
   "source": [
    "linreg_coefs = pd.DataFrame(zip( X.columns, (lr.coef_)), \n",
    "             columns=['Feature', 'Coef'])\n",
    "linreg_coefs.head()"
   ]
  },
  {
   "cell_type": "code",
   "execution_count": 123,
   "id": "d2b00f33-17a4-4279-b5dc-a27c007db478",
   "metadata": {},
   "outputs": [
    {
     "data": {
      "text/html": [
       "<div>\n",
       "<style scoped>\n",
       "    .dataframe tbody tr th:only-of-type {\n",
       "        vertical-align: middle;\n",
       "    }\n",
       "\n",
       "    .dataframe tbody tr th {\n",
       "        vertical-align: top;\n",
       "    }\n",
       "\n",
       "    .dataframe thead th {\n",
       "        text-align: right;\n",
       "    }\n",
       "</style>\n",
       "<table border=\"1\" class=\"dataframe\">\n",
       "  <thead>\n",
       "    <tr style=\"text-align: right;\">\n",
       "      <th></th>\n",
       "      <th>Feature</th>\n",
       "      <th>Coef</th>\n",
       "    </tr>\n",
       "  </thead>\n",
       "  <tbody>\n",
       "    <tr>\n",
       "      <th>47</th>\n",
       "      <td>yardlineSide_MIA</td>\n",
       "      <td>12.398921</td>\n",
       "    </tr>\n",
       "    <tr>\n",
       "      <th>65</th>\n",
       "      <td>kickType_Q</td>\n",
       "      <td>10.906608</td>\n",
       "    </tr>\n",
       "    <tr>\n",
       "      <th>78</th>\n",
       "      <td>kickoffReturnFormation_5-3-2</td>\n",
       "      <td>9.534217</td>\n",
       "    </tr>\n",
       "    <tr>\n",
       "      <th>83</th>\n",
       "      <td>kickoffReturnFormation_8-0-1</td>\n",
       "      <td>6.322281</td>\n",
       "    </tr>\n",
       "    <tr>\n",
       "      <th>84</th>\n",
       "      <td>kickoffReturnFormation_8-0-2</td>\n",
       "      <td>6.257543</td>\n",
       "    </tr>\n",
       "    <tr>\n",
       "      <th>28</th>\n",
       "      <td>playDirection</td>\n",
       "      <td>4.686088</td>\n",
       "    </tr>\n",
       "    <tr>\n",
       "      <th>59</th>\n",
       "      <td>yardlineSide_TEN</td>\n",
       "      <td>3.784996</td>\n",
       "    </tr>\n",
       "    <tr>\n",
       "      <th>56</th>\n",
       "      <td>yardlineSide_SEA</td>\n",
       "      <td>3.610547</td>\n",
       "    </tr>\n",
       "    <tr>\n",
       "      <th>66</th>\n",
       "      <td>kickDirectionIntended_C</td>\n",
       "      <td>3.324938</td>\n",
       "    </tr>\n",
       "    <tr>\n",
       "      <th>11</th>\n",
       "      <td>hangTime</td>\n",
       "      <td>2.967985</td>\n",
       "    </tr>\n",
       "  </tbody>\n",
       "</table>\n",
       "</div>"
      ],
      "text/plain": [
       "                         Feature       Coef\n",
       "47              yardlineSide_MIA  12.398921\n",
       "65                    kickType_Q  10.906608\n",
       "78  kickoffReturnFormation_5-3-2   9.534217\n",
       "83  kickoffReturnFormation_8-0-1   6.322281\n",
       "84  kickoffReturnFormation_8-0-2   6.257543\n",
       "28                 playDirection   4.686088\n",
       "59              yardlineSide_TEN   3.784996\n",
       "56              yardlineSide_SEA   3.610547\n",
       "66       kickDirectionIntended_C   3.324938\n",
       "11                      hangTime   2.967985"
      ]
     },
     "execution_count": 123,
     "metadata": {},
     "output_type": "execute_result"
    }
   ],
   "source": [
    "linreg_coefs[linreg_coefs['Coef'] >0].sort_values('Coef', ascending=False)[0:10]"
   ]
  },
  {
   "cell_type": "code",
   "execution_count": 124,
   "id": "81f17109-5357-40f3-b437-64e6bc61473c",
   "metadata": {},
   "outputs": [
    {
     "data": {
      "text/plain": [
       "10.9555"
      ]
     },
     "execution_count": 124,
     "metadata": {},
     "output_type": "execute_result"
    }
   ],
   "source": [
    "#Not any better\n",
    "round((mean_squared_error(y_true=y_test, y_pred=lr.predict(X_test)) ** .5), 4)"
   ]
  },
  {
   "cell_type": "markdown",
   "id": "d26e265a-9c40-48eb-966a-f8cdbdcd7eaf",
   "metadata": {},
   "source": [
    "### Interpretation\n",
    "* Not any better"
   ]
  },
  {
   "cell_type": "markdown",
   "id": "94fc6c07-70b0-41f7-a85c-3206f6586b0a",
   "metadata": {},
   "source": [
    "### Kick Return Info to set up binary class"
   ]
  },
  {
   "cell_type": "code",
   "execution_count": 125,
   "id": "d56dc211-4ef8-4a39-9896-f3dfc6dd0dd1",
   "metadata": {},
   "outputs": [
    {
     "data": {
      "image/png": "[encoded data removed]",
      "text/plain": [
       "<Figure size 432x288 with 1 Axes>"
      ]
     },
     "metadata": {
      "needs_background": "light"
     },
     "output_type": "display_data"
    }
   ],
   "source": [
    "plt.boxplot(kickoff_df['kickReturnYardage']);"
   ]
  },
  {
   "cell_type": "code",
   "execution_count": 126,
   "id": "8acb4158-2b22-4005-a4e9-f52188528f03",
   "metadata": {},
   "outputs": [
    {
     "data": {
      "text/plain": [
       "24.746446247427453"
      ]
     },
     "execution_count": 126,
     "metadata": {},
     "output_type": "execute_result"
    }
   ],
   "source": [
    "kickoff_df['kickReturnYardage'].mean()"
   ]
  },
  {
   "cell_type": "code",
   "execution_count": 127,
   "id": "a5b299ca-3e0d-4555-8eb2-5ae5b98f4b99",
   "metadata": {},
   "outputs": [
    {
     "data": {
      "text/plain": [
       "23.0"
      ]
     },
     "execution_count": 127,
     "metadata": {},
     "output_type": "execute_result"
    }
   ],
   "source": [
    "kickoff_df['kickReturnYardage'].median()"
   ]
  },
  {
   "cell_type": "code",
   "execution_count": 128,
   "id": "6fe4dfdc-7a18-4d94-89ab-3ad2b0f1978f",
   "metadata": {},
   "outputs": [
    {
     "data": {
      "text/html": [
       "<div>\n",
       "<style scoped>\n",
       "    .dataframe tbody tr th:only-of-type {\n",
       "        vertical-align: middle;\n",
       "    }\n",
       "\n",
       "    .dataframe tbody tr th {\n",
       "        vertical-align: top;\n",
       "    }\n",
       "\n",
       "    .dataframe thead th {\n",
       "        text-align: right;\n",
       "    }\n",
       "</style>\n",
       "<table border=\"1\" class=\"dataframe\">\n",
       "  <thead>\n",
       "    <tr style=\"text-align: right;\">\n",
       "      <th></th>\n",
       "      <th>kickReturnYardage</th>\n",
       "    </tr>\n",
       "  </thead>\n",
       "  <tbody>\n",
       "    <tr>\n",
       "      <th>0</th>\n",
       "      <td>1</td>\n",
       "    </tr>\n",
       "    <tr>\n",
       "      <th>1</th>\n",
       "      <td>1</td>\n",
       "    </tr>\n",
       "    <tr>\n",
       "      <th>2</th>\n",
       "      <td>1</td>\n",
       "    </tr>\n",
       "    <tr>\n",
       "      <th>3</th>\n",
       "      <td>1</td>\n",
       "    </tr>\n",
       "    <tr>\n",
       "      <th>4</th>\n",
       "      <td>1</td>\n",
       "    </tr>\n",
       "  </tbody>\n",
       "</table>\n",
       "</div>"
      ],
      "text/plain": [
       "   kickReturnYardage\n",
       "0                  1\n",
       "1                  1\n",
       "2                  1\n",
       "3                  1\n",
       "4                  1"
      ]
     },
     "execution_count": 128,
     "metadata": {},
     "output_type": "execute_result"
    }
   ],
   "source": [
    "kickoff_df['kickReturnYardage'] = kickoff_df['kickReturnYardage'].map(lambda kickReturnYardage : 1 if kickReturnYardage >= 25 else 0)\n",
    "kickoff_df[['kickReturnYardage']].head()"
   ]
  },
  {
   "cell_type": "markdown",
   "id": "70084235-51e0-46fb-8d9c-dcad29d8431a",
   "metadata": {},
   "source": [
    "## Logisitc Regression\n",
    "* Setting a successful return as a kick return that gains 25 or more yards as the "
   ]
  },
  {
   "cell_type": "code",
   "execution_count": 129,
   "id": "dcc79c12-0f71-4f00-92e4-11b1a876bc4f",
   "metadata": {},
   "outputs": [
    {
     "data": {
      "text/plain": [
       "0    0.589474\n",
       "1    0.410526\n",
       "Name: kickReturnYardage, dtype: float64"
      ]
     },
     "execution_count": 129,
     "metadata": {},
     "output_type": "execute_result"
    }
   ],
   "source": [
    "#baseline \n",
    "kickoff_df['kickReturnYardage'].value_counts(normalize=True)"
   ]
  },
  {
   "cell_type": "markdown",
   "id": "309d00c2-90a2-4629-87ab-c3dbf10f07f3",
   "metadata": {},
   "source": [
    "So our Baseline model would predict a successful kickoff return on ~41% of our returns."
   ]
  },
  {
   "cell_type": "code",
   "execution_count": 130,
   "id": "4af38d65-d9fd-4a8c-8181-905c70a7d493",
   "metadata": {},
   "outputs": [],
   "source": [
    "#Train test split to .8 to .2 due to the smaller data set, I want to give the training set as much to train on\n",
    "X_train, X_test, y_train, y_test = train_test_split(X, y,\n",
    "                                                   random_state=3792,\n",
    "                                                   train_size= 2/3,\n",
    "                                                   stratify= y)"
   ]
  },
  {
   "cell_type": "code",
   "execution_count": 131,
   "id": "e0ff4dcc-e02d-46c5-8170-c280a4c57af3",
   "metadata": {},
   "outputs": [
    {
     "data": {
      "text/plain": [
       "(0    731530\n",
       " 1    509458\n",
       " Name: kickReturnYardage, dtype: int64,\n",
       " 0    0.589474\n",
       " 1    0.410526\n",
       " Name: kickReturnYardage, dtype: float64)"
      ]
     },
     "execution_count": 131,
     "metadata": {},
     "output_type": "execute_result"
    }
   ],
   "source": [
    "y_train.value_counts() , y_train.value_counts(normalize=True)"
   ]
  },
  {
   "cell_type": "code",
   "execution_count": 132,
   "id": "6a47d285-eb49-487b-89bd-68ea14834ee6",
   "metadata": {},
   "outputs": [
    {
     "data": {
      "text/plain": [
       "(0    365766\n",
       " 1    254729\n",
       " Name: kickReturnYardage, dtype: int64,\n",
       " 0    0.589475\n",
       " 1    0.410525\n",
       " Name: kickReturnYardage, dtype: float64)"
      ]
     },
     "execution_count": 132,
     "metadata": {},
     "output_type": "execute_result"
    }
   ],
   "source": [
    "y_test.value_counts() , y_test.value_counts(normalize=True)"
   ]
  },
  {
   "cell_type": "markdown",
   "id": "2b66136e-43a6-4eb9-ad28-de2b8339d46a",
   "metadata": {},
   "source": [
    "Distribution of unsuccessful : successful is essentially the same for train and test."
   ]
  },
  {
   "cell_type": "code",
   "execution_count": 133,
   "id": "00ee31ba-dcbb-4f5e-a576-06134d1e4ccb",
   "metadata": {},
   "outputs": [
    {
     "data": {
      "text/plain": [
       "LogisticRegression()"
      ]
     },
     "execution_count": 133,
     "metadata": {},
     "output_type": "execute_result"
    }
   ],
   "source": [
    "log_reg = LogisticRegression()\n",
    "log_reg.fit(X=X_train, y=y_train)"
   ]
  },
  {
   "cell_type": "code",
   "execution_count": 134,
   "id": "3a37f023-633a-4221-a6f3-6a547db2be5b",
   "metadata": {},
   "outputs": [
    {
     "data": {
      "text/plain": [
       "0.5895"
      ]
     },
     "execution_count": 134,
     "metadata": {},
     "output_type": "execute_result"
    }
   ],
   "source": [
    "round(log_reg.score(X_train, y_train), 4)"
   ]
  },
  {
   "cell_type": "code",
   "execution_count": 135,
   "id": "b6f242f7-72a7-4bfb-a42e-9dcb9f90043f",
   "metadata": {},
   "outputs": [
    {
     "data": {
      "text/plain": [
       "0.5895"
      ]
     },
     "execution_count": 135,
     "metadata": {},
     "output_type": "execute_result"
    }
   ],
   "source": [
    "round(log_reg.score(X_test, y_test), 4)"
   ]
  },
  {
   "cell_type": "code",
   "execution_count": 136,
   "id": "c445f441-0ded-44ce-b7e6-222ee8bde2d2",
   "metadata": {},
   "outputs": [
    {
     "data": {
      "text/plain": [
       "0.0"
      ]
     },
     "execution_count": 136,
     "metadata": {},
     "output_type": "execute_result"
    }
   ],
   "source": [
    "f1_score(y_true=y_test, y_pred= log_reg.predict(X_test))"
   ]
  },
  {
   "cell_type": "code",
   "execution_count": 191,
   "id": "16899ffa-bc5a-4870-8b41-b150e918c5f1",
   "metadata": {},
   "outputs": [
    {
     "data": {
      "image/png": "[encoded data removed]",
      "text/plain": [
       "<Figure size 432x288 with 2 Axes>"
      ]
     },
     "metadata": {
      "needs_background": "light"
     },
     "output_type": "display_data"
    }
   ],
   "source": [
    "plot_confusion_matrix(estimator=log_reg,\n",
    "                      X=X_test, \n",
    "                      y_true=y_test)\n",
    "plt.savefig('../images/full_logreg_conf_matrix.png');"
   ]
  },
  {
   "cell_type": "code",
   "execution_count": 199,
   "id": "ef7ceb7c-f887-4e14-a0af-f9869f20e562",
   "metadata": {},
   "outputs": [
    {
     "data": {
      "text/plain": [
       "0.5895"
      ]
     },
     "execution_count": 199,
     "metadata": {},
     "output_type": "execute_result"
    }
   ],
   "source": [
    "round(accuracy_score(y_true=y_test, y_pred= log_reg.predict(X_test)), 4)"
   ]
  },
  {
   "cell_type": "code",
   "execution_count": 200,
   "id": "cb1059d2-814e-44c9-83a8-96517d26c36e",
   "metadata": {},
   "outputs": [
    {
     "name": "stderr",
     "output_type": "stream",
     "text": [
      "C:\\ProgramData\\Anaconda3\\lib\\site-packages\\sklearn\\metrics\\_classification.py:1245: UndefinedMetricWarning: Precision is ill-defined and being set to 0.0 due to no predicted samples. Use `zero_division` parameter to control this behavior.\n",
      "  _warn_prf(average, modifier, msg_start, len(result))\n"
     ]
    },
    {
     "data": {
      "text/plain": [
       "0.0"
      ]
     },
     "execution_count": 200,
     "metadata": {},
     "output_type": "execute_result"
    }
   ],
   "source": [
    "round(precision_score(y_true=y_test, y_pred= log_reg.predict(X_test)), 4)"
   ]
  },
  {
   "cell_type": "markdown",
   "id": "ac1a72fb-6bad-4316-930c-e489a240b4f8",
   "metadata": {},
   "source": [
    "#### Interpretation\n",
    "We are still running into the same issues as before with low prediction improvements and we still aren't predicting our positive class at all!"
   ]
  },
  {
   "cell_type": "markdown",
   "id": "73785e32-2945-4e0a-9e5e-623cc4cab573",
   "metadata": {},
   "source": [
    "### KNN"
   ]
  },
  {
   "cell_type": "code",
   "execution_count": 138,
   "id": "04cdda9e-c1a7-42e9-9c70-bf3eb806a2b5",
   "metadata": {},
   "outputs": [],
   "source": [
    "sc = StandardScaler()"
   ]
  },
  {
   "cell_type": "code",
   "execution_count": 139,
   "id": "c4d34271-c897-480b-912e-5ad1715bbed2",
   "metadata": {},
   "outputs": [],
   "source": [
    "X_train_sc = sc.fit_transform(X_train)\n",
    "X_test_sc  = sc.fit_transform(X_test)"
   ]
  },
  {
   "cell_type": "code",
   "execution_count": 29,
   "id": "18dfca9f-d7da-4231-8277-6d33ecf45353",
   "metadata": {},
   "outputs": [
    {
     "data": {
      "text/plain": [
       "{'algorithm': 'auto',\n",
       " 'leaf_size': 30,\n",
       " 'metric': 'minkowski',\n",
       " 'metric_params': None,\n",
       " 'n_jobs': None,\n",
       " 'n_neighbors': 5,\n",
       " 'p': 2,\n",
       " 'weights': 'uniform'}"
      ]
     },
     "execution_count": 29,
     "metadata": {},
     "output_type": "execute_result"
    }
   ],
   "source": [
    "KNeighborsClassifier().get_params()"
   ]
  },
  {
   "cell_type": "code",
   "execution_count": 34,
   "id": "7d50a6d7-83fb-48b9-8746-491dcc127170",
   "metadata": {},
   "outputs": [],
   "source": [
    "# %%time\n",
    "\n",
    "# knn_gs = GridSearchCV(estimator=KNeighborsClassifier(),\n",
    "#                      param_grid={\n",
    "#                          'n_neighbors' : range(1, 101, 10),\n",
    "#                          'p' : [1, 2]}, \n",
    "#                       cv= 5, \n",
    "#                       verbose= 1)\n",
    "# knn_gs.fit(X_train_sc, y_train)"
   ]
  },
  {
   "cell_type": "markdown",
   "id": "eaef4ed0-2c2f-426d-93ae-224d922c28c8",
   "metadata": {},
   "source": [
    "### Decisison Tree Classifier"
   ]
  },
  {
   "cell_type": "code",
   "execution_count": 140,
   "id": "5e4a34a4-9926-44fb-98c3-cdff337e245a",
   "metadata": {},
   "outputs": [
    {
     "data": {
      "text/plain": [
       "{'ccp_alpha': 0.0,\n",
       " 'class_weight': None,\n",
       " 'criterion': 'gini',\n",
       " 'max_depth': None,\n",
       " 'max_features': None,\n",
       " 'max_leaf_nodes': None,\n",
       " 'min_impurity_decrease': 0.0,\n",
       " 'min_impurity_split': None,\n",
       " 'min_samples_leaf': 1,\n",
       " 'min_samples_split': 2,\n",
       " 'min_weight_fraction_leaf': 0.0,\n",
       " 'random_state': None,\n",
       " 'splitter': 'best'}"
      ]
     },
     "execution_count": 140,
     "metadata": {},
     "output_type": "execute_result"
    }
   ],
   "source": [
    "DecisionTreeClassifier().get_params()"
   ]
  },
  {
   "cell_type": "code",
   "execution_count": 39,
   "id": "a3ee10e0-939c-48ca-9fa1-5c673029ee7c",
   "metadata": {},
   "outputs": [
    {
     "name": "stdout",
     "output_type": "stream",
     "text": [
      "Wall time: 10min 45s\n"
     ]
    },
    {
     "data": {
      "text/plain": [
       "GridSearchCV(estimator=DecisionTreeClassifier(),\n",
       "             param_grid={'max_depth': [1, 2, 3, 4], 'max_features': [1, 2, 3],\n",
       "                         'min_samples_leaf': [1, 2, 3, 4],\n",
       "                         'min_samples_split': [2, 4, 6]})"
      ]
     },
     "execution_count": 39,
     "metadata": {},
     "output_type": "execute_result"
    }
   ],
   "source": [
    "# %%time\n",
    "\n",
    "# dt_gs = GridSearchCV(estimator=DecisionTreeClassifier(),\n",
    "#                     param_grid={\n",
    "#                         'max_depth' : [1,2,3,4],\n",
    "#                         'max_features' : [1,2,3],\n",
    "#                         'min_samples_leaf' : [1,2,3,4],\n",
    "#                         'min_samples_split' : [2, 4, 6]\n",
    "#                     })\n",
    "# dt_gs.fit(X_train_sc, y_train)"
   ]
  },
  {
   "cell_type": "code",
   "execution_count": 41,
   "id": "d0a8a7e3-00b8-4239-a12c-6c58ccd39a0a",
   "metadata": {},
   "outputs": [
    {
     "data": {
      "text/plain": [
       "{'max_depth': 4,\n",
       " 'max_features': 3,\n",
       " 'min_samples_leaf': 3,\n",
       " 'min_samples_split': 2}"
      ]
     },
     "execution_count": 41,
     "metadata": {},
     "output_type": "execute_result"
    }
   ],
   "source": [
    "# dt_gs.best_params_"
   ]
  },
  {
   "cell_type": "code",
   "execution_count": 45,
   "id": "87f34812-fc8c-4a24-85cc-a9a9c006c180",
   "metadata": {},
   "outputs": [
    {
     "data": {
      "text/plain": [
       "0.6364"
      ]
     },
     "execution_count": 45,
     "metadata": {},
     "output_type": "execute_result"
    }
   ],
   "source": [
    "# 0.6364\n",
    "# round(dt_gs.best_score_, 4)"
   ]
  },
  {
   "cell_type": "code",
   "execution_count": 46,
   "id": "9624d0eb-3c80-4386-abdf-a2c9471cde0f",
   "metadata": {},
   "outputs": [
    {
     "data": {
      "text/plain": [
       "0.6203"
      ]
     },
     "execution_count": 46,
     "metadata": {},
     "output_type": "execute_result"
    }
   ],
   "source": [
    "# round(dt_gs.score(X_train_sc, y_train), 4)\n",
    "#0.6203"
   ]
  },
  {
   "cell_type": "code",
   "execution_count": 47,
   "id": "0e7acdae-84c4-46f8-9978-a5c44191d4fe",
   "metadata": {},
   "outputs": [
    {
     "data": {
      "text/plain": [
       "0.6207"
      ]
     },
     "execution_count": 47,
     "metadata": {},
     "output_type": "execute_result"
    }
   ],
   "source": [
    "# round(dt_gs.score(X_test_sc, y_test), 4)\n",
    "# 0.6207"
   ]
  },
  {
   "cell_type": "code",
   "execution_count": 202,
   "id": "9e8c1fc7-9647-43e1-a575-59e95ba4786c",
   "metadata": {},
   "outputs": [],
   "source": [
    "# plot_confusion_matrix(estimator=dt_gs,\n",
    "#                      X=X_test_sc,\n",
    "#                      y_true=y_test) \n",
    "# plt.savefig('../images/dt_first_conf_matrix.png');"
   ]
  },
  {
   "cell_type": "markdown",
   "id": "bf2d55aa-ce8c-4e2b-8b8c-0183de4f0226",
   "metadata": {},
   "source": [
    "#### DT GS 2"
   ]
  },
  {
   "cell_type": "code",
   "execution_count": 143,
   "id": "6aaec5cd-3386-4bb0-808e-fb4479ede74a",
   "metadata": {},
   "outputs": [
    {
     "name": "stdout",
     "output_type": "stream",
     "text": [
      "Fitting 5 folds for each of 192 candidates, totalling 960 fits\n",
      "Wall time: 20min 23s\n"
     ]
    },
    {
     "data": {
      "text/plain": [
       "GridSearchCV(cv=5, estimator=DecisionTreeClassifier(),\n",
       "             param_grid={'max_depth': [3, 4, 5, 6],\n",
       "                         'max_features': [2, 3, 4, 5],\n",
       "                         'min_samples_leaf': [2, 3, 4, 5],\n",
       "                         'min_samples_split': [2, 3, 4]},\n",
       "             verbose=1)"
      ]
     },
     "execution_count": 143,
     "metadata": {},
     "output_type": "execute_result"
    }
   ],
   "source": [
    "%%time\n",
    "\n",
    "dt_gs2 = GridSearchCV(estimator=DecisionTreeClassifier(),\n",
    "                    param_grid={\n",
    "                        'max_depth' : [3,4,5,6],\n",
    "                        'max_features' : [2,3,4,5],\n",
    "                        'min_samples_leaf' : [2,3,4,5],\n",
    "                        'min_samples_split' : [2, 3, 4]\n",
    "                    }, verbose=1, cv=5)\n",
    "dt_gs2.fit(X_train_sc, y_train)"
   ]
  },
  {
   "cell_type": "code",
   "execution_count": 144,
   "id": "9fc813fe-d4b2-4e2f-b40c-fd84477ff669",
   "metadata": {},
   "outputs": [
    {
     "data": {
      "text/plain": [
       "{'max_depth': 6,\n",
       " 'max_features': 5,\n",
       " 'min_samples_leaf': 3,\n",
       " 'min_samples_split': 3}"
      ]
     },
     "execution_count": 144,
     "metadata": {},
     "output_type": "execute_result"
    }
   ],
   "source": [
    "# # dt_gs2.best_params_\n",
    "# {'max_depth': 6,\n",
    "#  'max_features': 5,\n",
    "#  'min_samples_leaf': 3,\n",
    "#  'min_samples_split': 3}"
   ]
  },
  {
   "cell_type": "code",
   "execution_count": 147,
   "id": "03aa8772-2779-45ef-9a37-f99459e21384",
   "metadata": {},
   "outputs": [
    {
     "data": {
      "text/plain": [
       "0.6863"
      ]
     },
     "execution_count": 147,
     "metadata": {},
     "output_type": "execute_result"
    }
   ],
   "source": [
    "#That's better!\n",
    "round(dt_gs2.best_score_, 4)"
   ]
  },
  {
   "cell_type": "code",
   "execution_count": 149,
   "id": "1dcf738b-17d7-4c61-ade6-c36f86e60cd5",
   "metadata": {},
   "outputs": [
    {
     "data": {
      "text/plain": [
       "(0.656002, 0.656002)"
      ]
     },
     "execution_count": 149,
     "metadata": {},
     "output_type": "execute_result"
    }
   ],
   "source": [
    "round(dt_gs2.score(X_train_sc, y_train), 6), round(dt_gs2.score(X_test_sc, y_test), 6)"
   ]
  },
  {
   "cell_type": "code",
   "execution_count": 152,
   "id": "accab5b7-970f-4f0e-b322-c5f3366af9af",
   "metadata": {},
   "outputs": [
    {
     "data": {
      "text/plain": [
       "0.5302"
      ]
     },
     "execution_count": 152,
     "metadata": {},
     "output_type": "execute_result"
    }
   ],
   "source": [
    "#Not the best, still may be under predicting our positive class, but lets check the matrix\n",
    "round(f1_score(y_true=y_test, y_pred=dt_gs2.predict(X_test_sc)), 4)"
   ]
  },
  {
   "cell_type": "code",
   "execution_count": 192,
   "id": "59836f60-2166-4efc-8ab9-e6af3dab0529",
   "metadata": {},
   "outputs": [
    {
     "data": {
      "image/png": "[encoded data removed]",
      "text/plain": [
       "<Figure size 432x288 with 2 Axes>"
      ]
     },
     "metadata": {
      "needs_background": "light"
     },
     "output_type": "display_data"
    }
   ],
   "source": [
    "plot_confusion_matrix(estimator=dt_gs2,\n",
    "                      X=X_test_sc,\n",
    "                      y_true= y_test)\n",
    "plt.savefig('../images/full_dt_conf_matrix.png', bbox_inches = 'tight');"
   ]
  },
  {
   "cell_type": "markdown",
   "id": "d289fc40-4d2e-4355-bb9b-8360b019811e",
   "metadata": {},
   "source": [
    "#### DT Classification Metrics"
   ]
  },
  {
   "cell_type": "code",
   "execution_count": 153,
   "id": "dbb44f0d-85d0-4371-959f-bba7501bed7f",
   "metadata": {},
   "outputs": [
    {
     "data": {
      "text/plain": [
       "0.656"
      ]
     },
     "execution_count": 153,
     "metadata": {},
     "output_type": "execute_result"
    }
   ],
   "source": [
    "round(accuracy_score(y_true=y_test, y_pred=dt_gs2.predict(X_test_sc)), 4)"
   ]
  },
  {
   "cell_type": "code",
   "execution_count": 155,
   "id": "b91a7621-cd23-49c6-be4d-8b967e394a81",
   "metadata": {},
   "outputs": [
    {
     "data": {
      "text/plain": [
       "0.4729"
      ]
     },
     "execution_count": 155,
     "metadata": {},
     "output_type": "execute_result"
    }
   ],
   "source": [
    "#We're still doing better than our baseline\n",
    "round(recall_score(y_true=y_test, y_pred=dt_gs2.predict(X_test_sc)), 4)"
   ]
  },
  {
   "cell_type": "code",
   "execution_count": 154,
   "id": "5f90e305-4347-4c9f-939e-8a1e93aa5369",
   "metadata": {},
   "outputs": [
    {
     "data": {
      "text/plain": [
       "0.6034"
      ]
     },
     "execution_count": 154,
     "metadata": {},
     "output_type": "execute_result"
    }
   ],
   "source": [
    "\n",
    "round(precision_score(y_true=y_test, y_pred=dt_gs2.predict(X_test_sc)), 4)"
   ]
  },
  {
   "cell_type": "markdown",
   "id": "191104a2-3251-4ef6-9bde-5b202cab848b",
   "metadata": {},
   "source": [
    "#### DT Metrics Interpret\n",
    "* We maybe slightly over predicting the number of successful kick returns based on the confusion matrix.\n",
    "* Even so our accuracy, recall, and precision scores are all well above baseline.\n",
    "* We can consider this a success!"
   ]
  },
  {
   "cell_type": "code",
   "execution_count": 161,
   "id": "39543b94-b1e3-46ea-8996-07f342ef0c2a",
   "metadata": {},
   "outputs": [
    {
     "data": {
      "text/html": [
       "<div>\n",
       "<style scoped>\n",
       "    .dataframe tbody tr th:only-of-type {\n",
       "        vertical-align: middle;\n",
       "    }\n",
       "\n",
       "    .dataframe tbody tr th {\n",
       "        vertical-align: top;\n",
       "    }\n",
       "\n",
       "    .dataframe thead th {\n",
       "        text-align: right;\n",
       "    }\n",
       "</style>\n",
       "<table border=\"1\" class=\"dataframe\">\n",
       "  <thead>\n",
       "    <tr style=\"text-align: right;\">\n",
       "      <th></th>\n",
       "      <th>Feature</th>\n",
       "      <th>Coef</th>\n",
       "    </tr>\n",
       "  </thead>\n",
       "  <tbody>\n",
       "    <tr>\n",
       "      <th>0</th>\n",
       "      <td>gameId</td>\n",
       "      <td>0.000000</td>\n",
       "    </tr>\n",
       "    <tr>\n",
       "      <th>1</th>\n",
       "      <td>playId</td>\n",
       "      <td>0.030274</td>\n",
       "    </tr>\n",
       "    <tr>\n",
       "      <th>2</th>\n",
       "      <td>quarter</td>\n",
       "      <td>0.015427</td>\n",
       "    </tr>\n",
       "    <tr>\n",
       "      <th>3</th>\n",
       "      <td>kickerId</td>\n",
       "      <td>0.000000</td>\n",
       "    </tr>\n",
       "    <tr>\n",
       "      <th>4</th>\n",
       "      <td>returnerId</td>\n",
       "      <td>0.022452</td>\n",
       "    </tr>\n",
       "  </tbody>\n",
       "</table>\n",
       "</div>"
      ],
      "text/plain": [
       "      Feature      Coef\n",
       "0      gameId  0.000000\n",
       "1      playId  0.030274\n",
       "2     quarter  0.015427\n",
       "3    kickerId  0.000000\n",
       "4  returnerId  0.022452"
      ]
     },
     "execution_count": 161,
     "metadata": {},
     "output_type": "execute_result"
    }
   ],
   "source": [
    "dt_coefs = pd.DataFrame(zip(X.columns, dt_gs2.best_estimator_.feature_importances_), columns=['Feature', 'Coef'])\n",
    "dt_coefs.head()"
   ]
  },
  {
   "cell_type": "code",
   "execution_count": 163,
   "id": "94bad138-ee47-48dc-bb20-0782a31bce24",
   "metadata": {},
   "outputs": [
    {
     "data": {
      "text/html": [
       "<div>\n",
       "<style scoped>\n",
       "    .dataframe tbody tr th:only-of-type {\n",
       "        vertical-align: middle;\n",
       "    }\n",
       "\n",
       "    .dataframe tbody tr th {\n",
       "        vertical-align: top;\n",
       "    }\n",
       "\n",
       "    .dataframe thead th {\n",
       "        text-align: right;\n",
       "    }\n",
       "</style>\n",
       "<table border=\"1\" class=\"dataframe\">\n",
       "  <thead>\n",
       "    <tr style=\"text-align: right;\">\n",
       "      <th></th>\n",
       "      <th>Feature</th>\n",
       "      <th>Coef</th>\n",
       "    </tr>\n",
       "  </thead>\n",
       "  <tbody>\n",
       "    <tr>\n",
       "      <th>75</th>\n",
       "      <td>returnDirectionActual_C</td>\n",
       "      <td>0.237838</td>\n",
       "    </tr>\n",
       "    <tr>\n",
       "      <th>73</th>\n",
       "      <td>returnDirectionIntended_L</td>\n",
       "      <td>0.115773</td>\n",
       "    </tr>\n",
       "    <tr>\n",
       "      <th>64</th>\n",
       "      <td>kickType_P</td>\n",
       "      <td>0.072741</td>\n",
       "    </tr>\n",
       "    <tr>\n",
       "      <th>71</th>\n",
       "      <td>kickDirectionActual_R</td>\n",
       "      <td>0.055275</td>\n",
       "    </tr>\n",
       "    <tr>\n",
       "      <th>9</th>\n",
       "      <td>kickLength</td>\n",
       "      <td>0.049565</td>\n",
       "    </tr>\n",
       "  </tbody>\n",
       "</table>\n",
       "</div>"
      ],
      "text/plain": [
       "                      Feature      Coef\n",
       "75    returnDirectionActual_C  0.237838\n",
       "73  returnDirectionIntended_L  0.115773\n",
       "64                 kickType_P  0.072741\n",
       "71      kickDirectionActual_R  0.055275\n",
       "9                  kickLength  0.049565"
      ]
     },
     "execution_count": 163,
     "metadata": {},
     "output_type": "execute_result"
    }
   ],
   "source": [
    "#updating to just positive coefs\n",
    "dt_coefs = dt_coefs[dt_coefs['Coef'] > 0]\n",
    "dt_coefs.sort_values('Coef', ascending=False)[0:5]"
   ]
  },
  {
   "cell_type": "code",
   "execution_count": 168,
   "id": "1980d6f8-020a-4e0f-810d-c366e2d322ad",
   "metadata": {},
   "outputs": [
    {
     "data": {
      "text/html": [
       "<div>\n",
       "<style scoped>\n",
       "    .dataframe tbody tr th:only-of-type {\n",
       "        vertical-align: middle;\n",
       "    }\n",
       "\n",
       "    .dataframe tbody tr th {\n",
       "        vertical-align: top;\n",
       "    }\n",
       "\n",
       "    .dataframe thead th {\n",
       "        text-align: right;\n",
       "    }\n",
       "</style>\n",
       "<table border=\"1\" class=\"dataframe\">\n",
       "  <thead>\n",
       "    <tr style=\"text-align: right;\">\n",
       "      <th></th>\n",
       "      <th>Feature</th>\n",
       "      <th>Coef</th>\n",
       "    </tr>\n",
       "  </thead>\n",
       "  <tbody>\n",
       "    <tr>\n",
       "      <th>75</th>\n",
       "      <td>returnDirectionActual_C</td>\n",
       "      <td>0.237838</td>\n",
       "    </tr>\n",
       "    <tr>\n",
       "      <th>73</th>\n",
       "      <td>returnDirectionIntended_L</td>\n",
       "      <td>0.115773</td>\n",
       "    </tr>\n",
       "    <tr>\n",
       "      <th>64</th>\n",
       "      <td>kickType_P</td>\n",
       "      <td>0.072741</td>\n",
       "    </tr>\n",
       "    <tr>\n",
       "      <th>71</th>\n",
       "      <td>kickDirectionActual_R</td>\n",
       "      <td>0.055275</td>\n",
       "    </tr>\n",
       "    <tr>\n",
       "      <th>9</th>\n",
       "      <td>kickLength</td>\n",
       "      <td>0.049565</td>\n",
       "    </tr>\n",
       "  </tbody>\n",
       "</table>\n",
       "</div>"
      ],
      "text/plain": [
       "                      Feature      Coef\n",
       "75    returnDirectionActual_C  0.237838\n",
       "73  returnDirectionIntended_L  0.115773\n",
       "64                 kickType_P  0.072741\n",
       "71      kickDirectionActual_R  0.055275\n",
       "9                  kickLength  0.049565"
      ]
     },
     "execution_count": 168,
     "metadata": {},
     "output_type": "execute_result"
    }
   ],
   "source": [
    "#setting coefs Descending\n",
    "dt_coefs = dt_coefs.sort_values('Coef', ascending=False)\n",
    "dt_coefs.head()"
   ]
  },
  {
   "cell_type": "code",
   "execution_count": 194,
   "id": "2cd8ddd3-5194-4093-99ee-358392148ee3",
   "metadata": {},
   "outputs": [
    {
     "data": {
      "image/png": "[encoded data removed]",
      "text/plain": [
       "<Figure size 1080x720 with 1 Axes>"
      ]
     },
     "metadata": {
      "needs_background": "light"
     },
     "output_type": "display_data"
    }
   ],
   "source": [
    "plt.figure(figsize=(15,10))\n",
    "plt.bar(dt_coefs['Feature'][:10] , dt_coefs['Coef'][:10])\n",
    "plt.xticks(rotation = 30)\n",
    "plt.title('Decision Tree Strongest Coefs for Kick Return Success')\n",
    "plt.savefig('../images/dt_coefs.png', bbox_inches = 'tight');"
   ]
  },
  {
   "cell_type": "code",
   "execution_count": 226,
   "id": "cc04c7e7-8a8e-4f25-983a-f4e53713725b",
   "metadata": {},
   "outputs": [
    {
     "data": {
      "text/plain": [
       "1.2685036785827764"
      ]
     },
     "execution_count": 226,
     "metadata": {},
     "output_type": "execute_result"
    }
   ],
   "source": [
    "np.exp(0.237838)"
   ]
  },
  {
   "cell_type": "code",
   "execution_count": 225,
   "id": "327c8704-8e5a-433a-8dc4-b9e8d49c750f",
   "metadata": {},
   "outputs": [
    {
     "data": {
      "text/plain": [
       "75    0.237838\n",
       "Name: Coef, dtype: float64"
      ]
     },
     "execution_count": 225,
     "metadata": {},
     "output_type": "execute_result"
    }
   ],
   "source": [
    "dt_coefs['Coef'].head(1)"
   ]
  },
  {
   "cell_type": "markdown",
   "id": "ab11c35a-3f64-42d0-95ca-2d6017433323",
   "metadata": {},
   "source": [
    "### Bagged Decision Tree"
   ]
  },
  {
   "cell_type": "code",
   "execution_count": 177,
   "id": "188cce67-b653-4da9-a178-0a44f4f5103c",
   "metadata": {},
   "outputs": [
    {
     "data": {
      "text/plain": [
       "{'base_estimator': None,\n",
       " 'bootstrap': True,\n",
       " 'bootstrap_features': False,\n",
       " 'max_features': 1.0,\n",
       " 'max_samples': 1.0,\n",
       " 'n_estimators': 10,\n",
       " 'n_jobs': None,\n",
       " 'oob_score': False,\n",
       " 'random_state': None,\n",
       " 'verbose': 0,\n",
       " 'warm_start': False}"
      ]
     },
     "execution_count": 177,
     "metadata": {},
     "output_type": "execute_result"
    }
   ],
   "source": [
    "BaggingClassifier().get_params()"
   ]
  },
  {
   "cell_type": "code",
   "execution_count": 179,
   "id": "6c127b64-1099-486a-ac23-4fb3a4924986",
   "metadata": {},
   "outputs": [
    {
     "name": "stdout",
     "output_type": "stream",
     "text": [
      "Fitting 5 folds for each of 96 candidates, totalling 480 fits\n",
      "Wall time: 21min 13s\n"
     ]
    },
    {
     "data": {
      "text/plain": [
       "GridSearchCV(cv=5, estimator=BaggingClassifier(),\n",
       "             param_grid={'max_features': [2, 3, 4, 5],\n",
       "                         'max_samples': [2, 3, 4, 5],\n",
       "                         'n_estimators': range(10, 36, 5)},\n",
       "             verbose=1)"
      ]
     },
     "execution_count": 179,
     "metadata": {},
     "output_type": "execute_result"
    }
   ],
   "source": [
    "%%time\n",
    "\n",
    "bg_gs = GridSearchCV(estimator=BaggingClassifier(),\n",
    "                    param_grid={\n",
    "                        'max_features' : [2,3,4,5],\n",
    "                        'max_samples' : [2,3,4,5],\n",
    "                        'n_estimators' : range(10,36,5)\n",
    "                    }, verbose=1, cv=5)\n",
    "bg_gs.fit(X_train_sc, y_train)"
   ]
  },
  {
   "cell_type": "code",
   "execution_count": 180,
   "id": "b3f4fa68-73d6-4913-b9e4-af9a74388129",
   "metadata": {},
   "outputs": [
    {
     "data": {
      "text/plain": [
       "{'max_features': 5, 'max_samples': 3, 'n_estimators': 30}"
      ]
     },
     "execution_count": 180,
     "metadata": {},
     "output_type": "execute_result"
    }
   ],
   "source": [
    "bg_gs.best_params_"
   ]
  },
  {
   "cell_type": "code",
   "execution_count": 181,
   "id": "c730b4b2-13d6-4dc3-b6e4-215e5ea254b1",
   "metadata": {},
   "outputs": [
    {
     "data": {
      "text/plain": [
       "0.5954981170761522"
      ]
     },
     "execution_count": 181,
     "metadata": {},
     "output_type": "execute_result"
    }
   ],
   "source": [
    "bg_gs.best_score_"
   ]
  },
  {
   "cell_type": "code",
   "execution_count": 182,
   "id": "91a5f355-c478-4b1b-acdc-ee1fd5be05cc",
   "metadata": {},
   "outputs": [
    {
     "data": {
      "text/plain": [
       "(0.593, 0.5934)"
      ]
     },
     "execution_count": 182,
     "metadata": {},
     "output_type": "execute_result"
    }
   ],
   "source": [
    "round(bg_gs.score(X_train_sc, y_train), 4) , round(bg_gs.score(X_test_sc, y_test), 4)"
   ]
  },
  {
   "cell_type": "code",
   "execution_count": 183,
   "id": "56d3c11f-035d-4254-b98c-8518baa9c93e",
   "metadata": {},
   "outputs": [
    {
     "data": {
      "text/plain": [
       "0.0734"
      ]
     },
     "execution_count": 183,
     "metadata": {},
     "output_type": "execute_result"
    }
   ],
   "source": [
    "round(f1_score(y_true=y_test, y_pred=bg_gs.predict(X_test_sc)), 4)"
   ]
  },
  {
   "cell_type": "code",
   "execution_count": 197,
   "id": "fdbddcfe-906c-4ae3-a7c1-dfeb60655d51",
   "metadata": {},
   "outputs": [
    {
     "data": {
      "image/png": "[encoded data removed]",
      "text/plain": [
       "<Figure size 432x288 with 2 Axes>"
      ]
     },
     "metadata": {
      "needs_background": "light"
     },
     "output_type": "display_data"
    }
   ],
   "source": [
    "plot_confusion_matrix(estimator=bg_gs, X=X_test, y_true= y_test)\n",
    "plt.savefig('../images/bg_dt_conf_matrix.png', bbox_inches = 'tight');"
   ]
  },
  {
   "cell_type": "markdown",
   "id": "24828f55-5c6f-4423-99a5-cfa5de132743",
   "metadata": {},
   "source": [
    "#### Bag Class Interp\n",
    "Bagging classifier suffers from the same issues as the logistic regression in not predicting the positive class"
   ]
  },
  {
   "cell_type": "markdown",
   "id": "75beaf80-393a-44b9-a716-c1b2db4a7f0c",
   "metadata": {},
   "source": [
    "### Random Forest Classifier"
   ]
  },
  {
   "cell_type": "code",
   "execution_count": 186,
   "id": "a4a6c57c-27d2-4a0e-9b11-4d2e9bbe2dd3",
   "metadata": {},
   "outputs": [
    {
     "data": {
      "text/plain": [
       "{'bootstrap': True,\n",
       " 'ccp_alpha': 0.0,\n",
       " 'class_weight': None,\n",
       " 'criterion': 'gini',\n",
       " 'max_depth': None,\n",
       " 'max_features': 'auto',\n",
       " 'max_leaf_nodes': None,\n",
       " 'max_samples': None,\n",
       " 'min_impurity_decrease': 0.0,\n",
       " 'min_impurity_split': None,\n",
       " 'min_samples_leaf': 1,\n",
       " 'min_samples_split': 2,\n",
       " 'min_weight_fraction_leaf': 0.0,\n",
       " 'n_estimators': 100,\n",
       " 'n_jobs': None,\n",
       " 'oob_score': False,\n",
       " 'random_state': None,\n",
       " 'verbose': 0,\n",
       " 'warm_start': False}"
      ]
     },
     "execution_count": 186,
     "metadata": {},
     "output_type": "execute_result"
    }
   ],
   "source": [
    "RandomForestClassifier().get_params()"
   ]
  },
  {
   "cell_type": "code",
   "execution_count": 216,
   "id": "adb6b632-39b6-4fb9-bebf-7ad0961e8f25",
   "metadata": {},
   "outputs": [],
   "source": [
    "# %%time\n",
    "\n",
    "# rf_gs = GridSearchCV(estimator=RandomForestClassifier(),\n",
    "#                     param_grid={\n",
    "#                         'max_depth' : [None, 1, 2, 3],\n",
    "#                         'max_features' : [2,3,4,5],\n",
    "#                         'n_estimators' : [100, 200, 300],\n",
    "#                         'ccp_alpha' : [0, .001, .001, .01, 1]\n",
    "#                     }, verbose=1, cv=5)\n",
    "# rf_gs.fit(X_train_sc, y_train)"
   ]
  },
  {
   "cell_type": "code",
   "execution_count": null,
   "id": "84756606-6919-4129-9562-da365ba5ea47",
   "metadata": {},
   "outputs": [],
   "source": []
  }
 ],
 "metadata": {
  "kernelspec": {
   "display_name": "Python 3",
   "language": "python",
   "name": "python3"
  },
  "language_info": {
   "codemirror_mode": {
    "name": "ipython",
    "version": 3
   },
   "file_extension": ".py",
   "mimetype": "text/x-python",
   "name": "python",
   "nbconvert_exporter": "python",
   "pygments_lexer": "ipython3",
   "version": "3.8.8"
  }
 },
 "nbformat": 4,
 "nbformat_minor": 5
}
