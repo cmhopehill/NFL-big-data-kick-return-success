{
 "cells": [
  {
   "cell_type": "code",
   "execution_count": 38,
   "id": "f7f91324-d493-4c6a-915d-d7556b82481d",
   "metadata": {},
   "outputs": [],
   "source": [
    "import pandas as pd\n",
    "pd.set_option('display.max_columns', None)\n",
    "pd.set_option('display.max_colwidth' ,999)\n",
    "\n",
    "import numpy as np\n",
    "import matplotlib.pyplot as plt\n",
    "\n",
    "from sklearn.model_selection import train_test_split, GridSearchCV\n",
    "from sklearn.preprocessing import StandardScaler, Binarizer\n",
    "from sklearn.metrics import plot_confusion_matrix, classification_report, f1_score, mean_squared_error, accuracy_score, precision_score, recall_score\n",
    "\n",
    "from sklearn.tree import DecisionTreeClassifier\n",
    "from sklearn.ensemble import RandomForestClassifier, BaggingClassifier, AdaBoostClassifier, GradientBoostingClassifier, VotingClassifier\n",
    "from sklearn.linear_model import LogisticRegression, LinearRegression\n",
    "from sklearn.neighbors import KNeighborsClassifier\n",
    "\n",
    "np.random.seed(3792)"
   ]
  },
  {
   "cell_type": "code",
   "execution_count": 2,
   "id": "a20ab5ad-1c66-4ad6-9f98-558d86a4dc94",
   "metadata": {},
   "outputs": [
    {
     "data": {
      "text/html": [
       "<div>\n",
       "<style scoped>\n",
       "    .dataframe tbody tr th:only-of-type {\n",
       "        vertical-align: middle;\n",
       "    }\n",
       "\n",
       "    .dataframe tbody tr th {\n",
       "        vertical-align: top;\n",
       "    }\n",
       "\n",
       "    .dataframe thead th {\n",
       "        text-align: right;\n",
       "    }\n",
       "</style>\n",
       "<table border=\"1\" class=\"dataframe\">\n",
       "  <thead>\n",
       "    <tr style=\"text-align: right;\">\n",
       "      <th></th>\n",
       "      <th>gameId</th>\n",
       "      <th>playId</th>\n",
       "      <th>playDescription</th>\n",
       "      <th>quarter</th>\n",
       "      <th>possessionTeam</th>\n",
       "      <th>kickerId</th>\n",
       "      <th>returnerId</th>\n",
       "      <th>yardlineSide</th>\n",
       "      <th>yardlineNumber</th>\n",
       "      <th>gameClock</th>\n",
       "      <th>penaltyCodes</th>\n",
       "      <th>penaltyJerseyNumbers</th>\n",
       "      <th>penaltyYards</th>\n",
       "      <th>preSnapHomeScore</th>\n",
       "      <th>preSnapVisitorScore</th>\n",
       "      <th>kickLength</th>\n",
       "      <th>kickReturnYardage</th>\n",
       "      <th>absoluteYardlineNumber</th>\n",
       "      <th>hangTime</th>\n",
       "      <th>kickType</th>\n",
       "      <th>kickDirectionIntended</th>\n",
       "      <th>kickDirectionActual</th>\n",
       "      <th>returnDirectionIntended</th>\n",
       "      <th>returnDirectionActual</th>\n",
       "      <th>missedTackler</th>\n",
       "      <th>assistTackler</th>\n",
       "      <th>tackler</th>\n",
       "      <th>kickoffReturnFormation</th>\n",
       "      <th>specialTeamsSafeties</th>\n",
       "    </tr>\n",
       "  </thead>\n",
       "  <tbody>\n",
       "    <tr>\n",
       "      <th>0</th>\n",
       "      <td>2018090600</td>\n",
       "      <td>677</td>\n",
       "      <td>M.Bosher kicks 64 yards from ATL 35 to PHI 1. S.Gibson to PHI 31 for 30 yards (D.Kazee, D.Riley).</td>\n",
       "      <td>1</td>\n",
       "      <td>ATL</td>\n",
       "      <td>37267.0</td>\n",
       "      <td>44979</td>\n",
       "      <td>ATL</td>\n",
       "      <td>35</td>\n",
       "      <td>05:01:00</td>\n",
       "      <td>NP</td>\n",
       "      <td>NP</td>\n",
       "      <td>0</td>\n",
       "      <td>0</td>\n",
       "      <td>3</td>\n",
       "      <td>64.0</td>\n",
       "      <td>30.0</td>\n",
       "      <td>75</td>\n",
       "      <td>4.06</td>\n",
       "      <td>D</td>\n",
       "      <td>R</td>\n",
       "      <td>R</td>\n",
       "      <td>C</td>\n",
       "      <td>C</td>\n",
       "      <td>ATL 83</td>\n",
       "      <td>ATL 22</td>\n",
       "      <td>ATL 27</td>\n",
       "      <td>8-0-2</td>\n",
       "      <td>ATL 17; ATL 22</td>\n",
       "    </tr>\n",
       "  </tbody>\n",
       "</table>\n",
       "</div>"
      ],
      "text/plain": [
       "       gameId  playId  \\\n",
       "0  2018090600     677   \n",
       "\n",
       "                                                                                     playDescription  \\\n",
       "0  M.Bosher kicks 64 yards from ATL 35 to PHI 1. S.Gibson to PHI 31 for 30 yards (D.Kazee, D.Riley).   \n",
       "\n",
       "   quarter possessionTeam  kickerId returnerId yardlineSide  yardlineNumber  \\\n",
       "0        1            ATL   37267.0      44979          ATL              35   \n",
       "\n",
       "  gameClock penaltyCodes penaltyJerseyNumbers  penaltyYards  preSnapHomeScore  \\\n",
       "0  05:01:00           NP                   NP             0                 0   \n",
       "\n",
       "   preSnapVisitorScore  kickLength  kickReturnYardage  absoluteYardlineNumber  \\\n",
       "0                    3        64.0               30.0                      75   \n",
       "\n",
       "   hangTime kickType kickDirectionIntended kickDirectionActual  \\\n",
       "0      4.06        D                     R                   R   \n",
       "\n",
       "  returnDirectionIntended returnDirectionActual missedTackler assistTackler  \\\n",
       "0                       C                     C        ATL 83        ATL 22   \n",
       "\n",
       "  tackler kickoffReturnFormation specialTeamsSafeties  \n",
       "0  ATL 27                  8-0-2       ATL 17; ATL 22  "
      ]
     },
     "execution_count": 2,
     "metadata": {},
     "output_type": "execute_result"
    }
   ],
   "source": [
    "kickoff_df = pd.read_csv('../data/kickoff_no_nulls.csv')\n",
    "kickoff_df.drop(columns ='Unnamed: 0', inplace=True)\n",
    "kickoff_df.head(1)"
   ]
  },
  {
   "cell_type": "markdown",
   "id": "2baff309-7f6d-4287-9d09-3f138988e8e9",
   "metadata": {},
   "source": [
    "## Linear Regression \n",
    "Running a simple Linear Regression to check the complexity of the current data"
   ]
  },
  {
   "cell_type": "code",
   "execution_count": 3,
   "id": "da2904e9-56bd-4006-9399-f0734442a84b",
   "metadata": {},
   "outputs": [
    {
     "data": {
      "text/html": [
       "<div>\n",
       "<style scoped>\n",
       "    .dataframe tbody tr th:only-of-type {\n",
       "        vertical-align: middle;\n",
       "    }\n",
       "\n",
       "    .dataframe tbody tr th {\n",
       "        vertical-align: top;\n",
       "    }\n",
       "\n",
       "    .dataframe thead th {\n",
       "        text-align: right;\n",
       "    }\n",
       "</style>\n",
       "<table border=\"1\" class=\"dataframe\">\n",
       "  <thead>\n",
       "    <tr style=\"text-align: right;\">\n",
       "      <th></th>\n",
       "      <th>gameId</th>\n",
       "      <th>playId</th>\n",
       "      <th>quarter</th>\n",
       "      <th>kickerId</th>\n",
       "      <th>yardlineNumber</th>\n",
       "      <th>penaltyYards</th>\n",
       "      <th>preSnapHomeScore</th>\n",
       "      <th>preSnapVisitorScore</th>\n",
       "      <th>kickLength</th>\n",
       "      <th>kickReturnYardage</th>\n",
       "      <th>absoluteYardlineNumber</th>\n",
       "      <th>hangTime</th>\n",
       "    </tr>\n",
       "  </thead>\n",
       "  <tbody>\n",
       "    <tr>\n",
       "      <th>0</th>\n",
       "      <td>2018090600</td>\n",
       "      <td>677</td>\n",
       "      <td>1</td>\n",
       "      <td>37267.0</td>\n",
       "      <td>35</td>\n",
       "      <td>0</td>\n",
       "      <td>0</td>\n",
       "      <td>3</td>\n",
       "      <td>64.0</td>\n",
       "      <td>30.0</td>\n",
       "      <td>75</td>\n",
       "      <td>4.06</td>\n",
       "    </tr>\n",
       "    <tr>\n",
       "      <th>1</th>\n",
       "      <td>2018090600</td>\n",
       "      <td>1606</td>\n",
       "      <td>2</td>\n",
       "      <td>37267.0</td>\n",
       "      <td>35</td>\n",
       "      <td>5</td>\n",
       "      <td>3</td>\n",
       "      <td>6</td>\n",
       "      <td>68.0</td>\n",
       "      <td>13.0</td>\n",
       "      <td>45</td>\n",
       "      <td>3.63</td>\n",
       "    </tr>\n",
       "    <tr>\n",
       "      <th>2</th>\n",
       "      <td>2018090900</td>\n",
       "      <td>36</td>\n",
       "      <td>1</td>\n",
       "      <td>33469.0</td>\n",
       "      <td>35</td>\n",
       "      <td>0</td>\n",
       "      <td>0</td>\n",
       "      <td>0</td>\n",
       "      <td>69.0</td>\n",
       "      <td>24.0</td>\n",
       "      <td>75</td>\n",
       "      <td>3.83</td>\n",
       "    </tr>\n",
       "    <tr>\n",
       "      <th>3</th>\n",
       "      <td>2018090900</td>\n",
       "      <td>400</td>\n",
       "      <td>1</td>\n",
       "      <td>39470.0</td>\n",
       "      <td>35</td>\n",
       "      <td>0</td>\n",
       "      <td>7</td>\n",
       "      <td>0</td>\n",
       "      <td>61.0</td>\n",
       "      <td>28.0</td>\n",
       "      <td>45</td>\n",
       "      <td>4.21</td>\n",
       "    </tr>\n",
       "    <tr>\n",
       "      <th>4</th>\n",
       "      <td>2018090900</td>\n",
       "      <td>1992</td>\n",
       "      <td>2</td>\n",
       "      <td>39470.0</td>\n",
       "      <td>35</td>\n",
       "      <td>0</td>\n",
       "      <td>20</td>\n",
       "      <td>0</td>\n",
       "      <td>65.0</td>\n",
       "      <td>25.0</td>\n",
       "      <td>75</td>\n",
       "      <td>3.99</td>\n",
       "    </tr>\n",
       "  </tbody>\n",
       "</table>\n",
       "</div>"
      ],
      "text/plain": [
       "       gameId  playId  quarter  kickerId  yardlineNumber  penaltyYards  \\\n",
       "0  2018090600     677        1   37267.0              35             0   \n",
       "1  2018090600    1606        2   37267.0              35             5   \n",
       "2  2018090900      36        1   33469.0              35             0   \n",
       "3  2018090900     400        1   39470.0              35             0   \n",
       "4  2018090900    1992        2   39470.0              35             0   \n",
       "\n",
       "   preSnapHomeScore  preSnapVisitorScore  kickLength  kickReturnYardage  \\\n",
       "0                 0                    3        64.0               30.0   \n",
       "1                 3                    6        68.0               13.0   \n",
       "2                 0                    0        69.0               24.0   \n",
       "3                 7                    0        61.0               28.0   \n",
       "4                20                    0        65.0               25.0   \n",
       "\n",
       "   absoluteYardlineNumber  hangTime  \n",
       "0                      75      4.06  \n",
       "1                      45      3.63  \n",
       "2                      75      3.83  \n",
       "3                      45      4.21  \n",
       "4                      75      3.99  "
      ]
     },
     "execution_count": 3,
     "metadata": {},
     "output_type": "execute_result"
    }
   ],
   "source": [
    "numerics = ['uint8', 'float64', 'int64', 'int32', 'float16', 'float32']\n",
    "\n",
    "kickoff_numerics = kickoff_df.select_dtypes(include=numerics)\n",
    "kickoff_numerics.head()"
   ]
  },
  {
   "cell_type": "code",
   "execution_count": 4,
   "id": "37237012-7c61-4b8e-8840-3a3873d35082",
   "metadata": {},
   "outputs": [],
   "source": [
    "X = kickoff_numerics.drop(columns='kickReturnYardage')\n",
    "y = kickoff_numerics['kickReturnYardage']\n",
    "\n",
    "X_train, X_test, y_train, y_test = train_test_split(X, y,\n",
    "                                                   random_state=3792,\n",
    "                                                   train_size=.75)"
   ]
  },
  {
   "cell_type": "code",
   "execution_count": 5,
   "id": "7bb632c8-7095-4bc1-87f9-a18b0f4bdff1",
   "metadata": {},
   "outputs": [],
   "source": [
    "lr = LinearRegression()"
   ]
  },
  {
   "cell_type": "code",
   "execution_count": 6,
   "id": "47866100-683c-4522-8ad2-9cbc40b30da6",
   "metadata": {},
   "outputs": [
    {
     "data": {
      "text/plain": [
       "LinearRegression()"
      ]
     },
     "execution_count": 6,
     "metadata": {},
     "output_type": "execute_result"
    }
   ],
   "source": [
    "lr.fit(X_train, y_train)"
   ]
  },
  {
   "cell_type": "code",
   "execution_count": 7,
   "id": "39bfb4a8-addf-4fd6-8905-5bd80653c6db",
   "metadata": {},
   "outputs": [
    {
     "data": {
      "text/plain": [
       "(0.16735258276269638, 0.13094927683547275)"
      ]
     },
     "execution_count": 7,
     "metadata": {},
     "output_type": "execute_result"
    }
   ],
   "source": [
    "lr.score(X_train, y_train) , lr.score(X_test, y_test)"
   ]
  },
  {
   "cell_type": "code",
   "execution_count": 8,
   "id": "8a7916ee-7777-485a-9c37-126621741048",
   "metadata": {},
   "outputs": [
    {
     "data": {
      "text/plain": [
       "1.6204470736997851"
      ]
     },
     "execution_count": 8,
     "metadata": {},
     "output_type": "execute_result"
    }
   ],
   "source": [
    "lr.coef_[2]"
   ]
  },
  {
   "cell_type": "code",
   "execution_count": 9,
   "id": "84421814-58e6-4d19-8c1c-507aa8fc5696",
   "metadata": {},
   "outputs": [
    {
     "data": {
      "text/html": [
       "<div>\n",
       "<style scoped>\n",
       "    .dataframe tbody tr th:only-of-type {\n",
       "        vertical-align: middle;\n",
       "    }\n",
       "\n",
       "    .dataframe tbody tr th {\n",
       "        vertical-align: top;\n",
       "    }\n",
       "\n",
       "    .dataframe thead th {\n",
       "        text-align: right;\n",
       "    }\n",
       "</style>\n",
       "<table border=\"1\" class=\"dataframe\">\n",
       "  <thead>\n",
       "    <tr style=\"text-align: right;\">\n",
       "      <th></th>\n",
       "      <th>Feature</th>\n",
       "      <th>Coef</th>\n",
       "    </tr>\n",
       "  </thead>\n",
       "  <tbody>\n",
       "    <tr>\n",
       "      <th>0</th>\n",
       "      <td>gameId</td>\n",
       "      <td>-1.766379e-07</td>\n",
       "    </tr>\n",
       "    <tr>\n",
       "      <th>1</th>\n",
       "      <td>playId</td>\n",
       "      <td>-1.036489e-03</td>\n",
       "    </tr>\n",
       "    <tr>\n",
       "      <th>2</th>\n",
       "      <td>quarter</td>\n",
       "      <td>1.620447e+00</td>\n",
       "    </tr>\n",
       "    <tr>\n",
       "      <th>3</th>\n",
       "      <td>kickerId</td>\n",
       "      <td>-1.564126e-04</td>\n",
       "    </tr>\n",
       "    <tr>\n",
       "      <th>4</th>\n",
       "      <td>yardlineNumber</td>\n",
       "      <td>1.356343e-01</td>\n",
       "    </tr>\n",
       "    <tr>\n",
       "      <th>5</th>\n",
       "      <td>penaltyYards</td>\n",
       "      <td>-2.819545e-01</td>\n",
       "    </tr>\n",
       "    <tr>\n",
       "      <th>6</th>\n",
       "      <td>preSnapHomeScore</td>\n",
       "      <td>-4.391865e-02</td>\n",
       "    </tr>\n",
       "    <tr>\n",
       "      <th>7</th>\n",
       "      <td>preSnapVisitorScore</td>\n",
       "      <td>-4.008917e-02</td>\n",
       "    </tr>\n",
       "    <tr>\n",
       "      <th>8</th>\n",
       "      <td>kickLength</td>\n",
       "      <td>7.159659e-01</td>\n",
       "    </tr>\n",
       "    <tr>\n",
       "      <th>9</th>\n",
       "      <td>absoluteYardlineNumber</td>\n",
       "      <td>-1.022048e-02</td>\n",
       "    </tr>\n",
       "    <tr>\n",
       "      <th>10</th>\n",
       "      <td>hangTime</td>\n",
       "      <td>-2.838505e-01</td>\n",
       "    </tr>\n",
       "  </tbody>\n",
       "</table>\n",
       "</div>"
      ],
      "text/plain": [
       "                   Feature          Coef\n",
       "0                   gameId -1.766379e-07\n",
       "1                   playId -1.036489e-03\n",
       "2                  quarter  1.620447e+00\n",
       "3                 kickerId -1.564126e-04\n",
       "4           yardlineNumber  1.356343e-01\n",
       "5             penaltyYards -2.819545e-01\n",
       "6         preSnapHomeScore -4.391865e-02\n",
       "7      preSnapVisitorScore -4.008917e-02\n",
       "8               kickLength  7.159659e-01\n",
       "9   absoluteYardlineNumber -1.022048e-02\n",
       "10                hangTime -2.838505e-01"
      ]
     },
     "execution_count": 9,
     "metadata": {},
     "output_type": "execute_result"
    }
   ],
   "source": [
    "pd.DataFrame(zip( X.columns, lr.coef_), \n",
    "             columns=['Feature', 'Coef'])"
   ]
  },
  {
   "cell_type": "code",
   "execution_count": 10,
   "id": "81f17109-5357-40f3-b437-64e6bc61473c",
   "metadata": {},
   "outputs": [
    {
     "data": {
      "text/plain": [
       "9.1482"
      ]
     },
     "execution_count": 10,
     "metadata": {},
     "output_type": "execute_result"
    }
   ],
   "source": [
    "round((mean_squared_error(y_true=y_test, y_pred=lr.predict(X_test)) ** .5), 4)"
   ]
  },
  {
   "cell_type": "markdown",
   "id": "d26e265a-9c40-48eb-966a-f8cdbdcd7eaf",
   "metadata": {},
   "source": [
    "### Interpretation\n",
    "* I ran a simple Linear Regression to see if I have enough information or complexity in the dataset. Results seem to indicate that I probably need to add in more data from the other files and likely need to look at tracking data. \n",
    "* All that said lets look at a simple binary Logistic Regression as well to further check the complexity"
   ]
  },
  {
   "cell_type": "markdown",
   "id": "70084235-51e0-46fb-8d9c-dcad29d8431a",
   "metadata": {},
   "source": [
    "## Logisitc Regression\n",
    "* Setting a successful return as a kick return that gains 25 or more yards."
   ]
  },
  {
   "cell_type": "code",
   "execution_count": null,
   "id": "c9ae8a1c-a450-4a6c-a2ee-56849091e608",
   "metadata": {},
   "outputs": [],
   "source": [
    "kickoff_numerics['kickReturnYardage'] = kickoff_numerics.kickReturnYardage.map(lambda kickReturnYardage : 1 if kickReturnYardage > 25 else 0)\n",
    "kickoff_numerics.head()"
   ]
  },
  {
   "cell_type": "code",
   "execution_count": 46,
   "id": "dcc79c12-0f71-4f00-92e4-11b1a876bc4f",
   "metadata": {},
   "outputs": [
    {
     "data": {
      "text/plain": [
       "0    0.700606\n",
       "1    0.299394\n",
       "Name: kickReturnYardage, dtype: float64"
      ]
     },
     "execution_count": 46,
     "metadata": {},
     "output_type": "execute_result"
    }
   ],
   "source": [
    "#baseline \n",
    "kickoff_numerics['kickReturnYardage'].value_counts(normalize=True)"
   ]
  },
  {
   "cell_type": "markdown",
   "id": "309d00c2-90a2-4629-87ab-c3dbf10f07f3",
   "metadata": {},
   "source": [
    "So our Baseline model would predict an unsuccessful kickoff return on ~70% of our returns."
   ]
  },
  {
   "cell_type": "code",
   "execution_count": 40,
   "id": "4af38d65-d9fd-4a8c-8181-905c70a7d493",
   "metadata": {},
   "outputs": [],
   "source": [
    "#Train test split to .8 to .2 due to the smaller data set, I want to give the training set as much to train on\n",
    "X = kickoff_numerics.drop(columns='kickReturnYardage')\n",
    "y = kickoff_numerics['kickReturnYardage']\n",
    "\n",
    "X_train, X_test, y_train, y_test = train_test_split(X, y,\n",
    "                                                   random_state=3792,\n",
    "                                                   train_size= .8,\n",
    "                                                   stratify= y)"
   ]
  },
  {
   "cell_type": "code",
   "execution_count": 52,
   "id": "e0ff4dcc-e02d-46c5-8170-c280a4c57af3",
   "metadata": {},
   "outputs": [
    {
     "data": {
      "text/plain": [
       "(0    1480\n",
       " 1     633\n",
       " Name: kickReturnYardage, dtype: int64,\n",
       " 0    0.700426\n",
       " 1    0.299574\n",
       " Name: kickReturnYardage, dtype: float64)"
      ]
     },
     "execution_count": 52,
     "metadata": {},
     "output_type": "execute_result"
    }
   ],
   "source": [
    "y_train.value_counts() , y_train.value_counts(normalize=True)"
   ]
  },
  {
   "cell_type": "code",
   "execution_count": 51,
   "id": "6a47d285-eb49-487b-89bd-68ea14834ee6",
   "metadata": {},
   "outputs": [
    {
     "data": {
      "text/plain": [
       "(0    371\n",
       " 1    158\n",
       " Name: kickReturnYardage, dtype: int64,\n",
       " 0    0.701323\n",
       " 1    0.298677\n",
       " Name: kickReturnYardage, dtype: float64)"
      ]
     },
     "execution_count": 51,
     "metadata": {},
     "output_type": "execute_result"
    }
   ],
   "source": [
    "y_test.value_counts() , y_test.value_counts(normalize=True)"
   ]
  },
  {
   "cell_type": "markdown",
   "id": "2b66136e-43a6-4eb9-ad28-de2b8339d46a",
   "metadata": {},
   "source": [
    "Distribution of successful : not is essentially the same for train and test."
   ]
  },
  {
   "cell_type": "code",
   "execution_count": 41,
   "id": "00ee31ba-dcbb-4f5e-a576-06134d1e4ccb",
   "metadata": {},
   "outputs": [
    {
     "data": {
      "text/plain": [
       "LogisticRegression()"
      ]
     },
     "execution_count": 41,
     "metadata": {},
     "output_type": "execute_result"
    }
   ],
   "source": [
    "log_reg = LogisticRegression()\n",
    "log_reg.fit(X=X_train, y=y_train)"
   ]
  },
  {
   "cell_type": "code",
   "execution_count": 42,
   "id": "3a37f023-633a-4221-a6f3-6a547db2be5b",
   "metadata": {},
   "outputs": [
    {
     "data": {
      "text/plain": [
       "0.7004"
      ]
     },
     "execution_count": 42,
     "metadata": {},
     "output_type": "execute_result"
    }
   ],
   "source": [
    "round(log_reg.score(X_train, y_train), 4)"
   ]
  },
  {
   "cell_type": "code",
   "execution_count": 43,
   "id": "b6f242f7-72a7-4bfb-a42e-9dcb9f90043f",
   "metadata": {},
   "outputs": [
    {
     "data": {
      "text/plain": [
       "0.7013"
      ]
     },
     "execution_count": 43,
     "metadata": {},
     "output_type": "execute_result"
    }
   ],
   "source": [
    "round(log_reg.score(X_test, y_test), 4)"
   ]
  },
  {
   "cell_type": "code",
   "execution_count": 44,
   "id": "c445f441-0ded-44ce-b7e6-222ee8bde2d2",
   "metadata": {},
   "outputs": [
    {
     "data": {
      "text/plain": [
       "0.0"
      ]
     },
     "execution_count": 44,
     "metadata": {},
     "output_type": "execute_result"
    }
   ],
   "source": [
    "f1_score(y_true=y_test, y_pred= log_reg.predict(X_test))"
   ]
  },
  {
   "cell_type": "code",
   "execution_count": 45,
   "id": "16899ffa-bc5a-4870-8b41-b150e918c5f1",
   "metadata": {},
   "outputs": [
    {
     "data": {
      "image/png": "[encoded data removed]",
      "text/plain": [
       "<Figure size 432x288 with 2 Axes>"
      ]
     },
     "metadata": {
      "needs_background": "light"
     },
     "output_type": "display_data"
    }
   ],
   "source": [
    "plot_confusion_matrix(estimator=log_reg,\n",
    "                      X=X_test, \n",
    "                      y_true=y_test);"
   ]
  },
  {
   "cell_type": "markdown",
   "id": "ac1a72fb-6bad-4316-930c-e489a240b4f8",
   "metadata": {},
   "source": [
    "### Simple Log Reg Interpretation\n",
    "We have a number of problems with our current model:\n",
    "1. Our biggest issue is that WE AREN'T PREDICTING our positive class at all!\n",
    "1. Our train and test scores are nearly identical so we can definitely add in more complexity."
   ]
  },
  {
   "cell_type": "code",
   "execution_count": null,
   "id": "c4d34271-c897-480b-912e-5ad1715bbed2",
   "metadata": {},
   "outputs": [],
   "source": []
  }
 ],
 "metadata": {
  "kernelspec": {
   "display_name": "Python 3",
   "language": "python",
   "name": "python3"
  },
  "language_info": {
   "codemirror_mode": {
    "name": "ipython",
    "version": 3
   },
   "file_extension": ".py",
   "mimetype": "text/x-python",
   "name": "python",
   "nbconvert_exporter": "python",
   "pygments_lexer": "ipython3",
   "version": "3.8.8"
  }
 },
 "nbformat": 4,
 "nbformat_minor": 5
}
