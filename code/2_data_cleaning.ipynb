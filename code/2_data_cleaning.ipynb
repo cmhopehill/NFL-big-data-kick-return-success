{
 "cells": [
  {
   "cell_type": "markdown",
   "id": "a38ef08f-2905-49aa-a029-602296df4e39",
   "metadata": {},
   "source": [
    "# Data Cleaning"
   ]
  },
  {
   "cell_type": "code",
   "execution_count": 1,
   "id": "944cd835-498b-4749-9eab-f69e3ff87514",
   "metadata": {},
   "outputs": [],
   "source": [
    "import datetime as dt\n",
    "\n",
    "import pandas as pd\n",
    "pd.set_option('display.max_columns', None)\n",
    "pd.set_option('display.max_colwidth' ,999)\n",
    "\n",
    "import numpy as np\n",
    "import matplotlib.pyplot as plt\n",
    "import seaborn as sns\n",
    "\n",
    "np.random.seed(3792)"
   ]
  },
  {
   "cell_type": "code",
   "execution_count": 4,
   "id": "d1b9bd16-367d-4052-a476-3a24ff671c67",
   "metadata": {},
   "outputs": [],
   "source": [
    "#Initial Datasets\n",
    "kickoff_df = pd.read_csv('../data/kickoff_plays.csv')\n",
    "punt_df = pd.read_csv('../data/punt_plays.csv')"
   ]
  },
  {
   "cell_type": "code",
   "execution_count": 5,
   "id": "a6669ffe-8882-4ce0-87ce-bf6ebb5531b3",
   "metadata": {},
   "outputs": [
    {
     "data": {
      "text/html": [
       "<div>\n",
       "<style scoped>\n",
       "    .dataframe tbody tr th:only-of-type {\n",
       "        vertical-align: middle;\n",
       "    }\n",
       "\n",
       "    .dataframe tbody tr th {\n",
       "        vertical-align: top;\n",
       "    }\n",
       "\n",
       "    .dataframe thead th {\n",
       "        text-align: right;\n",
       "    }\n",
       "</style>\n",
       "<table border=\"1\" class=\"dataframe\">\n",
       "  <thead>\n",
       "    <tr style=\"text-align: right;\">\n",
       "      <th></th>\n",
       "      <th>gameId</th>\n",
       "      <th>playId</th>\n",
       "      <th>playDescription</th>\n",
       "      <th>quarter</th>\n",
       "      <th>possessionTeam</th>\n",
       "      <th>kickerId</th>\n",
       "      <th>returnerId</th>\n",
       "      <th>yardlineSide</th>\n",
       "      <th>yardlineNumber</th>\n",
       "      <th>gameClock</th>\n",
       "      <th>penaltyCodes</th>\n",
       "      <th>penaltyJerseyNumbers</th>\n",
       "      <th>penaltyYards</th>\n",
       "      <th>preSnapHomeScore</th>\n",
       "      <th>preSnapVisitorScore</th>\n",
       "      <th>kickLength</th>\n",
       "      <th>kickReturnYardage</th>\n",
       "      <th>absoluteYardlineNumber</th>\n",
       "      <th>hangTime</th>\n",
       "      <th>kickType</th>\n",
       "      <th>kickDirectionIntended</th>\n",
       "      <th>kickDirectionActual</th>\n",
       "      <th>returnDirectionIntended</th>\n",
       "      <th>returnDirectionActual</th>\n",
       "      <th>missedTackler</th>\n",
       "      <th>assistTackler</th>\n",
       "      <th>tackler</th>\n",
       "      <th>kickoffReturnFormation</th>\n",
       "      <th>specialTeamsSafeties</th>\n",
       "    </tr>\n",
       "  </thead>\n",
       "  <tbody>\n",
       "    <tr>\n",
       "      <th>0</th>\n",
       "      <td>2018090600</td>\n",
       "      <td>677</td>\n",
       "      <td>M.Bosher kicks 64 yards from ATL 35 to PHI 1. S.Gibson to PHI 31 for 30 yards (D.Kazee, D.Riley).</td>\n",
       "      <td>1</td>\n",
       "      <td>ATL</td>\n",
       "      <td>37267.0</td>\n",
       "      <td>44979</td>\n",
       "      <td>ATL</td>\n",
       "      <td>35</td>\n",
       "      <td>05:01:00</td>\n",
       "      <td>NP</td>\n",
       "      <td>NP</td>\n",
       "      <td>0</td>\n",
       "      <td>0</td>\n",
       "      <td>3</td>\n",
       "      <td>64.0</td>\n",
       "      <td>30.0</td>\n",
       "      <td>75</td>\n",
       "      <td>4.06</td>\n",
       "      <td>D</td>\n",
       "      <td>R</td>\n",
       "      <td>R</td>\n",
       "      <td>C</td>\n",
       "      <td>C</td>\n",
       "      <td>ATL 83</td>\n",
       "      <td>ATL 22</td>\n",
       "      <td>ATL 27</td>\n",
       "      <td>8-0-2</td>\n",
       "      <td>ATL 17; ATL 22</td>\n",
       "    </tr>\n",
       "  </tbody>\n",
       "</table>\n",
       "</div>"
      ],
      "text/plain": [
       "       gameId  playId  \\\n",
       "0  2018090600     677   \n",
       "\n",
       "                                                                                     playDescription  \\\n",
       "0  M.Bosher kicks 64 yards from ATL 35 to PHI 1. S.Gibson to PHI 31 for 30 yards (D.Kazee, D.Riley).   \n",
       "\n",
       "   quarter possessionTeam  kickerId returnerId yardlineSide  yardlineNumber  \\\n",
       "0        1            ATL   37267.0      44979          ATL              35   \n",
       "\n",
       "  gameClock penaltyCodes penaltyJerseyNumbers  penaltyYards  preSnapHomeScore  \\\n",
       "0  05:01:00           NP                   NP             0                 0   \n",
       "\n",
       "   preSnapVisitorScore  kickLength  kickReturnYardage  absoluteYardlineNumber  \\\n",
       "0                    3        64.0               30.0                      75   \n",
       "\n",
       "   hangTime kickType kickDirectionIntended kickDirectionActual  \\\n",
       "0      4.06        D                     R                   R   \n",
       "\n",
       "  returnDirectionIntended returnDirectionActual missedTackler assistTackler  \\\n",
       "0                       C                     C        ATL 83        ATL 22   \n",
       "\n",
       "  tackler kickoffReturnFormation specialTeamsSafeties  \n",
       "0  ATL 27                  8-0-2       ATL 17; ATL 22  "
      ]
     },
     "execution_count": 5,
     "metadata": {},
     "output_type": "execute_result"
    }
   ],
   "source": [
    "kickoffs_df.head(1)"
   ]
  },
  {
   "cell_type": "markdown",
   "id": "76bbe02d-316f-4093-9551-8c65928ca1f9",
   "metadata": {},
   "source": [
    "## Kickoff Data Cleaning pt. I"
   ]
  },
  {
   "cell_type": "code",
   "execution_count": 7,
   "id": "355a8115-9b19-4fb6-b899-6c84b4848305",
   "metadata": {},
   "outputs": [
    {
     "data": {
      "text/html": [
       "<div>\n",
       "<style scoped>\n",
       "    .dataframe tbody tr th:only-of-type {\n",
       "        vertical-align: middle;\n",
       "    }\n",
       "\n",
       "    .dataframe tbody tr th {\n",
       "        vertical-align: top;\n",
       "    }\n",
       "\n",
       "    .dataframe thead th {\n",
       "        text-align: right;\n",
       "    }\n",
       "</style>\n",
       "<table border=\"1\" class=\"dataframe\">\n",
       "  <thead>\n",
       "    <tr style=\"text-align: right;\">\n",
       "      <th></th>\n",
       "      <th>Column</th>\n",
       "      <th>Null values</th>\n",
       "    </tr>\n",
       "  </thead>\n",
       "  <tbody>\n",
       "    <tr>\n",
       "      <th>11</th>\n",
       "      <td>kickBlockerId</td>\n",
       "      <td>7843</td>\n",
       "    </tr>\n",
       "    <tr>\n",
       "      <th>20</th>\n",
       "      <td>passResult</td>\n",
       "      <td>7843</td>\n",
       "    </tr>\n",
       "    <tr>\n",
       "      <th>25</th>\n",
       "      <td>snapDetail</td>\n",
       "      <td>7843</td>\n",
       "    </tr>\n",
       "    <tr>\n",
       "      <th>26</th>\n",
       "      <td>snapTime</td>\n",
       "      <td>7843</td>\n",
       "    </tr>\n",
       "    <tr>\n",
       "      <th>27</th>\n",
       "      <td>operationTime</td>\n",
       "      <td>7843</td>\n",
       "    </tr>\n",
       "    <tr>\n",
       "      <th>38</th>\n",
       "      <td>gunners</td>\n",
       "      <td>7843</td>\n",
       "    </tr>\n",
       "    <tr>\n",
       "      <th>39</th>\n",
       "      <td>puntRushers</td>\n",
       "      <td>7843</td>\n",
       "    </tr>\n",
       "    <tr>\n",
       "      <th>41</th>\n",
       "      <td>vises</td>\n",
       "      <td>7843</td>\n",
       "    </tr>\n",
       "    <tr>\n",
       "      <th>42</th>\n",
       "      <td>kickContactType</td>\n",
       "      <td>7843</td>\n",
       "    </tr>\n",
       "  </tbody>\n",
       "</table>\n",
       "</div>"
      ],
      "text/plain": [
       "             Column  Null values\n",
       "11    kickBlockerId         7843\n",
       "20       passResult         7843\n",
       "25       snapDetail         7843\n",
       "26         snapTime         7843\n",
       "27    operationTime         7843\n",
       "38          gunners         7843\n",
       "39      puntRushers         7843\n",
       "41            vises         7843\n",
       "42  kickContactType         7843"
      ]
     },
     "execution_count": 7,
     "metadata": {},
     "output_type": "execute_result"
    }
   ],
   "source": [
    "#looking for columns that have no bearing on kickoffs\n",
    "kick_na_val_df = pd.DataFrame(zip(kickoff_df.columns, list(kickoff_df.isnull().sum())), columns=['Column', 'Null values'])\n",
    "kick_na_val_df[kick_na_val_df['Null values'] == 7843]"
   ]
  },
  {
   "cell_type": "code",
   "execution_count": 8,
   "id": "9ba81341-0b1e-4083-9415-c337504dcb96",
   "metadata": {},
   "outputs": [
    {
     "data": {
      "text/html": [
       "<div>\n",
       "<style scoped>\n",
       "    .dataframe tbody tr th:only-of-type {\n",
       "        vertical-align: middle;\n",
       "    }\n",
       "\n",
       "    .dataframe tbody tr th {\n",
       "        vertical-align: top;\n",
       "    }\n",
       "\n",
       "    .dataframe thead th {\n",
       "        text-align: right;\n",
       "    }\n",
       "</style>\n",
       "<table border=\"1\" class=\"dataframe\">\n",
       "  <thead>\n",
       "    <tr style=\"text-align: right;\">\n",
       "      <th></th>\n",
       "      <th>gameId</th>\n",
       "      <th>playId</th>\n",
       "      <th>playDescription</th>\n",
       "      <th>quarter</th>\n",
       "      <th>down</th>\n",
       "      <th>yardsToGo</th>\n",
       "      <th>possessionTeam</th>\n",
       "      <th>specialTeamsPlayType</th>\n",
       "      <th>specialTeamsResult</th>\n",
       "      <th>kickerId</th>\n",
       "      <th>returnerId</th>\n",
       "      <th>yardlineSide</th>\n",
       "      <th>yardlineNumber</th>\n",
       "      <th>gameClock</th>\n",
       "      <th>penaltyCodes</th>\n",
       "      <th>penaltyJerseyNumbers</th>\n",
       "      <th>penaltyYards</th>\n",
       "      <th>preSnapHomeScore</th>\n",
       "      <th>preSnapVisitorScore</th>\n",
       "      <th>kickLength</th>\n",
       "      <th>kickReturnYardage</th>\n",
       "      <th>playResult</th>\n",
       "      <th>absoluteYardlineNumber</th>\n",
       "      <th>hangTime</th>\n",
       "      <th>kickType</th>\n",
       "      <th>kickDirectionIntended</th>\n",
       "      <th>kickDirectionActual</th>\n",
       "      <th>returnDirectionIntended</th>\n",
       "      <th>returnDirectionActual</th>\n",
       "      <th>missedTackler</th>\n",
       "      <th>assistTackler</th>\n",
       "      <th>tackler</th>\n",
       "      <th>kickoffReturnFormation</th>\n",
       "      <th>specialTeamsSafeties</th>\n",
       "    </tr>\n",
       "  </thead>\n",
       "  <tbody>\n",
       "    <tr>\n",
       "      <th>0</th>\n",
       "      <td>2018090600</td>\n",
       "      <td>37</td>\n",
       "      <td>J.Elliott kicks 65 yards from PHI 35 to end zone, Touchback.</td>\n",
       "      <td>1</td>\n",
       "      <td>0</td>\n",
       "      <td>0</td>\n",
       "      <td>PHI</td>\n",
       "      <td>Kickoff</td>\n",
       "      <td>Touchback</td>\n",
       "      <td>44966.0</td>\n",
       "      <td>NaN</td>\n",
       "      <td>PHI</td>\n",
       "      <td>35</td>\n",
       "      <td>15:00:00</td>\n",
       "      <td>NaN</td>\n",
       "      <td>NaN</td>\n",
       "      <td>NaN</td>\n",
       "      <td>0</td>\n",
       "      <td>0</td>\n",
       "      <td>66.0</td>\n",
       "      <td>NaN</td>\n",
       "      <td>40</td>\n",
       "      <td>45</td>\n",
       "      <td>3.85</td>\n",
       "      <td>D</td>\n",
       "      <td>R</td>\n",
       "      <td>R</td>\n",
       "      <td>NaN</td>\n",
       "      <td>NaN</td>\n",
       "      <td>NaN</td>\n",
       "      <td>NaN</td>\n",
       "      <td>NaN</td>\n",
       "      <td>8-0-2</td>\n",
       "      <td>PHI 23; PHI 27</td>\n",
       "    </tr>\n",
       "    <tr>\n",
       "      <th>1</th>\n",
       "      <td>2018090600</td>\n",
       "      <td>677</td>\n",
       "      <td>M.Bosher kicks 64 yards from ATL 35 to PHI 1. S.Gibson to PHI 31 for 30 yards (D.Kazee, D.Riley).</td>\n",
       "      <td>1</td>\n",
       "      <td>0</td>\n",
       "      <td>0</td>\n",
       "      <td>ATL</td>\n",
       "      <td>Kickoff</td>\n",
       "      <td>Return</td>\n",
       "      <td>37267.0</td>\n",
       "      <td>44979</td>\n",
       "      <td>ATL</td>\n",
       "      <td>35</td>\n",
       "      <td>05:01:00</td>\n",
       "      <td>NaN</td>\n",
       "      <td>NaN</td>\n",
       "      <td>NaN</td>\n",
       "      <td>0</td>\n",
       "      <td>3</td>\n",
       "      <td>64.0</td>\n",
       "      <td>30.0</td>\n",
       "      <td>34</td>\n",
       "      <td>75</td>\n",
       "      <td>4.06</td>\n",
       "      <td>D</td>\n",
       "      <td>R</td>\n",
       "      <td>R</td>\n",
       "      <td>C</td>\n",
       "      <td>C</td>\n",
       "      <td>ATL 83</td>\n",
       "      <td>ATL 22</td>\n",
       "      <td>ATL 27</td>\n",
       "      <td>8-0-2</td>\n",
       "      <td>ATL 17; ATL 22</td>\n",
       "    </tr>\n",
       "  </tbody>\n",
       "</table>\n",
       "</div>"
      ],
      "text/plain": [
       "       gameId  playId  \\\n",
       "0  2018090600      37   \n",
       "1  2018090600     677   \n",
       "\n",
       "                                                                                     playDescription  \\\n",
       "0                                       J.Elliott kicks 65 yards from PHI 35 to end zone, Touchback.   \n",
       "1  M.Bosher kicks 64 yards from ATL 35 to PHI 1. S.Gibson to PHI 31 for 30 yards (D.Kazee, D.Riley).   \n",
       "\n",
       "   quarter  down  yardsToGo possessionTeam specialTeamsPlayType  \\\n",
       "0        1     0          0            PHI              Kickoff   \n",
       "1        1     0          0            ATL              Kickoff   \n",
       "\n",
       "  specialTeamsResult  kickerId returnerId yardlineSide  yardlineNumber  \\\n",
       "0          Touchback   44966.0        NaN          PHI              35   \n",
       "1             Return   37267.0      44979          ATL              35   \n",
       "\n",
       "  gameClock penaltyCodes penaltyJerseyNumbers  penaltyYards  preSnapHomeScore  \\\n",
       "0  15:00:00          NaN                  NaN           NaN                 0   \n",
       "1  05:01:00          NaN                  NaN           NaN                 0   \n",
       "\n",
       "   preSnapVisitorScore  kickLength  kickReturnYardage  playResult  \\\n",
       "0                    0        66.0                NaN          40   \n",
       "1                    3        64.0               30.0          34   \n",
       "\n",
       "   absoluteYardlineNumber  hangTime kickType kickDirectionIntended  \\\n",
       "0                      45      3.85        D                     R   \n",
       "1                      75      4.06        D                     R   \n",
       "\n",
       "  kickDirectionActual returnDirectionIntended returnDirectionActual  \\\n",
       "0                   R                     NaN                   NaN   \n",
       "1                   R                       C                     C   \n",
       "\n",
       "  missedTackler assistTackler tackler kickoffReturnFormation  \\\n",
       "0           NaN           NaN     NaN                  8-0-2   \n",
       "1        ATL 83        ATL 22  ATL 27                  8-0-2   \n",
       "\n",
       "  specialTeamsSafeties  \n",
       "0       PHI 23; PHI 27  \n",
       "1       ATL 17; ATL 22  "
      ]
     },
     "execution_count": 8,
     "metadata": {},
     "output_type": "execute_result"
    }
   ],
   "source": [
    "#dropping said columns\n",
    "kickoff_df.drop(columns=['kickBlockerId', 'passResult', 'snapDetail', 'snapTime', 'operationTime', 'gunners', \n",
    "                         'puntRushers', 'vises', 'kickContactType'], inplace=True)\n",
    "kickoff_df.head(2)"
   ]
  },
  {
   "cell_type": "code",
   "execution_count": 9,
   "id": "2dacc023-52a0-4ffc-889f-3c6c35c2d46a",
   "metadata": {},
   "outputs": [
    {
     "data": {
      "text/plain": [
       "(7843, 34)"
      ]
     },
     "execution_count": 9,
     "metadata": {},
     "output_type": "execute_result"
    }
   ],
   "source": [
    "kickoff_df.shape"
   ]
  },
  {
   "cell_type": "markdown",
   "id": "11e5b990-b4be-4d7b-851e-116f363c8f87",
   "metadata": {},
   "source": [
    "### Condensing Kickoff Data to just kickoffs with a return"
   ]
  },
  {
   "cell_type": "code",
   "execution_count": 11,
   "id": "8a1a5c11-f72c-4cf5-9c02-1cb5b9bd2827",
   "metadata": {},
   "outputs": [
    {
     "data": {
      "text/html": [
       "<div>\n",
       "<style scoped>\n",
       "    .dataframe tbody tr th:only-of-type {\n",
       "        vertical-align: middle;\n",
       "    }\n",
       "\n",
       "    .dataframe tbody tr th {\n",
       "        vertical-align: top;\n",
       "    }\n",
       "\n",
       "    .dataframe thead th {\n",
       "        text-align: right;\n",
       "    }\n",
       "</style>\n",
       "<table border=\"1\" class=\"dataframe\">\n",
       "  <thead>\n",
       "    <tr style=\"text-align: right;\">\n",
       "      <th></th>\n",
       "      <th>gameId</th>\n",
       "      <th>playId</th>\n",
       "      <th>playDescription</th>\n",
       "      <th>quarter</th>\n",
       "      <th>down</th>\n",
       "      <th>yardsToGo</th>\n",
       "      <th>possessionTeam</th>\n",
       "      <th>specialTeamsPlayType</th>\n",
       "      <th>specialTeamsResult</th>\n",
       "      <th>kickerId</th>\n",
       "      <th>returnerId</th>\n",
       "      <th>yardlineSide</th>\n",
       "      <th>yardlineNumber</th>\n",
       "      <th>gameClock</th>\n",
       "      <th>penaltyCodes</th>\n",
       "      <th>penaltyJerseyNumbers</th>\n",
       "      <th>penaltyYards</th>\n",
       "      <th>preSnapHomeScore</th>\n",
       "      <th>preSnapVisitorScore</th>\n",
       "      <th>kickLength</th>\n",
       "      <th>kickReturnYardage</th>\n",
       "      <th>playResult</th>\n",
       "      <th>absoluteYardlineNumber</th>\n",
       "      <th>hangTime</th>\n",
       "      <th>kickType</th>\n",
       "      <th>kickDirectionIntended</th>\n",
       "      <th>kickDirectionActual</th>\n",
       "      <th>returnDirectionIntended</th>\n",
       "      <th>returnDirectionActual</th>\n",
       "      <th>missedTackler</th>\n",
       "      <th>assistTackler</th>\n",
       "      <th>tackler</th>\n",
       "      <th>kickoffReturnFormation</th>\n",
       "      <th>specialTeamsSafeties</th>\n",
       "    </tr>\n",
       "  </thead>\n",
       "  <tbody>\n",
       "    <tr>\n",
       "      <th>1</th>\n",
       "      <td>2018090600</td>\n",
       "      <td>677</td>\n",
       "      <td>M.Bosher kicks 64 yards from ATL 35 to PHI 1. S.Gibson to PHI 31 for 30 yards (D.Kazee, D.Riley).</td>\n",
       "      <td>1</td>\n",
       "      <td>0</td>\n",
       "      <td>0</td>\n",
       "      <td>ATL</td>\n",
       "      <td>Kickoff</td>\n",
       "      <td>Return</td>\n",
       "      <td>37267.0</td>\n",
       "      <td>44979</td>\n",
       "      <td>ATL</td>\n",
       "      <td>35</td>\n",
       "      <td>05:01:00</td>\n",
       "      <td>NaN</td>\n",
       "      <td>NaN</td>\n",
       "      <td>NaN</td>\n",
       "      <td>0</td>\n",
       "      <td>3</td>\n",
       "      <td>64.0</td>\n",
       "      <td>30.0</td>\n",
       "      <td>34</td>\n",
       "      <td>75</td>\n",
       "      <td>4.06</td>\n",
       "      <td>D</td>\n",
       "      <td>R</td>\n",
       "      <td>R</td>\n",
       "      <td>C</td>\n",
       "      <td>C</td>\n",
       "      <td>ATL 83</td>\n",
       "      <td>ATL 22</td>\n",
       "      <td>ATL 27</td>\n",
       "      <td>8-0-2</td>\n",
       "      <td>ATL 17; ATL 22</td>\n",
       "    </tr>\n",
       "  </tbody>\n",
       "</table>\n",
       "</div>"
      ],
      "text/plain": [
       "       gameId  playId  \\\n",
       "1  2018090600     677   \n",
       "\n",
       "                                                                                     playDescription  \\\n",
       "1  M.Bosher kicks 64 yards from ATL 35 to PHI 1. S.Gibson to PHI 31 for 30 yards (D.Kazee, D.Riley).   \n",
       "\n",
       "   quarter  down  yardsToGo possessionTeam specialTeamsPlayType  \\\n",
       "1        1     0          0            ATL              Kickoff   \n",
       "\n",
       "  specialTeamsResult  kickerId returnerId yardlineSide  yardlineNumber  \\\n",
       "1             Return   37267.0      44979          ATL              35   \n",
       "\n",
       "  gameClock penaltyCodes penaltyJerseyNumbers  penaltyYards  preSnapHomeScore  \\\n",
       "1  05:01:00          NaN                  NaN           NaN                 0   \n",
       "\n",
       "   preSnapVisitorScore  kickLength  kickReturnYardage  playResult  \\\n",
       "1                    3        64.0               30.0          34   \n",
       "\n",
       "   absoluteYardlineNumber  hangTime kickType kickDirectionIntended  \\\n",
       "1                      75      4.06        D                     R   \n",
       "\n",
       "  kickDirectionActual returnDirectionIntended returnDirectionActual  \\\n",
       "1                   R                       C                     C   \n",
       "\n",
       "  missedTackler assistTackler tackler kickoffReturnFormation  \\\n",
       "1        ATL 83        ATL 22  ATL 27                  8-0-2   \n",
       "\n",
       "  specialTeamsSafeties  \n",
       "1       ATL 17; ATL 22  "
      ]
     },
     "execution_count": 11,
     "metadata": {},
     "output_type": "execute_result"
    }
   ],
   "source": [
    "#Only interested in the kicks in which the receiving team returned kick\n",
    "kickoff_df = kickoff_df[kickoff_df['specialTeamsResult'] == 'Return']\n",
    "kickoff_df.head(1)"
   ]
  },
  {
   "cell_type": "code",
   "execution_count": 103,
   "id": "2956614a-f041-44a6-b4c6-1423dc6190b3",
   "metadata": {},
   "outputs": [],
   "source": [
    "#Dropping unneeded columns\n",
    "kickoff_df.drop(columns=['specialTeamsResult', 'specialTeamsPlayType', 'down', 'yardsToGo', 'playResult'], inplace=True)"
   ]
  },
  {
   "cell_type": "code",
   "execution_count": 12,
   "id": "2a122628-eae3-4e6e-84d4-b9594bcc8f77",
   "metadata": {},
   "outputs": [
    {
     "data": {
      "text/plain": [
       "Int64Index([  50,  167,  294,  347,  376,  638,  689,  710,  730,  741,\n",
       "            ...\n",
       "            7291, 7348, 7391, 7445, 7490, 7515, 7626, 7681, 7720, 7842],\n",
       "           dtype='int64', length=139)"
      ]
     },
     "execution_count": 12,
     "metadata": {},
     "output_type": "execute_result"
    }
   ],
   "source": [
    "# Search description for onside kicks attempts\n",
    "kickoff_df[kickoff_df['playDescription'].map(lambda x: True if 'onside' in x else False)].index"
   ]
  },
  {
   "cell_type": "code",
   "execution_count": 13,
   "id": "47e7dd78-9630-47a1-bc2b-064b214859f3",
   "metadata": {},
   "outputs": [
    {
     "data": {
      "text/plain": [
       "(2921, 34)"
      ]
     },
     "execution_count": 13,
     "metadata": {},
     "output_type": "execute_result"
    }
   ],
   "source": [
    "kickoff_df.shape"
   ]
  },
  {
   "cell_type": "code",
   "execution_count": 14,
   "id": "53fcf6f5-cd98-455d-9137-ca241b1fbb1e",
   "metadata": {},
   "outputs": [
    {
     "data": {
      "text/plain": [
       "(2782, 34)"
      ]
     },
     "execution_count": 14,
     "metadata": {},
     "output_type": "execute_result"
    }
   ],
   "source": [
    "#dropping rows with an onside kick\n",
    "kickoff_df.drop(kickoff_df[kickoff_df['playDescription'].map(lambda x: True if 'onside' in x else False)].index, inplace=True)\n",
    "#shape to check inplace worked\n",
    "kickoff_df.shape"
   ]
  },
  {
   "cell_type": "markdown",
   "id": "9212bb77-c81f-4653-922d-01f83cc64003",
   "metadata": {},
   "source": [
    "### High Null Value Columns"
   ]
  },
  {
   "cell_type": "code",
   "execution_count": 16,
   "id": "b21c738b-63a7-4985-bc4d-f76a87ffd418",
   "metadata": {},
   "outputs": [
    {
     "data": {
      "text/plain": [
       "penaltyYards               2487\n",
       "penaltyJerseyNumbers       2487\n",
       "penaltyCodes               2487\n",
       "assistTackler              2183\n",
       "missedTackler              2182\n",
       "tackler                     238\n",
       "hangTime                    230\n",
       "yardlineSide                 30\n",
       "returnDirectionIntended      27\n",
       "returnDirectionActual        25\n",
       "specialTeamsSafeties         18\n",
       "kickReturnYardage             5\n",
       "kickType                      0\n",
       "absoluteYardlineNumber        0\n",
       "kickLength                    0\n",
       "dtype: int64"
      ]
     },
     "execution_count": 16,
     "metadata": {},
     "output_type": "execute_result"
    }
   ],
   "source": [
    "kickoff_df.isna().sum().sort_values(ascending= False)[:15]"
   ]
  },
  {
   "cell_type": "markdown",
   "id": "67135535-3954-4628-b723-5408a7daf39b",
   "metadata": {},
   "source": [
    "Columns related to penalties and tacklers seems to have the highest number of null values so let's address those first, starting with the penalty columns."
   ]
  },
  {
   "cell_type": "markdown",
   "id": "73bcfc2a-f71b-49b2-94bd-ff3d8e44dc8a",
   "metadata": {},
   "source": [
    "#### Penalty Column Cleaning"
   ]
  },
  {
   "cell_type": "code",
   "execution_count": 17,
   "id": "bbb71a6e-c865-482a-9a87-ad6ed13f7c36",
   "metadata": {},
   "outputs": [
    {
     "data": {
      "text/html": [
       "<div>\n",
       "<style scoped>\n",
       "    .dataframe tbody tr th:only-of-type {\n",
       "        vertical-align: middle;\n",
       "    }\n",
       "\n",
       "    .dataframe tbody tr th {\n",
       "        vertical-align: top;\n",
       "    }\n",
       "\n",
       "    .dataframe thead th {\n",
       "        text-align: right;\n",
       "    }\n",
       "</style>\n",
       "<table border=\"1\" class=\"dataframe\">\n",
       "  <thead>\n",
       "    <tr style=\"text-align: right;\">\n",
       "      <th></th>\n",
       "      <th>penaltyYards</th>\n",
       "      <th>penaltyJerseyNumbers</th>\n",
       "      <th>penaltyCodes</th>\n",
       "    </tr>\n",
       "  </thead>\n",
       "  <tbody>\n",
       "    <tr>\n",
       "      <th>1</th>\n",
       "      <td>NaN</td>\n",
       "      <td>NaN</td>\n",
       "      <td>NaN</td>\n",
       "    </tr>\n",
       "    <tr>\n",
       "      <th>3</th>\n",
       "      <td>5.0</td>\n",
       "      <td>PHI 29</td>\n",
       "      <td>OH</td>\n",
       "    </tr>\n",
       "    <tr>\n",
       "      <th>8</th>\n",
       "      <td>0.0</td>\n",
       "      <td>BAL 37;BUF 30</td>\n",
       "      <td>UNR;FMM</td>\n",
       "    </tr>\n",
       "    <tr>\n",
       "      <th>9</th>\n",
       "      <td>NaN</td>\n",
       "      <td>NaN</td>\n",
       "      <td>NaN</td>\n",
       "    </tr>\n",
       "    <tr>\n",
       "      <th>12</th>\n",
       "      <td>NaN</td>\n",
       "      <td>NaN</td>\n",
       "      <td>NaN</td>\n",
       "    </tr>\n",
       "  </tbody>\n",
       "</table>\n",
       "</div>"
      ],
      "text/plain": [
       "    penaltyYards penaltyJerseyNumbers penaltyCodes\n",
       "1            NaN                  NaN          NaN\n",
       "3            5.0               PHI 29           OH\n",
       "8            0.0        BAL 37;BUF 30      UNR;FMM\n",
       "9            NaN                  NaN          NaN\n",
       "12           NaN                  NaN          NaN"
      ]
     },
     "execution_count": 17,
     "metadata": {},
     "output_type": "execute_result"
    }
   ],
   "source": [
    "kickoff_df[['penaltyYards', 'penaltyJerseyNumbers', 'penaltyCodes']].head()"
   ]
  },
  {
   "cell_type": "code",
   "execution_count": 18,
   "id": "83099ec8-12f3-4678-a5bc-4d0659f94634",
   "metadata": {},
   "outputs": [
    {
     "data": {
      "text/html": [
       "<div>\n",
       "<style scoped>\n",
       "    .dataframe tbody tr th:only-of-type {\n",
       "        vertical-align: middle;\n",
       "    }\n",
       "\n",
       "    .dataframe tbody tr th {\n",
       "        vertical-align: top;\n",
       "    }\n",
       "\n",
       "    .dataframe thead th {\n",
       "        text-align: right;\n",
       "    }\n",
       "</style>\n",
       "<table border=\"1\" class=\"dataframe\">\n",
       "  <thead>\n",
       "    <tr style=\"text-align: right;\">\n",
       "      <th></th>\n",
       "      <th>penaltyCodes</th>\n",
       "    </tr>\n",
       "  </thead>\n",
       "  <tbody>\n",
       "    <tr>\n",
       "      <th>1</th>\n",
       "      <td>NP</td>\n",
       "    </tr>\n",
       "    <tr>\n",
       "      <th>3</th>\n",
       "      <td>OH</td>\n",
       "    </tr>\n",
       "    <tr>\n",
       "      <th>8</th>\n",
       "      <td>UNR;FMM</td>\n",
       "    </tr>\n",
       "    <tr>\n",
       "      <th>9</th>\n",
       "      <td>NP</td>\n",
       "    </tr>\n",
       "    <tr>\n",
       "      <th>12</th>\n",
       "      <td>NP</td>\n",
       "    </tr>\n",
       "  </tbody>\n",
       "</table>\n",
       "</div>"
      ],
      "text/plain": [
       "   penaltyCodes\n",
       "1            NP\n",
       "3            OH\n",
       "8       UNR;FMM\n",
       "9            NP\n",
       "12           NP"
      ]
     },
     "execution_count": 18,
     "metadata": {},
     "output_type": "execute_result"
    }
   ],
   "source": [
    "#Changing all NaN values to NP or No Penalty to represent a play that did not involve a penalty\n",
    "kickoff_df['penaltyCodes'] = kickoff_df.penaltyCodes.map(lambda penaltyCodes: 'NP' if penaltyCodes is np.nan else penaltyCodes)\n",
    "kickoff_df[['penaltyCodes']].head()"
   ]
  },
  {
   "cell_type": "code",
   "execution_count": 19,
   "id": "61670b0c-cfcc-4291-b606-10550543fe68",
   "metadata": {},
   "outputs": [
    {
     "data": {
      "text/html": [
       "<div>\n",
       "<style scoped>\n",
       "    .dataframe tbody tr th:only-of-type {\n",
       "        vertical-align: middle;\n",
       "    }\n",
       "\n",
       "    .dataframe tbody tr th {\n",
       "        vertical-align: top;\n",
       "    }\n",
       "\n",
       "    .dataframe thead th {\n",
       "        text-align: right;\n",
       "    }\n",
       "</style>\n",
       "<table border=\"1\" class=\"dataframe\">\n",
       "  <thead>\n",
       "    <tr style=\"text-align: right;\">\n",
       "      <th></th>\n",
       "      <th>penaltyYards</th>\n",
       "    </tr>\n",
       "  </thead>\n",
       "  <tbody>\n",
       "    <tr>\n",
       "      <th>1</th>\n",
       "      <td>0</td>\n",
       "    </tr>\n",
       "    <tr>\n",
       "      <th>3</th>\n",
       "      <td>5</td>\n",
       "    </tr>\n",
       "    <tr>\n",
       "      <th>8</th>\n",
       "      <td>0</td>\n",
       "    </tr>\n",
       "    <tr>\n",
       "      <th>9</th>\n",
       "      <td>0</td>\n",
       "    </tr>\n",
       "    <tr>\n",
       "      <th>12</th>\n",
       "      <td>0</td>\n",
       "    </tr>\n",
       "  </tbody>\n",
       "</table>\n",
       "</div>"
      ],
      "text/plain": [
       "    penaltyYards\n",
       "1              0\n",
       "3              5\n",
       "8              0\n",
       "9              0\n",
       "12             0"
      ]
     },
     "execution_count": 19,
     "metadata": {},
     "output_type": "execute_result"
    }
   ],
   "source": [
    "#Changing all NaN values to 0 or 0 Penalty yards to represent a play that did not involve a penalty\n",
    "kickoff_df['penaltyYards'] = kickoff_df['penaltyYards'].fillna(0).astype(int)\n",
    "kickoff_df[['penaltyYards']].head()"
   ]
  },
  {
   "cell_type": "code",
   "execution_count": 20,
   "id": "e2c40aa9-b185-4dc0-8571-7de1b7e445a3",
   "metadata": {},
   "outputs": [
    {
     "data": {
      "text/html": [
       "<div>\n",
       "<style scoped>\n",
       "    .dataframe tbody tr th:only-of-type {\n",
       "        vertical-align: middle;\n",
       "    }\n",
       "\n",
       "    .dataframe tbody tr th {\n",
       "        vertical-align: top;\n",
       "    }\n",
       "\n",
       "    .dataframe thead th {\n",
       "        text-align: right;\n",
       "    }\n",
       "</style>\n",
       "<table border=\"1\" class=\"dataframe\">\n",
       "  <thead>\n",
       "    <tr style=\"text-align: right;\">\n",
       "      <th></th>\n",
       "      <th>penaltyJerseyNumbers</th>\n",
       "    </tr>\n",
       "  </thead>\n",
       "  <tbody>\n",
       "    <tr>\n",
       "      <th>1</th>\n",
       "      <td>NP</td>\n",
       "    </tr>\n",
       "    <tr>\n",
       "      <th>3</th>\n",
       "      <td>PHI 29</td>\n",
       "    </tr>\n",
       "    <tr>\n",
       "      <th>8</th>\n",
       "      <td>BAL 37;BUF 30</td>\n",
       "    </tr>\n",
       "    <tr>\n",
       "      <th>9</th>\n",
       "      <td>NP</td>\n",
       "    </tr>\n",
       "    <tr>\n",
       "      <th>12</th>\n",
       "      <td>NP</td>\n",
       "    </tr>\n",
       "  </tbody>\n",
       "</table>\n",
       "</div>"
      ],
      "text/plain": [
       "   penaltyJerseyNumbers\n",
       "1                    NP\n",
       "3                PHI 29\n",
       "8         BAL 37;BUF 30\n",
       "9                    NP\n",
       "12                   NP"
      ]
     },
     "execution_count": 20,
     "metadata": {},
     "output_type": "execute_result"
    }
   ],
   "source": [
    "#Changing all NaN values to NP or No Penalty to represent a play that did not involve a penalty, therefore no jersey numbers were called\n",
    "kickoff_df['penaltyJerseyNumbers'] = kickoff_df.penaltyJerseyNumbers.map(lambda penaltyJerseyNumbers: 'NP' if penaltyJerseyNumbers is np.nan else penaltyJerseyNumbers)\n",
    "kickoff_df[['penaltyJerseyNumbers']].head()"
   ]
  },
  {
   "cell_type": "code",
   "execution_count": 22,
   "id": "89c2d1ac-be4b-46a0-ad0c-a91bc9cebea6",
   "metadata": {},
   "outputs": [
    {
     "data": {
      "text/plain": [
       "assistTackler              2183\n",
       "missedTackler              2182\n",
       "tackler                     238\n",
       "hangTime                    230\n",
       "yardlineSide                 30\n",
       "returnDirectionIntended      27\n",
       "returnDirectionActual        25\n",
       "specialTeamsSafeties         18\n",
       "kickReturnYardage             5\n",
       "playResult                    0\n",
       "dtype: int64"
      ]
     },
     "execution_count": 22,
     "metadata": {},
     "output_type": "execute_result"
    }
   ],
   "source": [
    "#Lets recheck our Nulls now\n",
    "kickoff_df.isna().sum().sort_values(ascending = False)[:10]"
   ]
  },
  {
   "cell_type": "markdown",
   "id": "f25a69ae-208b-42a1-a100-b9cd552e6ddc",
   "metadata": {},
   "source": [
    "#### Tackler Column Cleaning"
   ]
  },
  {
   "cell_type": "code",
   "execution_count": 66,
   "id": "f091d1f2-4193-41c1-a724-550d1445f20c",
   "metadata": {},
   "outputs": [],
   "source": [
    "#All kickoffs with a solo tackle\n",
    "solo_tackle = kickoff_df[(kickoff_df['assistTackler'].isnull()) & (kickoff_df['tackler'].notnull())].index"
   ]
  },
  {
   "cell_type": "code",
   "execution_count": 73,
   "id": "9648d091-2fa6-41e3-9415-acb5da4a5ddd",
   "metadata": {},
   "outputs": [
    {
     "data": {
      "text/html": [
       "<div>\n",
       "<style scoped>\n",
       "    .dataframe tbody tr th:only-of-type {\n",
       "        vertical-align: middle;\n",
       "    }\n",
       "\n",
       "    .dataframe tbody tr th {\n",
       "        vertical-align: top;\n",
       "    }\n",
       "\n",
       "    .dataframe thead th {\n",
       "        text-align: right;\n",
       "    }\n",
       "</style>\n",
       "<table border=\"1\" class=\"dataframe\">\n",
       "  <thead>\n",
       "    <tr style=\"text-align: right;\">\n",
       "      <th></th>\n",
       "      <th>gameId</th>\n",
       "      <th>playId</th>\n",
       "      <th>playDescription</th>\n",
       "      <th>quarter</th>\n",
       "      <th>down</th>\n",
       "      <th>yardsToGo</th>\n",
       "      <th>possessionTeam</th>\n",
       "      <th>specialTeamsPlayType</th>\n",
       "      <th>specialTeamsResult</th>\n",
       "      <th>kickerId</th>\n",
       "      <th>returnerId</th>\n",
       "      <th>yardlineSide</th>\n",
       "      <th>yardlineNumber</th>\n",
       "      <th>gameClock</th>\n",
       "      <th>penaltyCodes</th>\n",
       "      <th>penaltyJerseyNumbers</th>\n",
       "      <th>penaltyYards</th>\n",
       "      <th>preSnapHomeScore</th>\n",
       "      <th>preSnapVisitorScore</th>\n",
       "      <th>kickLength</th>\n",
       "      <th>kickReturnYardage</th>\n",
       "      <th>playResult</th>\n",
       "      <th>absoluteYardlineNumber</th>\n",
       "      <th>hangTime</th>\n",
       "      <th>kickType</th>\n",
       "      <th>kickDirectionIntended</th>\n",
       "      <th>kickDirectionActual</th>\n",
       "      <th>returnDirectionIntended</th>\n",
       "      <th>returnDirectionActual</th>\n",
       "      <th>missedTackler</th>\n",
       "      <th>assistTackler</th>\n",
       "      <th>tackler</th>\n",
       "      <th>kickoffReturnFormation</th>\n",
       "      <th>specialTeamsSafeties</th>\n",
       "    </tr>\n",
       "  </thead>\n",
       "  <tbody>\n",
       "    <tr>\n",
       "      <th>1</th>\n",
       "      <td>2018090600</td>\n",
       "      <td>677</td>\n",
       "      <td>M.Bosher kicks 64 yards from ATL 35 to PHI 1. S.Gibson to PHI 31 for 30 yards (D.Kazee, D.Riley).</td>\n",
       "      <td>1</td>\n",
       "      <td>0</td>\n",
       "      <td>0</td>\n",
       "      <td>ATL</td>\n",
       "      <td>Kickoff</td>\n",
       "      <td>Return</td>\n",
       "      <td>37267.0</td>\n",
       "      <td>44979</td>\n",
       "      <td>ATL</td>\n",
       "      <td>35</td>\n",
       "      <td>05:01:00</td>\n",
       "      <td>NP</td>\n",
       "      <td>NP</td>\n",
       "      <td>0</td>\n",
       "      <td>0</td>\n",
       "      <td>3</td>\n",
       "      <td>64.0</td>\n",
       "      <td>30.0</td>\n",
       "      <td>34</td>\n",
       "      <td>75</td>\n",
       "      <td>4.06</td>\n",
       "      <td>D</td>\n",
       "      <td>R</td>\n",
       "      <td>R</td>\n",
       "      <td>C</td>\n",
       "      <td>C</td>\n",
       "      <td>ATL 83</td>\n",
       "      <td>ATL 22</td>\n",
       "      <td>ATL 27</td>\n",
       "      <td>8-0-2</td>\n",
       "      <td>ATL 17; ATL 22</td>\n",
       "    </tr>\n",
       "    <tr>\n",
       "      <th>3</th>\n",
       "      <td>2018090600</td>\n",
       "      <td>1606</td>\n",
       "      <td>M.Bosher kicks 68 yards from ATL 35 to PHI -3. S.Gibson to PHI 10 for 13 yards (K.Ishmael). PENALTY on PHI-A.Maddox, Offensive Holding, 5 yards, enforced at PHI 10.</td>\n",
       "      <td>2</td>\n",
       "      <td>0</td>\n",
       "      <td>0</td>\n",
       "      <td>ATL</td>\n",
       "      <td>Kickoff</td>\n",
       "      <td>Return</td>\n",
       "      <td>37267.0</td>\n",
       "      <td>44979</td>\n",
       "      <td>ATL</td>\n",
       "      <td>35</td>\n",
       "      <td>02:08:00</td>\n",
       "      <td>OH</td>\n",
       "      <td>PHI 29</td>\n",
       "      <td>5</td>\n",
       "      <td>3</td>\n",
       "      <td>6</td>\n",
       "      <td>68.0</td>\n",
       "      <td>13.0</td>\n",
       "      <td>60</td>\n",
       "      <td>45</td>\n",
       "      <td>3.63</td>\n",
       "      <td>D</td>\n",
       "      <td>C</td>\n",
       "      <td>C</td>\n",
       "      <td>C</td>\n",
       "      <td>R</td>\n",
       "      <td>NaN</td>\n",
       "      <td>Solo</td>\n",
       "      <td>ATL 36</td>\n",
       "      <td>8-0-2</td>\n",
       "      <td>ATL 14; ATL 17</td>\n",
       "    </tr>\n",
       "  </tbody>\n",
       "</table>\n",
       "</div>"
      ],
      "text/plain": [
       "       gameId  playId  \\\n",
       "1  2018090600     677   \n",
       "3  2018090600    1606   \n",
       "\n",
       "                                                                                                                                                        playDescription  \\\n",
       "1                                                                     M.Bosher kicks 64 yards from ATL 35 to PHI 1. S.Gibson to PHI 31 for 30 yards (D.Kazee, D.Riley).   \n",
       "3  M.Bosher kicks 68 yards from ATL 35 to PHI -3. S.Gibson to PHI 10 for 13 yards (K.Ishmael). PENALTY on PHI-A.Maddox, Offensive Holding, 5 yards, enforced at PHI 10.   \n",
       "\n",
       "   quarter  down  yardsToGo possessionTeam specialTeamsPlayType  \\\n",
       "1        1     0          0            ATL              Kickoff   \n",
       "3        2     0          0            ATL              Kickoff   \n",
       "\n",
       "  specialTeamsResult  kickerId returnerId yardlineSide  yardlineNumber  \\\n",
       "1             Return   37267.0      44979          ATL              35   \n",
       "3             Return   37267.0      44979          ATL              35   \n",
       "\n",
       "  gameClock penaltyCodes penaltyJerseyNumbers  penaltyYards  preSnapHomeScore  \\\n",
       "1  05:01:00           NP                   NP             0                 0   \n",
       "3  02:08:00           OH               PHI 29             5                 3   \n",
       "\n",
       "   preSnapVisitorScore  kickLength  kickReturnYardage  playResult  \\\n",
       "1                    3        64.0               30.0          34   \n",
       "3                    6        68.0               13.0          60   \n",
       "\n",
       "   absoluteYardlineNumber  hangTime kickType kickDirectionIntended  \\\n",
       "1                      75      4.06        D                     R   \n",
       "3                      45      3.63        D                     C   \n",
       "\n",
       "  kickDirectionActual returnDirectionIntended returnDirectionActual  \\\n",
       "1                   R                       C                     C   \n",
       "3                   C                       C                     R   \n",
       "\n",
       "  missedTackler assistTackler tackler kickoffReturnFormation  \\\n",
       "1        ATL 83        ATL 22  ATL 27                  8-0-2   \n",
       "3           NaN          Solo  ATL 36                  8-0-2   \n",
       "\n",
       "  specialTeamsSafeties  \n",
       "1       ATL 17; ATL 22  \n",
       "3       ATL 14; ATL 17  "
      ]
     },
     "execution_count": 73,
     "metadata": {},
     "output_type": "execute_result"
    }
   ],
   "source": [
    "kickoff_df.loc[solo_tackle, 'assistTackler'] = kickoff_df.loc[solo_tackle, 'assistTackler'].fillna('Solo')\n",
    "kickoff_df.head(2)"
   ]
  },
  {
   "cell_type": "code",
   "execution_count": 74,
   "id": "12935857-1eee-4b8e-9b4b-f7feead1deea",
   "metadata": {},
   "outputs": [
    {
     "data": {
      "text/plain": [
       "missedTackler              2182\n",
       "tackler                     238\n",
       "assistTackler               238\n",
       "hangTime                    230\n",
       "yardlineSide                 30\n",
       "returnDirectionIntended      27\n",
       "returnDirectionActual        25\n",
       "specialTeamsSafeties         18\n",
       "kickReturnYardage             5\n",
       "playResult                    0\n",
       "dtype: int64"
      ]
     },
     "execution_count": 74,
     "metadata": {},
     "output_type": "execute_result"
    }
   ],
   "source": [
    "kickoff_df.isna().sum().sort_values(ascending = False)[:10]"
   ]
  },
  {
   "cell_type": "code",
   "execution_count": 81,
   "id": "861dae9e-5f8e-45cb-9b88-928ad1a83011",
   "metadata": {},
   "outputs": [
    {
     "data": {
      "text/plain": [
       "Int64Index([   3,    8,    9,   12,   15,   21,   22,   23,   25,   32,\n",
       "            ...\n",
       "            7801, 7807, 7808, 7815, 7817, 7820, 7824, 7828, 7835, 7839],\n",
       "           dtype='int64', length=2003)"
      ]
     },
     "execution_count": 81,
     "metadata": {},
     "output_type": "execute_result"
    }
   ],
   "source": [
    "no_missed = kickoff_df[(kickoff_df['missedTackler'].isna()) & (kickoff_df['tackler'].notnull())].index\n",
    "no_missed"
   ]
  },
  {
   "cell_type": "code",
   "execution_count": 86,
   "id": "52302a20-28ca-4bc8-85d0-7c909ace7fe0",
   "metadata": {},
   "outputs": [
    {
     "data": {
      "text/html": [
       "<div>\n",
       "<style scoped>\n",
       "    .dataframe tbody tr th:only-of-type {\n",
       "        vertical-align: middle;\n",
       "    }\n",
       "\n",
       "    .dataframe tbody tr th {\n",
       "        vertical-align: top;\n",
       "    }\n",
       "\n",
       "    .dataframe thead th {\n",
       "        text-align: right;\n",
       "    }\n",
       "</style>\n",
       "<table border=\"1\" class=\"dataframe\">\n",
       "  <thead>\n",
       "    <tr style=\"text-align: right;\">\n",
       "      <th></th>\n",
       "      <th>gameId</th>\n",
       "      <th>playId</th>\n",
       "      <th>playDescription</th>\n",
       "      <th>quarter</th>\n",
       "      <th>down</th>\n",
       "      <th>yardsToGo</th>\n",
       "      <th>possessionTeam</th>\n",
       "      <th>specialTeamsPlayType</th>\n",
       "      <th>specialTeamsResult</th>\n",
       "      <th>kickerId</th>\n",
       "      <th>returnerId</th>\n",
       "      <th>yardlineSide</th>\n",
       "      <th>yardlineNumber</th>\n",
       "      <th>gameClock</th>\n",
       "      <th>penaltyCodes</th>\n",
       "      <th>penaltyJerseyNumbers</th>\n",
       "      <th>penaltyYards</th>\n",
       "      <th>preSnapHomeScore</th>\n",
       "      <th>preSnapVisitorScore</th>\n",
       "      <th>kickLength</th>\n",
       "      <th>kickReturnYardage</th>\n",
       "      <th>playResult</th>\n",
       "      <th>absoluteYardlineNumber</th>\n",
       "      <th>hangTime</th>\n",
       "      <th>kickType</th>\n",
       "      <th>kickDirectionIntended</th>\n",
       "      <th>kickDirectionActual</th>\n",
       "      <th>returnDirectionIntended</th>\n",
       "      <th>returnDirectionActual</th>\n",
       "      <th>missedTackler</th>\n",
       "      <th>assistTackler</th>\n",
       "      <th>tackler</th>\n",
       "      <th>kickoffReturnFormation</th>\n",
       "      <th>specialTeamsSafeties</th>\n",
       "    </tr>\n",
       "  </thead>\n",
       "  <tbody>\n",
       "    <tr>\n",
       "      <th>1</th>\n",
       "      <td>2018090600</td>\n",
       "      <td>677</td>\n",
       "      <td>M.Bosher kicks 64 yards from ATL 35 to PHI 1. S.Gibson to PHI 31 for 30 yards (D.Kazee, D.Riley).</td>\n",
       "      <td>1</td>\n",
       "      <td>0</td>\n",
       "      <td>0</td>\n",
       "      <td>ATL</td>\n",
       "      <td>Kickoff</td>\n",
       "      <td>Return</td>\n",
       "      <td>37267.0</td>\n",
       "      <td>44979</td>\n",
       "      <td>ATL</td>\n",
       "      <td>35</td>\n",
       "      <td>05:01:00</td>\n",
       "      <td>NP</td>\n",
       "      <td>NP</td>\n",
       "      <td>0</td>\n",
       "      <td>0</td>\n",
       "      <td>3</td>\n",
       "      <td>64.0</td>\n",
       "      <td>30.0</td>\n",
       "      <td>34</td>\n",
       "      <td>75</td>\n",
       "      <td>4.06</td>\n",
       "      <td>D</td>\n",
       "      <td>R</td>\n",
       "      <td>R</td>\n",
       "      <td>C</td>\n",
       "      <td>C</td>\n",
       "      <td>ATL 83</td>\n",
       "      <td>ATL 22</td>\n",
       "      <td>ATL 27</td>\n",
       "      <td>8-0-2</td>\n",
       "      <td>ATL 17; ATL 22</td>\n",
       "    </tr>\n",
       "    <tr>\n",
       "      <th>3</th>\n",
       "      <td>2018090600</td>\n",
       "      <td>1606</td>\n",
       "      <td>M.Bosher kicks 68 yards from ATL 35 to PHI -3. S.Gibson to PHI 10 for 13 yards (K.Ishmael). PENALTY on PHI-A.Maddox, Offensive Holding, 5 yards, enforced at PHI 10.</td>\n",
       "      <td>2</td>\n",
       "      <td>0</td>\n",
       "      <td>0</td>\n",
       "      <td>ATL</td>\n",
       "      <td>Kickoff</td>\n",
       "      <td>Return</td>\n",
       "      <td>37267.0</td>\n",
       "      <td>44979</td>\n",
       "      <td>ATL</td>\n",
       "      <td>35</td>\n",
       "      <td>02:08:00</td>\n",
       "      <td>OH</td>\n",
       "      <td>PHI 29</td>\n",
       "      <td>5</td>\n",
       "      <td>3</td>\n",
       "      <td>6</td>\n",
       "      <td>68.0</td>\n",
       "      <td>13.0</td>\n",
       "      <td>60</td>\n",
       "      <td>45</td>\n",
       "      <td>3.63</td>\n",
       "      <td>D</td>\n",
       "      <td>C</td>\n",
       "      <td>C</td>\n",
       "      <td>C</td>\n",
       "      <td>R</td>\n",
       "      <td>returner_tackled</td>\n",
       "      <td>Solo</td>\n",
       "      <td>ATL 36</td>\n",
       "      <td>8-0-2</td>\n",
       "      <td>ATL 14; ATL 17</td>\n",
       "    </tr>\n",
       "  </tbody>\n",
       "</table>\n",
       "</div>"
      ],
      "text/plain": [
       "       gameId  playId  \\\n",
       "1  2018090600     677   \n",
       "3  2018090600    1606   \n",
       "\n",
       "                                                                                                                                                        playDescription  \\\n",
       "1                                                                     M.Bosher kicks 64 yards from ATL 35 to PHI 1. S.Gibson to PHI 31 for 30 yards (D.Kazee, D.Riley).   \n",
       "3  M.Bosher kicks 68 yards from ATL 35 to PHI -3. S.Gibson to PHI 10 for 13 yards (K.Ishmael). PENALTY on PHI-A.Maddox, Offensive Holding, 5 yards, enforced at PHI 10.   \n",
       "\n",
       "   quarter  down  yardsToGo possessionTeam specialTeamsPlayType  \\\n",
       "1        1     0          0            ATL              Kickoff   \n",
       "3        2     0          0            ATL              Kickoff   \n",
       "\n",
       "  specialTeamsResult  kickerId returnerId yardlineSide  yardlineNumber  \\\n",
       "1             Return   37267.0      44979          ATL              35   \n",
       "3             Return   37267.0      44979          ATL              35   \n",
       "\n",
       "  gameClock penaltyCodes penaltyJerseyNumbers  penaltyYards  preSnapHomeScore  \\\n",
       "1  05:01:00           NP                   NP             0                 0   \n",
       "3  02:08:00           OH               PHI 29             5                 3   \n",
       "\n",
       "   preSnapVisitorScore  kickLength  kickReturnYardage  playResult  \\\n",
       "1                    3        64.0               30.0          34   \n",
       "3                    6        68.0               13.0          60   \n",
       "\n",
       "   absoluteYardlineNumber  hangTime kickType kickDirectionIntended  \\\n",
       "1                      75      4.06        D                     R   \n",
       "3                      45      3.63        D                     C   \n",
       "\n",
       "  kickDirectionActual returnDirectionIntended returnDirectionActual  \\\n",
       "1                   R                       C                     C   \n",
       "3                   C                       C                     R   \n",
       "\n",
       "      missedTackler assistTackler tackler kickoffReturnFormation  \\\n",
       "1            ATL 83        ATL 22  ATL 27                  8-0-2   \n",
       "3  returner_tackled          Solo  ATL 36                  8-0-2   \n",
       "\n",
       "  specialTeamsSafeties  \n",
       "1       ATL 17; ATL 22  \n",
       "3       ATL 14; ATL 17  "
      ]
     },
     "execution_count": 86,
     "metadata": {},
     "output_type": "execute_result"
    }
   ],
   "source": [
    "#Filling Nans for missed tackle column\n",
    "kickoff_df.loc[no_missed, 'missedTackler'] = kickoff_df.loc[no_missed, 'missedTackler'].fillna('returner_tackled')\n",
    "kickoff_df.head(2)"
   ]
  },
  {
   "cell_type": "code",
   "execution_count": 155,
   "id": "b87fbbe7-3fa8-4f06-b6f2-840b96d64d9b",
   "metadata": {},
   "outputs": [
    {
     "data": {
      "text/html": [
       "<div>\n",
       "<style scoped>\n",
       "    .dataframe tbody tr th:only-of-type {\n",
       "        vertical-align: middle;\n",
       "    }\n",
       "\n",
       "    .dataframe tbody tr th {\n",
       "        vertical-align: top;\n",
       "    }\n",
       "\n",
       "    .dataframe thead th {\n",
       "        text-align: right;\n",
       "    }\n",
       "</style>\n",
       "<table border=\"1\" class=\"dataframe\">\n",
       "  <thead>\n",
       "    <tr style=\"text-align: right;\">\n",
       "      <th></th>\n",
       "      <th>gameId</th>\n",
       "      <th>playId</th>\n",
       "      <th>playDescription</th>\n",
       "      <th>quarter</th>\n",
       "      <th>possessionTeam</th>\n",
       "      <th>kickerId</th>\n",
       "      <th>returnerId</th>\n",
       "      <th>yardlineSide</th>\n",
       "      <th>yardlineNumber</th>\n",
       "      <th>gameClock</th>\n",
       "      <th>penaltyCodes</th>\n",
       "      <th>penaltyJerseyNumbers</th>\n",
       "      <th>penaltyYards</th>\n",
       "      <th>preSnapHomeScore</th>\n",
       "      <th>preSnapVisitorScore</th>\n",
       "      <th>kickLength</th>\n",
       "      <th>kickReturnYardage</th>\n",
       "      <th>absoluteYardlineNumber</th>\n",
       "      <th>hangTime</th>\n",
       "      <th>kickType</th>\n",
       "      <th>kickDirectionIntended</th>\n",
       "      <th>kickDirectionActual</th>\n",
       "      <th>returnDirectionIntended</th>\n",
       "      <th>returnDirectionActual</th>\n",
       "      <th>missedTackler</th>\n",
       "      <th>assistTackler</th>\n",
       "      <th>tackler</th>\n",
       "      <th>kickoffReturnFormation</th>\n",
       "      <th>specialTeamsSafeties</th>\n",
       "    </tr>\n",
       "  </thead>\n",
       "  <tbody>\n",
       "    <tr>\n",
       "      <th>20</th>\n",
       "      <td>2018090901</td>\n",
       "      <td>2022</td>\n",
       "      <td>C.Boswell kicks 65 yards from PIT 35 to CLE 0. J.Peppers to CLE 24 for 24 yards (T.Matakevich). PENALTY on CLE-D.Rice, Illegal Block Above the Waist, 10 yards, enforced at CLE 24.</td>\n",
       "      <td>3</td>\n",
       "      <td>PIT</td>\n",
       "      <td>41953.0</td>\n",
       "      <td>44837</td>\n",
       "      <td>PIT</td>\n",
       "      <td>35</td>\n",
       "      <td>15:00:00</td>\n",
       "      <td>IBW</td>\n",
       "      <td>CLE 37</td>\n",
       "      <td>10</td>\n",
       "      <td>0</td>\n",
       "      <td>7</td>\n",
       "      <td>65.0</td>\n",
       "      <td>24.0</td>\n",
       "      <td>45</td>\n",
       "      <td>3.9</td>\n",
       "      <td>D</td>\n",
       "      <td>C</td>\n",
       "      <td>C</td>\n",
       "      <td>L</td>\n",
       "      <td>L</td>\n",
       "      <td>NaN</td>\n",
       "      <td>NaN</td>\n",
       "      <td>NaN</td>\n",
       "      <td>8-0-1</td>\n",
       "      <td>PIT 20; PIT 28</td>\n",
       "    </tr>\n",
       "  </tbody>\n",
       "</table>\n",
       "</div>"
      ],
      "text/plain": [
       "        gameId  playId  \\\n",
       "20  2018090901    2022   \n",
       "\n",
       "                                                                                                                                                                        playDescription  \\\n",
       "20  C.Boswell kicks 65 yards from PIT 35 to CLE 0. J.Peppers to CLE 24 for 24 yards (T.Matakevich). PENALTY on CLE-D.Rice, Illegal Block Above the Waist, 10 yards, enforced at CLE 24.   \n",
       "\n",
       "    quarter possessionTeam  kickerId returnerId yardlineSide  yardlineNumber  \\\n",
       "20        3            PIT   41953.0      44837          PIT              35   \n",
       "\n",
       "   gameClock penaltyCodes penaltyJerseyNumbers  penaltyYards  \\\n",
       "20  15:00:00          IBW               CLE 37            10   \n",
       "\n",
       "    preSnapHomeScore  preSnapVisitorScore  kickLength  kickReturnYardage  \\\n",
       "20                 0                    7        65.0               24.0   \n",
       "\n",
       "    absoluteYardlineNumber  hangTime kickType kickDirectionIntended  \\\n",
       "20                      45       3.9        D                     C   \n",
       "\n",
       "   kickDirectionActual returnDirectionIntended returnDirectionActual  \\\n",
       "20                   C                       L                     L   \n",
       "\n",
       "   missedTackler assistTackler tackler kickoffReturnFormation  \\\n",
       "20           NaN           NaN     NaN                  8-0-1   \n",
       "\n",
       "   specialTeamsSafeties  \n",
       "20       PIT 20; PIT 28  "
      ]
     },
     "execution_count": 155,
     "metadata": {},
     "output_type": "execute_result"
    }
   ],
   "source": [
    "#given that a value in assist tackler implies one player has assisted another in tackling a returner, \n",
    "#a lack of value or a null in these two columns likely means the returner stepped out of bounds, a TD return, a penalty, or something else. \n",
    "#lets investigate\n",
    "kickoff_df[(kickoff_df['assistTackler'].isnull() ) & (kickoff_df['tackler'].isnull())].head(1)"
   ]
  },
  {
   "cell_type": "code",
   "execution_count": 156,
   "id": "2fbf19b5-8511-4968-93d4-c4bbb0f2e169",
   "metadata": {},
   "outputs": [
    {
     "data": {
      "text/plain": [
       "(231, 29)"
      ]
     },
     "execution_count": 156,
     "metadata": {},
     "output_type": "execute_result"
    }
   ],
   "source": [
    "#Total number of returns without a tackle\n",
    "kickoff_df[(kickoff_df['assistTackler'].isnull() ) & (kickoff_df['tackler'].isnull())].shape"
   ]
  },
  {
   "cell_type": "code",
   "execution_count": 162,
   "id": "0d7f8d3b-8359-4244-b31f-801c680246b0",
   "metadata": {},
   "outputs": [],
   "source": [
    "#check for plays with a TD\n",
    "td_return = kickoff_df[kickoff_df['playDescription'].map(lambda x: True if 'TOUCHDOWN' in x else False)].index"
   ]
  },
  {
   "cell_type": "code",
   "execution_count": 167,
   "id": "31f538d0-23bf-40f5-9509-a1d602a7efec",
   "metadata": {},
   "outputs": [],
   "source": [
    "#kickoff_df[(kickoff_df['assistTackler'].isnull() ) & (kickoff_df['tackler'].isnull())].loc[td_return]\n",
    "#All td_returns have NaNs in tackler cols"
   ]
  },
  {
   "cell_type": "code",
   "execution_count": 172,
   "id": "c7e5c952-a4c2-4cef-b9bc-9f6021093382",
   "metadata": {},
   "outputs": [],
   "source": [
    "#Filling NaNs with NT for no tackle\n",
    "kickoff_df.loc[td_return, 'assistTackler'] = kickoff_df.loc[td_return, 'assistTackler'].fillna('NT')\n",
    "kickoff_df.loc[td_return, 'tackler'] = kickoff_df.loc[td_return, 'tackler'].fillna('NT')"
   ]
  },
  {
   "cell_type": "code",
   "execution_count": 174,
   "id": "0c903e13-1aff-44b3-a29c-48d4c3b27860",
   "metadata": {},
   "outputs": [
    {
     "data": {
      "text/plain": [
       "(42, 29)"
      ]
     },
     "execution_count": 174,
     "metadata": {},
     "output_type": "execute_result"
    }
   ],
   "source": [
    "#59 of these kickoffs without a tackle involved no penalty\n",
    "kickoff_df[(kickoff_df['assistTackler'].isnull()) & (kickoff_df['tackler'].isnull()) & (kickoff_df['penaltyYards'] == 0) & (kickoff_df['penaltyCodes'] == 'NP')].shape"
   ]
  },
  {
   "cell_type": "code",
   "execution_count": 179,
   "id": "10b7c199-1b07-4219-8f62-ee1cd51b61e3",
   "metadata": {},
   "outputs": [
    {
     "data": {
      "text/plain": [
       "tackler                    213\n",
       "assistTackler              213\n",
       "missedTackler              173\n",
       "returnDirectionIntended     27\n",
       "returnDirectionActual       25\n",
       "specialTeamsSafeties        18\n",
       "kickLength                   0\n",
       "kickoffReturnFormation       0\n",
       "kickDirectionActual          0\n",
       "kickDirectionIntended        0\n",
       "dtype: int64"
      ]
     },
     "execution_count": 179,
     "metadata": {},
     "output_type": "execute_result"
    }
   ],
   "source": [
    "kickoff_df.isna().sum().sort_values(ascending = False)[:10]"
   ]
  },
  {
   "cell_type": "code",
   "execution_count": 186,
   "id": "b756b6f6-7f90-46ab-83c1-f3871b2bb668",
   "metadata": {},
   "outputs": [],
   "source": [
    "#For times sake I'm going to fill the rest of the NaNs in tackling cols as NT for no tackle\n",
    "kickoff_df.loc[kickoff_df[kickoff_df['tackler'].isna()].index, 'tackler'] = kickoff_df.loc[kickoff_df[kickoff_df['tackler'].isna()].index, 'tackler'].fillna('NT')"
   ]
  },
  {
   "cell_type": "code",
   "execution_count": 188,
   "id": "70f375d6-11dc-4e71-937d-e1abce2135ac",
   "metadata": {},
   "outputs": [],
   "source": [
    "kickoff_df.loc[kickoff_df[kickoff_df['assistTackler'].isna()].index, 'assistTackler'] = kickoff_df.loc[kickoff_df[kickoff_df['assistTackler'].isna()].index, 'assistTackler'].fillna('NT')"
   ]
  },
  {
   "cell_type": "code",
   "execution_count": 190,
   "id": "e93ea6e6-49e7-4665-9960-cbc8c9f6841c",
   "metadata": {},
   "outputs": [
    {
     "data": {
      "text/plain": [
       "missedTackler              173\n",
       "returnDirectionIntended     27\n",
       "returnDirectionActual       25\n",
       "specialTeamsSafeties        18\n",
       "kickLength                   0\n",
       "dtype: int64"
      ]
     },
     "execution_count": 190,
     "metadata": {},
     "output_type": "execute_result"
    }
   ],
   "source": [
    "kickoff_df.isna().sum().sort_values(ascending = False)[:5]"
   ]
  },
  {
   "cell_type": "code",
   "execution_count": 195,
   "id": "37a86fda-b263-4b16-88e2-116ef56e9506",
   "metadata": {},
   "outputs": [],
   "source": [
    "kickoff_df.loc[kickoff_df[kickoff_df['missedTackler'].isna()].index, 'missedTackler'] = kickoff_df.loc[kickoff_df[kickoff_df['missedTackler'].isna()].index, 'missedTackler'].fillna('NT')"
   ]
  },
  {
   "cell_type": "markdown",
   "id": "daee894f-3bbf-49da-9d5c-0f376e0ee404",
   "metadata": {},
   "source": [
    "#### Addressing All other Null columns"
   ]
  },
  {
   "cell_type": "code",
   "execution_count": 105,
   "id": "28939f75-60c3-4cf8-8e33-2d12dded1005",
   "metadata": {},
   "outputs": [
    {
     "data": {
      "text/plain": [
       "tackler                    238\n",
       "assistTackler              238\n",
       "hangTime                   230\n",
       "missedTackler              179\n",
       "yardlineSide                30\n",
       "returnDirectionIntended     27\n",
       "returnDirectionActual       25\n",
       "specialTeamsSafeties        18\n",
       "kickReturnYardage            5\n",
       "kickLength                   0\n",
       "dtype: int64"
      ]
     },
     "execution_count": 105,
     "metadata": {},
     "output_type": "execute_result"
    }
   ],
   "source": [
    "kickoff_df.isna().sum().sort_values(ascending = False)[:10]"
   ]
  },
  {
   "cell_type": "code",
   "execution_count": 106,
   "id": "ec5e2fb3-e831-4127-a563-93e3c9c21ccd",
   "metadata": {},
   "outputs": [],
   "source": [
    "#For ease to modeling, given current time constraints I'm going to drop the columns ith 30 or less nulls after looking at them"
   ]
  },
  {
   "cell_type": "code",
   "execution_count": 108,
   "id": "a6301db2-a1cc-4a98-ba79-2dd2fcb3e64b",
   "metadata": {},
   "outputs": [],
   "source": [
    "#Kicks from midfield have no yardline side\n",
    "midfield = kickoff_df[kickoff_df['yardlineSide'].isna()].index"
   ]
  },
  {
   "cell_type": "code",
   "execution_count": 112,
   "id": "0d0655d1-f7ac-4a3a-869b-28f47d913ceb",
   "metadata": {},
   "outputs": [],
   "source": [
    "kickoff_df.loc[midfield, 'yardlineSide'] = kickoff_df.loc[midfield, 'yardlineSide'].fillna('midfield')"
   ]
  },
  {
   "cell_type": "code",
   "execution_count": 113,
   "id": "e8f114e5-28eb-4d18-b849-b7f7695d4dff",
   "metadata": {},
   "outputs": [
    {
     "data": {
      "text/plain": [
       "tackler                    238\n",
       "assistTackler              238\n",
       "hangTime                   230\n",
       "missedTackler              179\n",
       "returnDirectionIntended     27\n",
       "returnDirectionActual       25\n",
       "specialTeamsSafeties        18\n",
       "kickReturnYardage            5\n",
       "kickLength                   0\n",
       "kickoffReturnFormation       0\n",
       "dtype: int64"
      ]
     },
     "execution_count": 113,
     "metadata": {},
     "output_type": "execute_result"
    }
   ],
   "source": [
    "kickoff_df.isna().sum().sort_values(ascending = False)[:5]"
   ]
  },
  {
   "cell_type": "code",
   "execution_count": 115,
   "id": "709f8f3b-69a3-49f3-a2d3-bda121fcb8b8",
   "metadata": {},
   "outputs": [],
   "source": [
    "#fumbles on kickoffs\n",
    "fumble_rec = kickoff_df[kickoff_df['kickReturnYardage'].isna()].index"
   ]
  },
  {
   "cell_type": "code",
   "execution_count": 120,
   "id": "3f62e367-9c1a-450a-a9b8-03156ab0f3dc",
   "metadata": {},
   "outputs": [],
   "source": [
    "#dropped\n",
    "kickoff_df.drop(fumble_rec, inplace=True)"
   ]
  },
  {
   "cell_type": "code",
   "execution_count": 124,
   "id": "dd85df37-be5d-438a-8e86-fb4fd4104ded",
   "metadata": {},
   "outputs": [
    {
     "data": {
      "text/plain": [
       "tackler                    238\n",
       "assistTackler              238\n",
       "hangTime                   228\n",
       "missedTackler              179\n",
       "returnDirectionIntended     27\n",
       "returnDirectionActual       25\n",
       "specialTeamsSafeties        18\n",
       "kickLength                   0\n",
       "dtype: int64"
      ]
     },
     "execution_count": 124,
     "metadata": {},
     "output_type": "execute_result"
    }
   ],
   "source": [
    "kickoff_df.isna().sum().sort_values(ascending = False)[:8]"
   ]
  },
  {
   "cell_type": "code",
   "execution_count": 128,
   "id": "d9cd43e5-6bc9-4dd7-9597-955a7a4548f7",
   "metadata": {},
   "outputs": [
    {
     "data": {
      "text/plain": [
       "(2777, 29)"
      ]
     },
     "execution_count": 128,
     "metadata": {},
     "output_type": "execute_result"
    }
   ],
   "source": [
    "kickoff_df.shape"
   ]
  },
  {
   "cell_type": "code",
   "execution_count": 132,
   "id": "5e64803a-b73f-484f-87b9-c53243d7c66c",
   "metadata": {},
   "outputs": [
    {
     "data": {
      "text/plain": [
       "Q    121\n",
       "F    107\n",
       "Name: kickType, dtype: int64"
      ]
     },
     "execution_count": 132,
     "metadata": {},
     "output_type": "execute_result"
    }
   ],
   "source": [
    "#So null hang times fall into a Squib kick (Q) or a Flat kick (k) based on info from the data dictionary (https://www.kaggle.com/c/nfl-big-data-bowl-2022/data)\n",
    "#Need to double check if any other instances of these occur\n",
    "kickoff_df[kickoff_df['hangTime'].isna()]['kickType'].value_counts()"
   ]
  },
  {
   "cell_type": "code",
   "execution_count": 133,
   "id": "9eccc6a6-9c7a-47fe-a602-a3b4a29f8550",
   "metadata": {},
   "outputs": [
    {
     "data": {
      "text/plain": [
       "D    2307\n",
       "P     195\n",
       "Q     121\n",
       "F     108\n",
       "K      46\n",
       "Name: kickType, dtype: int64"
      ]
     },
     "execution_count": 133,
     "metadata": {},
     "output_type": "execute_result"
    }
   ],
   "source": [
    "#It looks like we have one flat has a hang time given\n",
    "kickoff_df['kickType'].value_counts()"
   ]
  },
  {
   "cell_type": "code",
   "execution_count": 137,
   "id": "042f5cb1-5bed-4216-9724-b7bfe79b2133",
   "metadata": {},
   "outputs": [
    {
     "data": {
      "text/html": [
       "<div>\n",
       "<style scoped>\n",
       "    .dataframe tbody tr th:only-of-type {\n",
       "        vertical-align: middle;\n",
       "    }\n",
       "\n",
       "    .dataframe tbody tr th {\n",
       "        vertical-align: top;\n",
       "    }\n",
       "\n",
       "    .dataframe thead th {\n",
       "        text-align: right;\n",
       "    }\n",
       "</style>\n",
       "<table border=\"1\" class=\"dataframe\">\n",
       "  <thead>\n",
       "    <tr style=\"text-align: right;\">\n",
       "      <th></th>\n",
       "      <th>gameId</th>\n",
       "      <th>playId</th>\n",
       "      <th>playDescription</th>\n",
       "      <th>quarter</th>\n",
       "      <th>possessionTeam</th>\n",
       "      <th>kickerId</th>\n",
       "      <th>returnerId</th>\n",
       "      <th>yardlineSide</th>\n",
       "      <th>yardlineNumber</th>\n",
       "      <th>gameClock</th>\n",
       "      <th>penaltyCodes</th>\n",
       "      <th>penaltyJerseyNumbers</th>\n",
       "      <th>penaltyYards</th>\n",
       "      <th>preSnapHomeScore</th>\n",
       "      <th>preSnapVisitorScore</th>\n",
       "      <th>kickLength</th>\n",
       "      <th>kickReturnYardage</th>\n",
       "      <th>absoluteYardlineNumber</th>\n",
       "      <th>hangTime</th>\n",
       "      <th>kickType</th>\n",
       "      <th>kickDirectionIntended</th>\n",
       "      <th>kickDirectionActual</th>\n",
       "      <th>returnDirectionIntended</th>\n",
       "      <th>returnDirectionActual</th>\n",
       "      <th>missedTackler</th>\n",
       "      <th>assistTackler</th>\n",
       "      <th>tackler</th>\n",
       "      <th>kickoffReturnFormation</th>\n",
       "      <th>specialTeamsSafeties</th>\n",
       "    </tr>\n",
       "  </thead>\n",
       "  <tbody>\n",
       "    <tr>\n",
       "      <th>2871</th>\n",
       "      <td>2019091513</td>\n",
       "      <td>2481</td>\n",
       "      <td>M.Bryant kicks 65 yards from ATL 35 to PHI 0. M.Sanders to PHI 29 for 29 yards (I.Oliver).</td>\n",
       "      <td>3</td>\n",
       "      <td>ATL</td>\n",
       "      <td>27091.0</td>\n",
       "      <td>47836</td>\n",
       "      <td>ATL</td>\n",
       "      <td>35</td>\n",
       "      <td>13:23:00</td>\n",
       "      <td>NP</td>\n",
       "      <td>NP</td>\n",
       "      <td>0</td>\n",
       "      <td>17</td>\n",
       "      <td>6</td>\n",
       "      <td>65.0</td>\n",
       "      <td>29.0</td>\n",
       "      <td>75</td>\n",
       "      <td>3.2</td>\n",
       "      <td>F</td>\n",
       "      <td>C</td>\n",
       "      <td>C</td>\n",
       "      <td>L</td>\n",
       "      <td>L</td>\n",
       "      <td>ATL 83</td>\n",
       "      <td>Solo</td>\n",
       "      <td>ATL 26</td>\n",
       "      <td>8-0-2</td>\n",
       "      <td>ATL 26; ATL 33</td>\n",
       "    </tr>\n",
       "  </tbody>\n",
       "</table>\n",
       "</div>"
      ],
      "text/plain": [
       "          gameId  playId  \\\n",
       "2871  2019091513    2481   \n",
       "\n",
       "                                                                                 playDescription  \\\n",
       "2871  M.Bryant kicks 65 yards from ATL 35 to PHI 0. M.Sanders to PHI 29 for 29 yards (I.Oliver).   \n",
       "\n",
       "      quarter possessionTeam  kickerId returnerId yardlineSide  \\\n",
       "2871        3            ATL   27091.0      47836          ATL   \n",
       "\n",
       "      yardlineNumber gameClock penaltyCodes penaltyJerseyNumbers  \\\n",
       "2871              35  13:23:00           NP                   NP   \n",
       "\n",
       "      penaltyYards  preSnapHomeScore  preSnapVisitorScore  kickLength  \\\n",
       "2871             0                17                    6        65.0   \n",
       "\n",
       "      kickReturnYardage  absoluteYardlineNumber  hangTime kickType  \\\n",
       "2871               29.0                      75       3.2        F   \n",
       "\n",
       "     kickDirectionIntended kickDirectionActual returnDirectionIntended  \\\n",
       "2871                     C                   C                       L   \n",
       "\n",
       "     returnDirectionActual missedTackler assistTackler tackler  \\\n",
       "2871                     L        ATL 83          Solo  ATL 26   \n",
       "\n",
       "     kickoffReturnFormation specialTeamsSafeties  \n",
       "2871                  8-0-2       ATL 26; ATL 33  "
      ]
     },
     "execution_count": 137,
     "metadata": {},
     "output_type": "execute_result"
    }
   ],
   "source": [
    "kickoff_df[(kickoff_df['kickType'] == 'F') & (kickoff_df['hangTime'].notna())]"
   ]
  },
  {
   "cell_type": "markdown",
   "id": "68e557d5-5a61-4123-894e-67a8d76a58c3",
   "metadata": {},
   "source": [
    "So then why does only this flat kick have a hang time? I guess that PFF may have categorized this one incorrectly? \n",
    "\n",
    "For the time being I'm going to drop this kickoff, but I may come back and attempt to reclassify it at a later date."
   ]
  },
  {
   "cell_type": "code",
   "execution_count": 139,
   "id": "e6a459a4-b724-400f-aa26-df46e86ed4ff",
   "metadata": {},
   "outputs": [],
   "source": [
    "kickoff_df.drop(2871, inplace=True)"
   ]
  },
  {
   "cell_type": "code",
   "execution_count": 143,
   "id": "425c7e3b-639e-4f43-9223-0c97380e5502",
   "metadata": {},
   "outputs": [
    {
     "data": {
      "text/plain": [
       "Int64Index([  13,   33,  249,  271,  462,  481,  515,  735,  756,  802,\n",
       "            ...\n",
       "            7182, 7197, 7270, 7374, 7425, 7435, 7450, 7548, 7652, 7727],\n",
       "           dtype='int64', length=121)"
      ]
     },
     "execution_count": 143,
     "metadata": {},
     "output_type": "execute_result"
    }
   ],
   "source": [
    "#I haven't been able to find information to adequately understand what a 'Flat Kick' is so I'm going to seperatate out to Squib and Flat\n",
    "Q_kicks = kickoff_df[kickoff_df['kickType'] == 'Q']['kickType'].index\n",
    "Q_kicks"
   ]
  },
  {
   "cell_type": "code",
   "execution_count": 146,
   "id": "3e2d9129-9b7f-476a-b90d-e5ab79a32652",
   "metadata": {},
   "outputs": [
    {
     "data": {
      "text/html": [
       "<div>\n",
       "<style scoped>\n",
       "    .dataframe tbody tr th:only-of-type {\n",
       "        vertical-align: middle;\n",
       "    }\n",
       "\n",
       "    .dataframe tbody tr th {\n",
       "        vertical-align: top;\n",
       "    }\n",
       "\n",
       "    .dataframe thead th {\n",
       "        text-align: right;\n",
       "    }\n",
       "</style>\n",
       "<table border=\"1\" class=\"dataframe\">\n",
       "  <thead>\n",
       "    <tr style=\"text-align: right;\">\n",
       "      <th></th>\n",
       "      <th>gameId</th>\n",
       "      <th>playId</th>\n",
       "      <th>playDescription</th>\n",
       "      <th>quarter</th>\n",
       "      <th>possessionTeam</th>\n",
       "      <th>kickerId</th>\n",
       "      <th>returnerId</th>\n",
       "      <th>yardlineSide</th>\n",
       "      <th>yardlineNumber</th>\n",
       "      <th>gameClock</th>\n",
       "      <th>penaltyCodes</th>\n",
       "      <th>penaltyJerseyNumbers</th>\n",
       "      <th>penaltyYards</th>\n",
       "      <th>preSnapHomeScore</th>\n",
       "      <th>preSnapVisitorScore</th>\n",
       "      <th>kickLength</th>\n",
       "      <th>kickReturnYardage</th>\n",
       "      <th>absoluteYardlineNumber</th>\n",
       "      <th>hangTime</th>\n",
       "      <th>kickType</th>\n",
       "      <th>kickDirectionIntended</th>\n",
       "      <th>kickDirectionActual</th>\n",
       "      <th>returnDirectionIntended</th>\n",
       "      <th>returnDirectionActual</th>\n",
       "      <th>missedTackler</th>\n",
       "      <th>assistTackler</th>\n",
       "      <th>tackler</th>\n",
       "      <th>kickoffReturnFormation</th>\n",
       "      <th>specialTeamsSafeties</th>\n",
       "    </tr>\n",
       "  </thead>\n",
       "  <tbody>\n",
       "    <tr>\n",
       "      <th>1</th>\n",
       "      <td>2018090600</td>\n",
       "      <td>677</td>\n",
       "      <td>M.Bosher kicks 64 yards from ATL 35 to PHI 1. S.Gibson to PHI 31 for 30 yards (D.Kazee, D.Riley).</td>\n",
       "      <td>1</td>\n",
       "      <td>ATL</td>\n",
       "      <td>37267.0</td>\n",
       "      <td>44979</td>\n",
       "      <td>ATL</td>\n",
       "      <td>35</td>\n",
       "      <td>05:01:00</td>\n",
       "      <td>NP</td>\n",
       "      <td>NP</td>\n",
       "      <td>0</td>\n",
       "      <td>0</td>\n",
       "      <td>3</td>\n",
       "      <td>64.0</td>\n",
       "      <td>30.0</td>\n",
       "      <td>75</td>\n",
       "      <td>4.06</td>\n",
       "      <td>D</td>\n",
       "      <td>R</td>\n",
       "      <td>R</td>\n",
       "      <td>C</td>\n",
       "      <td>C</td>\n",
       "      <td>ATL 83</td>\n",
       "      <td>ATL 22</td>\n",
       "      <td>ATL 27</td>\n",
       "      <td>8-0-2</td>\n",
       "      <td>ATL 17; ATL 22</td>\n",
       "    </tr>\n",
       "  </tbody>\n",
       "</table>\n",
       "</div>"
      ],
      "text/plain": [
       "       gameId  playId  \\\n",
       "1  2018090600     677   \n",
       "\n",
       "                                                                                     playDescription  \\\n",
       "1  M.Bosher kicks 64 yards from ATL 35 to PHI 1. S.Gibson to PHI 31 for 30 yards (D.Kazee, D.Riley).   \n",
       "\n",
       "   quarter possessionTeam  kickerId returnerId yardlineSide  yardlineNumber  \\\n",
       "1        1            ATL   37267.0      44979          ATL              35   \n",
       "\n",
       "  gameClock penaltyCodes penaltyJerseyNumbers  penaltyYards  preSnapHomeScore  \\\n",
       "1  05:01:00           NP                   NP             0                 0   \n",
       "\n",
       "   preSnapVisitorScore  kickLength  kickReturnYardage  absoluteYardlineNumber  \\\n",
       "1                    3        64.0               30.0                      75   \n",
       "\n",
       "   hangTime kickType kickDirectionIntended kickDirectionActual  \\\n",
       "1      4.06        D                     R                   R   \n",
       "\n",
       "  returnDirectionIntended returnDirectionActual missedTackler assistTackler  \\\n",
       "1                       C                     C        ATL 83        ATL 22   \n",
       "\n",
       "  tackler kickoffReturnFormation specialTeamsSafeties  \n",
       "1  ATL 27                  8-0-2       ATL 17; ATL 22  "
      ]
     },
     "execution_count": 146,
     "metadata": {},
     "output_type": "execute_result"
    }
   ],
   "source": [
    "kickoff_df.loc[Q_kicks, 'hangTime'] = kickoff_df.loc[Q_kicks, 'hangTime'].fillna(0)\n",
    "kickoff_df.head(1)"
   ]
  },
  {
   "cell_type": "code",
   "execution_count": 150,
   "id": "97f3dc3d-d240-4943-aa95-319d0ed9c93f",
   "metadata": {},
   "outputs": [
    {
     "data": {
      "text/plain": [
       "(2776, 29)"
      ]
     },
     "execution_count": 150,
     "metadata": {},
     "output_type": "execute_result"
    }
   ],
   "source": [
    "kickoff_df.shape"
   ]
  },
  {
   "cell_type": "code",
   "execution_count": 151,
   "id": "861e83d5-09da-42f2-aff0-d37cca8051c6",
   "metadata": {},
   "outputs": [],
   "source": [
    "#I haven't been able to find information to adequately understand what a 'Flat Kick' is so for the time being I'm going to drop these from the overall dataset\n",
    "#The type of kickoff kick that is selected should always be assumed to be an intentional decision, given my lack of knowledge here I don't want to include these \n",
    "#If I don't know why a flat kick would be used.\n",
    "#F_kicks = kickoff_df[kickoff_df['kickType'] == 'F']['kickType'].index\n",
    "kickoff_df.drop(F_kicks, inplace=True)"
   ]
  },
  {
   "cell_type": "code",
   "execution_count": 198,
   "id": "98c735ee-3489-4975-bed4-cb7aa9c563ea",
   "metadata": {},
   "outputs": [
    {
     "data": {
      "text/plain": [
       "returnDirectionIntended    27\n",
       "returnDirectionActual      25\n",
       "specialTeamsSafeties       18\n",
       "kickLength                  0\n",
       "kickoffReturnFormation      0\n",
       "dtype: int64"
      ]
     },
     "execution_count": 198,
     "metadata": {},
     "output_type": "execute_result"
    }
   ],
   "source": [
    "#Just going to fill the rest of these with 0s for now, may not end up using the player tracking columns immediately, so these may be dropped before modeling.\n",
    "kickoff_df.isna().sum().sort_values(ascending = False)[:5]"
   ]
  },
  {
   "cell_type": "code",
   "execution_count": 204,
   "id": "0a23d3d8-038f-4164-a3c4-04c17f7ca27d",
   "metadata": {},
   "outputs": [],
   "source": [
    "kickoff_df.loc[kickoff_df[kickoff_df['specialTeamsSafeties'].isna()].index, 'specialTeamsSafeties'] = kickoff_df.loc[kickoff_df[kickoff_df['specialTeamsSafeties'].isna()].index, 'specialTeamsSafeties'].fillna('no safety')"
   ]
  },
  {
   "cell_type": "code",
   "execution_count": 212,
   "id": "a119cd95-64a5-486d-8d5c-e58cb5fce2f6",
   "metadata": {},
   "outputs": [
    {
     "data": {
      "text/plain": [
       "(2669, 29)"
      ]
     },
     "execution_count": 212,
     "metadata": {},
     "output_type": "execute_result"
    }
   ],
   "source": [
    "kickoff_df.shape"
   ]
  },
  {
   "cell_type": "code",
   "execution_count": 214,
   "id": "175e189f-f4c7-4b5e-9278-b8a1605fe47c",
   "metadata": {},
   "outputs": [],
   "source": [
    "#There's actually a large amount of overlap between the nans in both actual and intended return direction to the point that I'm just going to drop these 27 rows.\n",
    "kickoff_df.drop(kickoff_df[kickoff_df['returnDirectionIntended'].isna()].index, inplace=True)"
   ]
  },
  {
   "cell_type": "code",
   "execution_count": 216,
   "id": "d6135870-7047-4003-93bd-ef89db774cec",
   "metadata": {},
   "outputs": [
    {
     "data": {
      "text/plain": [
       "gameId                     0\n",
       "playId                     0\n",
       "playDescription            0\n",
       "quarter                    0\n",
       "possessionTeam             0\n",
       "kickerId                   0\n",
       "returnerId                 0\n",
       "yardlineSide               0\n",
       "yardlineNumber             0\n",
       "gameClock                  0\n",
       "penaltyCodes               0\n",
       "penaltyJerseyNumbers       0\n",
       "penaltyYards               0\n",
       "preSnapHomeScore           0\n",
       "preSnapVisitorScore        0\n",
       "kickLength                 0\n",
       "kickReturnYardage          0\n",
       "absoluteYardlineNumber     0\n",
       "hangTime                   0\n",
       "kickType                   0\n",
       "kickDirectionIntended      0\n",
       "kickDirectionActual        0\n",
       "returnDirectionIntended    0\n",
       "returnDirectionActual      0\n",
       "missedTackler              0\n",
       "assistTackler              0\n",
       "tackler                    0\n",
       "kickoffReturnFormation     0\n",
       "specialTeamsSafeties       0\n",
       "dtype: int64"
      ]
     },
     "execution_count": 216,
     "metadata": {},
     "output_type": "execute_result"
    }
   ],
   "source": [
    "#and now we finally have all of the nulls from the kickoff data dropped or filled.\n",
    "kickoff_df.isna().sum()"
   ]
  },
  {
   "cell_type": "code",
   "execution_count": 222,
   "id": "841d8480-2972-483b-8a88-f3972dd6b00d",
   "metadata": {},
   "outputs": [
    {
     "name": "stdout",
     "output_type": "stream",
     "text": [
      "<class 'pandas.core.frame.DataFrame'>\n",
      "Int64Index: 2642 entries, 1 to 7839\n",
      "Data columns (total 29 columns):\n",
      " #   Column                   Non-Null Count  Dtype  \n",
      "---  ------                   --------------  -----  \n",
      " 0   gameId                   2642 non-null   int64  \n",
      " 1   playId                   2642 non-null   int64  \n",
      " 2   playDescription          2642 non-null   object \n",
      " 3   quarter                  2642 non-null   int64  \n",
      " 4   possessionTeam           2642 non-null   object \n",
      " 5   kickerId                 2642 non-null   float64\n",
      " 6   returnerId               2642 non-null   object \n",
      " 7   yardlineSide             2642 non-null   object \n",
      " 8   yardlineNumber           2642 non-null   int64  \n",
      " 9   gameClock                2642 non-null   object \n",
      " 10  penaltyCodes             2642 non-null   object \n",
      " 11  penaltyJerseyNumbers     2642 non-null   object \n",
      " 12  penaltyYards             2642 non-null   int32  \n",
      " 13  preSnapHomeScore         2642 non-null   int64  \n",
      " 14  preSnapVisitorScore      2642 non-null   int64  \n",
      " 15  kickLength               2642 non-null   float64\n",
      " 16  kickReturnYardage        2642 non-null   float64\n",
      " 17  absoluteYardlineNumber   2642 non-null   int64  \n",
      " 18  hangTime                 2642 non-null   float64\n",
      " 19  kickType                 2642 non-null   object \n",
      " 20  kickDirectionIntended    2642 non-null   object \n",
      " 21  kickDirectionActual      2642 non-null   object \n",
      " 22  returnDirectionIntended  2642 non-null   object \n",
      " 23  returnDirectionActual    2642 non-null   object \n",
      " 24  missedTackler            2642 non-null   object \n",
      " 25  assistTackler            2642 non-null   object \n",
      " 26  tackler                  2642 non-null   object \n",
      " 27  kickoffReturnFormation   2642 non-null   object \n",
      " 28  specialTeamsSafeties     2642 non-null   object \n",
      "dtypes: float64(4), int32(1), int64(7), object(17)\n",
      "memory usage: 608.9+ KB\n"
     ]
    }
   ],
   "source": [
    "kickoff_df.info()"
   ]
  },
  {
   "cell_type": "code",
   "execution_count": 223,
   "id": "b2d66427-7238-44f3-9667-9a642742f35c",
   "metadata": {},
   "outputs": [],
   "source": [
    "kickoff_df.to_csv('../data/kickoff_no_nulls.csv')"
   ]
  },
  {
   "cell_type": "markdown",
   "id": "30c9afe5-c301-4982-ba02-cd53c7ac6ec8",
   "metadata": {},
   "source": [
    "### Player Data (Grab later or delete)"
   ]
  },
  {
   "cell_type": "code",
   "execution_count": 220,
   "id": "1929abf9-08a2-45d6-b8d0-053242553b53",
   "metadata": {},
   "outputs": [],
   "source": [
    "# #Can get further measurables on returners and others on kick and covarage unit by using the Player DF\n",
    "# # Will look at this more later, need to build a model first\n",
    "# player_df[player_df['nflId'] == 44979]"
   ]
  },
  {
   "cell_type": "code",
   "execution_count": 218,
   "id": "30fa8d7a-4fe9-47cc-8628-359d0b7c6a71",
   "metadata": {},
   "outputs": [],
   "source": [
    "# player_df = pd.read_csv('../data/players.csv')\n",
    "# player_df.head()"
   ]
  },
  {
   "cell_type": "code",
   "execution_count": 219,
   "id": "b5f0d07c-8eaa-4f8f-aa84-8f62f7d86aba",
   "metadata": {},
   "outputs": [],
   "source": [
    "# player_df['Position'].value_counts()"
   ]
  },
  {
   "cell_type": "code",
   "execution_count": null,
   "id": "c30b4364-0612-4cde-9777-0321fe93a8aa",
   "metadata": {},
   "outputs": [],
   "source": []
  }
 ],
 "metadata": {
  "kernelspec": {
   "display_name": "Python 3",
   "language": "python",
   "name": "python3"
  },
  "language_info": {
   "codemirror_mode": {
    "name": "ipython",
    "version": 3
   },
   "file_extension": ".py",
   "mimetype": "text/x-python",
   "name": "python",
   "nbconvert_exporter": "python",
   "pygments_lexer": "ipython3",
   "version": "3.8.8"
  }
 },
 "nbformat": 4,
 "nbformat_minor": 5
}
