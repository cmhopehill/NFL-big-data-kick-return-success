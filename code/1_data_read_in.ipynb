{
 "cells": [
  {
   "cell_type": "markdown",
   "id": "3462dd89-81e9-4100-ab81-66fa49efa6a0",
   "metadata": {},
   "source": [
    "# Notebook 1"
   ]
  },
  {
   "cell_type": "code",
   "execution_count": 1,
   "id": "8d0f015e-8311-43a6-99b3-747c7cbc5b8d",
   "metadata": {},
   "outputs": [],
   "source": [
    "# standard imports\n",
    "import pandas as pd\n",
    "import numpy as np\n",
    "import matplotlib.pyplot as plt\n",
    "import seaborn as sns"
   ]
  },
  {
   "cell_type": "code",
   "execution_count": 2,
   "id": "4d00b62e-f644-4a99-961a-97de4b5ef3d2",
   "metadata": {},
   "outputs": [],
   "source": [
    "games_df   = pd.read_csv('../data/games.csv')\n",
    "plays_df   = pd.read_csv('../data/plays.csv')\n",
    "pff_df     = pd.read_csv('../data/PFFScoutingData.csv')\n",
    "track_2018 = pd.read_csv('../data/tracking2018.csv')\n",
    "# track_2019 = pd.read_csv('./data/tracking2019.csv')\n",
    "# track_2020 = pd.read_csv('./data/tracking2020.csv')"
   ]
  },
  {
   "cell_type": "code",
   "execution_count": 14,
   "id": "e44e5fac-8a83-4466-b877-3d470ac66753",
   "metadata": {},
   "outputs": [],
   "source": [
    "#Each tracking data csv is around 1.6 - 1.75 GBs as such I have only loaded them in one at a time."
   ]
  },
  {
   "cell_type": "markdown",
   "id": "5a54b7ec-b836-467a-9c1d-fc63f7b1ae8e",
   "metadata": {},
   "source": [
    "## Check for Nulls"
   ]
  },
  {
   "cell_type": "code",
   "execution_count": 7,
   "id": "dbc5622e-7318-4a60-be07-d8371063b073",
   "metadata": {},
   "outputs": [
    {
     "data": {
      "text/plain": [
       "gameId             0\n",
       "season             0\n",
       "week               0\n",
       "gameDate           0\n",
       "gameTimeEastern    0\n",
       "homeTeamAbbr       0\n",
       "visitorTeamAbbr    0\n",
       "dtype: int64"
      ]
     },
     "execution_count": 7,
     "metadata": {},
     "output_type": "execute_result"
    }
   ],
   "source": [
    "games_df.isna().sum()"
   ]
  },
  {
   "cell_type": "code",
   "execution_count": 5,
   "id": "84e05619-3430-4bb5-b3c5-74fe25bf7790",
   "metadata": {},
   "outputs": [
    {
     "data": {
      "text/plain": [
       "(764, 7)"
      ]
     },
     "execution_count": 5,
     "metadata": {},
     "output_type": "execute_result"
    }
   ],
   "source": [
    "games_df.shape"
   ]
  },
  {
   "cell_type": "code",
   "execution_count": 8,
   "id": "e7b0dfa3-9ad1-4113-b53f-3e7ad068c627",
   "metadata": {},
   "outputs": [
    {
     "data": {
      "text/plain": [
       "gameId                        0\n",
       "playId                        0\n",
       "playDescription               0\n",
       "quarter                       0\n",
       "down                          0\n",
       "yardsToGo                     0\n",
       "possessionTeam                0\n",
       "specialTeamsPlayType          0\n",
       "specialTeamsResult            0\n",
       "kickerId                    101\n",
       "returnerId                13041\n",
       "kickBlockerId             19879\n",
       "yardlineSide                166\n",
       "yardlineNumber                0\n",
       "gameClock                     0\n",
       "penaltyCodes              18877\n",
       "penaltyJerseyNumbers      18877\n",
       "penaltyYards              18877\n",
       "preSnapHomeScore              0\n",
       "preSnapVisitorScore           0\n",
       "passResult                19934\n",
       "kickLength                 3652\n",
       "kickReturnYardage         14655\n",
       "playResult                    0\n",
       "absoluteYardlineNumber        0\n",
       "dtype: int64"
      ]
     },
     "execution_count": 8,
     "metadata": {},
     "output_type": "execute_result"
    }
   ],
   "source": [
    "plays_df.isna().sum()"
   ]
  },
  {
   "cell_type": "code",
   "execution_count": 11,
   "id": "8055df06-40e0-4e32-b35b-f2c782803a41",
   "metadata": {},
   "outputs": [
    {
     "data": {
      "text/plain": [
       "(19979, 25)"
      ]
     },
     "execution_count": 11,
     "metadata": {},
     "output_type": "execute_result"
    }
   ],
   "source": [
    "plays_df.shape"
   ]
  },
  {
   "cell_type": "code",
   "execution_count": 9,
   "id": "23d342b2-f3d4-4d57-a76f-dad7a46411fa",
   "metadata": {},
   "outputs": [
    {
     "data": {
      "text/plain": [
       "gameId                         0\n",
       "playId                         0\n",
       "snapDetail                 14060\n",
       "snapTime                   14061\n",
       "operationTime              14061\n",
       "hangTime                    6881\n",
       "kickType                    6256\n",
       "kickDirectionIntended       6278\n",
       "kickDirectionActual         6278\n",
       "returnDirectionIntended    15225\n",
       "returnDirectionActual      15223\n",
       "missedTackler              18631\n",
       "assistTackler              18945\n",
       "tackler                    15220\n",
       "kickoffReturnFormation     12136\n",
       "gunners                    14078\n",
       "puntRushers                16969\n",
       "specialTeamsSafeties        4042\n",
       "vises                      14101\n",
       "kickContactType            14100\n",
       "dtype: int64"
      ]
     },
     "execution_count": 9,
     "metadata": {},
     "output_type": "execute_result"
    }
   ],
   "source": [
    "pff_df.isna().sum()"
   ]
  },
  {
   "cell_type": "code",
   "execution_count": 12,
   "id": "34ed39bd-ed77-4bbe-a915-025431ff632f",
   "metadata": {},
   "outputs": [
    {
     "data": {
      "text/plain": [
       "(19979, 20)"
      ]
     },
     "execution_count": 12,
     "metadata": {},
     "output_type": "execute_result"
    }
   ],
   "source": [
    "pff_df.shape"
   ]
  },
  {
   "cell_type": "code",
   "execution_count": 10,
   "id": "7d49fcfa-e30c-4a00-a747-7863e8dee4a8",
   "metadata": {},
   "outputs": [
    {
     "data": {
      "text/plain": [
       "time                  0\n",
       "x                     0\n",
       "y                     0\n",
       "s                     0\n",
       "a                     0\n",
       "dis                   0\n",
       "o                555537\n",
       "dir              555537\n",
       "event                 0\n",
       "nflId            555537\n",
       "displayName           0\n",
       "jerseyNumber     555537\n",
       "position         555537\n",
       "team                  0\n",
       "frameId               0\n",
       "gameId                0\n",
       "playId                0\n",
       "playDirection         0\n",
       "dtype: int64"
      ]
     },
     "execution_count": 10,
     "metadata": {},
     "output_type": "execute_result"
    }
   ],
   "source": [
    "track_2018.isna().sum()"
   ]
  },
  {
   "cell_type": "code",
   "execution_count": 13,
   "id": "c5c3cbd0-e704-42a4-85f7-487a522f84cf",
   "metadata": {},
   "outputs": [
    {
     "data": {
      "text/plain": [
       "(12777351, 18)"
      ]
     },
     "execution_count": 13,
     "metadata": {},
     "output_type": "execute_result"
    }
   ],
   "source": [
    "track_2018.shape"
   ]
  },
  {
   "cell_type": "markdown",
   "id": "7ec38409-67e3-4470-8326-389de7f01462",
   "metadata": {},
   "source": [
    "## Breaking the data into subsets for punts and kickoffs"
   ]
  },
  {
   "cell_type": "code",
   "execution_count": 15,
   "id": "3b7df9de-6a97-406c-a893-d95d5022fe7c",
   "metadata": {},
   "outputs": [
    {
     "data": {
      "text/plain": [
       "Kickoff        7843\n",
       "Punt           5991\n",
       "Extra Point    3488\n",
       "Field Goal     2657\n",
       "Name: specialTeamsPlayType, dtype: int64"
      ]
     },
     "execution_count": 15,
     "metadata": {},
     "output_type": "execute_result"
    }
   ],
   "source": [
    "plays_df['specialTeamsPlayType'].value_counts()"
   ]
  },
  {
   "cell_type": "code",
   "execution_count": 16,
   "id": "f697feb6-e1ce-4731-9b9e-a58f98d38913",
   "metadata": {},
   "outputs": [
    {
     "data": {
      "text/plain": [
       "(13834, 25)"
      ]
     },
     "execution_count": 16,
     "metadata": {},
     "output_type": "execute_result"
    }
   ],
   "source": [
    "#We have ~13.8K plays that fall under our investigation (Punt or Kickoff)\n",
    "plays_df[(plays_df['specialTeamsPlayType'] == 'Kickoff') | (plays_df['specialTeamsPlayType'] == 'Punt')].shape"
   ]
  },
  {
   "cell_type": "code",
   "execution_count": 17,
   "id": "f1224849-c890-4462-9ec6-12480c8f0088",
   "metadata": {},
   "outputs": [
    {
     "data": {
      "text/html": [
       "<div>\n",
       "<style scoped>\n",
       "    .dataframe tbody tr th:only-of-type {\n",
       "        vertical-align: middle;\n",
       "    }\n",
       "\n",
       "    .dataframe tbody tr th {\n",
       "        vertical-align: top;\n",
       "    }\n",
       "\n",
       "    .dataframe thead th {\n",
       "        text-align: right;\n",
       "    }\n",
       "</style>\n",
       "<table border=\"1\" class=\"dataframe\">\n",
       "  <thead>\n",
       "    <tr style=\"text-align: right;\">\n",
       "      <th></th>\n",
       "      <th>gameId</th>\n",
       "      <th>playId</th>\n",
       "      <th>playDescription</th>\n",
       "      <th>quarter</th>\n",
       "      <th>down</th>\n",
       "      <th>yardsToGo</th>\n",
       "      <th>possessionTeam</th>\n",
       "      <th>specialTeamsPlayType</th>\n",
       "      <th>specialTeamsResult</th>\n",
       "      <th>kickerId</th>\n",
       "      <th>...</th>\n",
       "      <th>penaltyCodes</th>\n",
       "      <th>penaltyJerseyNumbers</th>\n",
       "      <th>penaltyYards</th>\n",
       "      <th>preSnapHomeScore</th>\n",
       "      <th>preSnapVisitorScore</th>\n",
       "      <th>passResult</th>\n",
       "      <th>kickLength</th>\n",
       "      <th>kickReturnYardage</th>\n",
       "      <th>playResult</th>\n",
       "      <th>absoluteYardlineNumber</th>\n",
       "    </tr>\n",
       "  </thead>\n",
       "  <tbody>\n",
       "    <tr>\n",
       "      <th>1</th>\n",
       "      <td>2018090600</td>\n",
       "      <td>366</td>\n",
       "      <td>(9:20) C.Johnston punts 56 yards to ATL 36, Ce...</td>\n",
       "      <td>1</td>\n",
       "      <td>4</td>\n",
       "      <td>4</td>\n",
       "      <td>PHI</td>\n",
       "      <td>Punt</td>\n",
       "      <td>Return</td>\n",
       "      <td>45603.0</td>\n",
       "      <td>...</td>\n",
       "      <td>UNSd</td>\n",
       "      <td>PHI 18</td>\n",
       "      <td>-15.0</td>\n",
       "      <td>0</td>\n",
       "      <td>0</td>\n",
       "      <td>NaN</td>\n",
       "      <td>56.0</td>\n",
       "      <td>5.0</td>\n",
       "      <td>36</td>\n",
       "      <td>18</td>\n",
       "    </tr>\n",
       "    <tr>\n",
       "      <th>4</th>\n",
       "      <td>2018090600</td>\n",
       "      <td>872</td>\n",
       "      <td>(:33) C.Johnston punts 65 yards to end zone, C...</td>\n",
       "      <td>1</td>\n",
       "      <td>4</td>\n",
       "      <td>18</td>\n",
       "      <td>PHI</td>\n",
       "      <td>Punt</td>\n",
       "      <td>Touchback</td>\n",
       "      <td>45603.0</td>\n",
       "      <td>...</td>\n",
       "      <td>NaN</td>\n",
       "      <td>NaN</td>\n",
       "      <td>NaN</td>\n",
       "      <td>0</td>\n",
       "      <td>3</td>\n",
       "      <td>NaN</td>\n",
       "      <td>65.0</td>\n",
       "      <td>NaN</td>\n",
       "      <td>45</td>\n",
       "      <td>45</td>\n",
       "    </tr>\n",
       "  </tbody>\n",
       "</table>\n",
       "<p>2 rows × 25 columns</p>\n",
       "</div>"
      ],
      "text/plain": [
       "       gameId  playId                                    playDescription  \\\n",
       "1  2018090600     366  (9:20) C.Johnston punts 56 yards to ATL 36, Ce...   \n",
       "4  2018090600     872  (:33) C.Johnston punts 65 yards to end zone, C...   \n",
       "\n",
       "   quarter  down  yardsToGo possessionTeam specialTeamsPlayType  \\\n",
       "1        1     4          4            PHI                 Punt   \n",
       "4        1     4         18            PHI                 Punt   \n",
       "\n",
       "  specialTeamsResult  kickerId  ... penaltyCodes  penaltyJerseyNumbers  \\\n",
       "1             Return   45603.0  ...         UNSd                PHI 18   \n",
       "4          Touchback   45603.0  ...          NaN                   NaN   \n",
       "\n",
       "  penaltyYards  preSnapHomeScore preSnapVisitorScore passResult kickLength  \\\n",
       "1        -15.0                 0                   0        NaN       56.0   \n",
       "4          NaN                 0                   3        NaN       65.0   \n",
       "\n",
       "   kickReturnYardage  playResult  absoluteYardlineNumber  \n",
       "1                5.0          36                      18  \n",
       "4                NaN          45                      45  \n",
       "\n",
       "[2 rows x 25 columns]"
      ]
     },
     "execution_count": 17,
     "metadata": {},
     "output_type": "execute_result"
    }
   ],
   "source": [
    "punt_plays_df = plays_df[plays_df['specialTeamsPlayType'] == 'Punt']\n",
    "punt_plays_df.head(2)"
   ]
  },
  {
   "cell_type": "code",
   "execution_count": 18,
   "id": "8a2f46a4-1bcb-42d4-af86-ca3ae60a2ad7",
   "metadata": {},
   "outputs": [
    {
     "data": {
      "text/html": [
       "<div>\n",
       "<style scoped>\n",
       "    .dataframe tbody tr th:only-of-type {\n",
       "        vertical-align: middle;\n",
       "    }\n",
       "\n",
       "    .dataframe tbody tr th {\n",
       "        vertical-align: top;\n",
       "    }\n",
       "\n",
       "    .dataframe thead th {\n",
       "        text-align: right;\n",
       "    }\n",
       "</style>\n",
       "<table border=\"1\" class=\"dataframe\">\n",
       "  <thead>\n",
       "    <tr style=\"text-align: right;\">\n",
       "      <th></th>\n",
       "      <th>gameId</th>\n",
       "      <th>playId</th>\n",
       "      <th>playDescription</th>\n",
       "      <th>quarter</th>\n",
       "      <th>down</th>\n",
       "      <th>yardsToGo</th>\n",
       "      <th>possessionTeam</th>\n",
       "      <th>specialTeamsPlayType</th>\n",
       "      <th>specialTeamsResult</th>\n",
       "      <th>kickerId</th>\n",
       "      <th>...</th>\n",
       "      <th>penaltyCodes</th>\n",
       "      <th>penaltyJerseyNumbers</th>\n",
       "      <th>penaltyYards</th>\n",
       "      <th>preSnapHomeScore</th>\n",
       "      <th>preSnapVisitorScore</th>\n",
       "      <th>passResult</th>\n",
       "      <th>kickLength</th>\n",
       "      <th>kickReturnYardage</th>\n",
       "      <th>playResult</th>\n",
       "      <th>absoluteYardlineNumber</th>\n",
       "    </tr>\n",
       "  </thead>\n",
       "  <tbody>\n",
       "    <tr>\n",
       "      <th>0</th>\n",
       "      <td>2018090600</td>\n",
       "      <td>37</td>\n",
       "      <td>J.Elliott kicks 65 yards from PHI 35 to end zo...</td>\n",
       "      <td>1</td>\n",
       "      <td>0</td>\n",
       "      <td>0</td>\n",
       "      <td>PHI</td>\n",
       "      <td>Kickoff</td>\n",
       "      <td>Touchback</td>\n",
       "      <td>44966.0</td>\n",
       "      <td>...</td>\n",
       "      <td>NaN</td>\n",
       "      <td>NaN</td>\n",
       "      <td>NaN</td>\n",
       "      <td>0</td>\n",
       "      <td>0</td>\n",
       "      <td>NaN</td>\n",
       "      <td>66.0</td>\n",
       "      <td>NaN</td>\n",
       "      <td>40</td>\n",
       "      <td>45</td>\n",
       "    </tr>\n",
       "    <tr>\n",
       "      <th>3</th>\n",
       "      <td>2018090600</td>\n",
       "      <td>677</td>\n",
       "      <td>M.Bosher kicks 64 yards from ATL 35 to PHI 1. ...</td>\n",
       "      <td>1</td>\n",
       "      <td>0</td>\n",
       "      <td>0</td>\n",
       "      <td>ATL</td>\n",
       "      <td>Kickoff</td>\n",
       "      <td>Return</td>\n",
       "      <td>37267.0</td>\n",
       "      <td>...</td>\n",
       "      <td>NaN</td>\n",
       "      <td>NaN</td>\n",
       "      <td>NaN</td>\n",
       "      <td>0</td>\n",
       "      <td>3</td>\n",
       "      <td>NaN</td>\n",
       "      <td>64.0</td>\n",
       "      <td>30.0</td>\n",
       "      <td>34</td>\n",
       "      <td>75</td>\n",
       "    </tr>\n",
       "  </tbody>\n",
       "</table>\n",
       "<p>2 rows × 25 columns</p>\n",
       "</div>"
      ],
      "text/plain": [
       "       gameId  playId                                    playDescription  \\\n",
       "0  2018090600      37  J.Elliott kicks 65 yards from PHI 35 to end zo...   \n",
       "3  2018090600     677  M.Bosher kicks 64 yards from ATL 35 to PHI 1. ...   \n",
       "\n",
       "   quarter  down  yardsToGo possessionTeam specialTeamsPlayType  \\\n",
       "0        1     0          0            PHI              Kickoff   \n",
       "3        1     0          0            ATL              Kickoff   \n",
       "\n",
       "  specialTeamsResult  kickerId  ... penaltyCodes  penaltyJerseyNumbers  \\\n",
       "0          Touchback   44966.0  ...          NaN                   NaN   \n",
       "3             Return   37267.0  ...          NaN                   NaN   \n",
       "\n",
       "  penaltyYards  preSnapHomeScore preSnapVisitorScore passResult kickLength  \\\n",
       "0          NaN                 0                   0        NaN       66.0   \n",
       "3          NaN                 0                   3        NaN       64.0   \n",
       "\n",
       "   kickReturnYardage  playResult  absoluteYardlineNumber  \n",
       "0                NaN          40                      45  \n",
       "3               30.0          34                      75  \n",
       "\n",
       "[2 rows x 25 columns]"
      ]
     },
     "execution_count": 18,
     "metadata": {},
     "output_type": "execute_result"
    }
   ],
   "source": [
    "kickoff_plays_df = plays_df[plays_df['specialTeamsPlayType'] == 'Kickoff']\n",
    "kickoff_plays_df.head(2)"
   ]
  },
  {
   "cell_type": "code",
   "execution_count": 13,
   "id": "bf997745-267f-4bb5-a9fc-bba716ec2fbe",
   "metadata": {},
   "outputs": [
    {
     "data": {
      "image/png": "[encoded data removed]",
      "text/plain": [
       "<Figure size 1080x1080 with 16 Axes>"
      ]
     },
     "metadata": {
      "needs_background": "light"
     },
     "output_type": "display_data"
    }
   ],
   "source": [
    "#Lets examine the Punt plays distributions\n",
    "punt_plays_df.hist(figsize=(15, 15));"
   ]
  },
  {
   "cell_type": "code",
   "execution_count": 14,
   "id": "0c7d3f39-2fc5-4016-9b63-9ebe7cc974dd",
   "metadata": {},
   "outputs": [
    {
     "data": {
      "text/plain": [
       "''"
      ]
     },
     "execution_count": 14,
     "metadata": {},
     "output_type": "execute_result"
    },
    {
     "data": {
      "image/png": "[encoded data removed]",
      "text/plain": [
       "<Figure size 1080x1080 with 16 Axes>"
      ]
     },
     "metadata": {
      "needs_background": "light"
     },
     "output_type": "display_data"
    }
   ],
   "source": [
    "#Lets examine the Kickoff plays distributions\n",
    "kickoff_plays_df.hist(figsize=(15,15));"
   ]
  },
  {
   "cell_type": "code",
   "execution_count": 28,
   "id": "331109b7-3b5c-48c1-86d4-833c8d982486",
   "metadata": {},
   "outputs": [
    {
     "data": {
      "text/html": [
       "<div>\n",
       "<style scoped>\n",
       "    .dataframe tbody tr th:only-of-type {\n",
       "        vertical-align: middle;\n",
       "    }\n",
       "\n",
       "    .dataframe tbody tr th {\n",
       "        vertical-align: top;\n",
       "    }\n",
       "\n",
       "    .dataframe thead th {\n",
       "        text-align: right;\n",
       "    }\n",
       "</style>\n",
       "<table border=\"1\" class=\"dataframe\">\n",
       "  <thead>\n",
       "    <tr style=\"text-align: right;\">\n",
       "      <th></th>\n",
       "      <th>gameId</th>\n",
       "      <th>playId</th>\n",
       "      <th>playDescription</th>\n",
       "      <th>quarter</th>\n",
       "      <th>down</th>\n",
       "      <th>yardsToGo</th>\n",
       "      <th>possessionTeam</th>\n",
       "      <th>specialTeamsPlayType</th>\n",
       "      <th>specialTeamsResult</th>\n",
       "      <th>kickerId</th>\n",
       "      <th>...</th>\n",
       "      <th>returnDirectionActual</th>\n",
       "      <th>missedTackler</th>\n",
       "      <th>assistTackler</th>\n",
       "      <th>tackler</th>\n",
       "      <th>kickoffReturnFormation</th>\n",
       "      <th>gunners</th>\n",
       "      <th>puntRushers</th>\n",
       "      <th>specialTeamsSafeties</th>\n",
       "      <th>vises</th>\n",
       "      <th>kickContactType</th>\n",
       "    </tr>\n",
       "  </thead>\n",
       "  <tbody>\n",
       "    <tr>\n",
       "      <th>0</th>\n",
       "      <td>2018090600</td>\n",
       "      <td>366</td>\n",
       "      <td>(9:20) C.Johnston punts 56 yards to ATL 36, Ce...</td>\n",
       "      <td>1</td>\n",
       "      <td>4</td>\n",
       "      <td>4</td>\n",
       "      <td>PHI</td>\n",
       "      <td>Punt</td>\n",
       "      <td>Return</td>\n",
       "      <td>45603.0</td>\n",
       "      <td>...</td>\n",
       "      <td>R</td>\n",
       "      <td>PHI 57</td>\n",
       "      <td>NaN</td>\n",
       "      <td>PHI 54</td>\n",
       "      <td>NaN</td>\n",
       "      <td>PHI 18; PHI 29</td>\n",
       "      <td>NaN</td>\n",
       "      <td>NaN</td>\n",
       "      <td>ATL 83; ATL 27; ATL 34; ATL 21</td>\n",
       "      <td>CC</td>\n",
       "    </tr>\n",
       "    <tr>\n",
       "      <th>1</th>\n",
       "      <td>2018090600</td>\n",
       "      <td>872</td>\n",
       "      <td>(:33) C.Johnston punts 65 yards to end zone, C...</td>\n",
       "      <td>1</td>\n",
       "      <td>4</td>\n",
       "      <td>18</td>\n",
       "      <td>PHI</td>\n",
       "      <td>Punt</td>\n",
       "      <td>Touchback</td>\n",
       "      <td>45603.0</td>\n",
       "      <td>...</td>\n",
       "      <td>NaN</td>\n",
       "      <td>NaN</td>\n",
       "      <td>NaN</td>\n",
       "      <td>NaN</td>\n",
       "      <td>NaN</td>\n",
       "      <td>PHI 18; PHI 29</td>\n",
       "      <td>ATL 85</td>\n",
       "      <td>ATL 37</td>\n",
       "      <td>ATL 83; ATL 34; ATL 21</td>\n",
       "      <td>BF</td>\n",
       "    </tr>\n",
       "  </tbody>\n",
       "</table>\n",
       "<p>2 rows × 43 columns</p>\n",
       "</div>"
      ],
      "text/plain": [
       "       gameId  playId                                    playDescription  \\\n",
       "0  2018090600     366  (9:20) C.Johnston punts 56 yards to ATL 36, Ce...   \n",
       "1  2018090600     872  (:33) C.Johnston punts 65 yards to end zone, C...   \n",
       "\n",
       "   quarter  down  yardsToGo possessionTeam specialTeamsPlayType  \\\n",
       "0        1     4          4            PHI                 Punt   \n",
       "1        1     4         18            PHI                 Punt   \n",
       "\n",
       "  specialTeamsResult  kickerId  ... returnDirectionActual  missedTackler  \\\n",
       "0             Return   45603.0  ...                     R         PHI 57   \n",
       "1          Touchback   45603.0  ...                   NaN            NaN   \n",
       "\n",
       "  assistTackler  tackler kickoffReturnFormation         gunners puntRushers  \\\n",
       "0           NaN   PHI 54                    NaN  PHI 18; PHI 29         NaN   \n",
       "1           NaN      NaN                    NaN  PHI 18; PHI 29      ATL 85   \n",
       "\n",
       "   specialTeamsSafeties                           vises  kickContactType  \n",
       "0                   NaN  ATL 83; ATL 27; ATL 34; ATL 21               CC  \n",
       "1                ATL 37          ATL 83; ATL 34; ATL 21               BF  \n",
       "\n",
       "[2 rows x 43 columns]"
      ]
     },
     "execution_count": 28,
     "metadata": {},
     "output_type": "execute_result"
    }
   ],
   "source": [
    "punt_plays_df = pd.merge(left=punt_plays_df, right=pff_df)\n",
    "punt_plays_df.head(2)"
   ]
  },
  {
   "cell_type": "code",
   "execution_count": 30,
   "id": "a6af0dd0-d8c9-4441-93f3-743fa16e6fb0",
   "metadata": {},
   "outputs": [
    {
     "data": {
      "text/html": [
       "<div>\n",
       "<style scoped>\n",
       "    .dataframe tbody tr th:only-of-type {\n",
       "        vertical-align: middle;\n",
       "    }\n",
       "\n",
       "    .dataframe tbody tr th {\n",
       "        vertical-align: top;\n",
       "    }\n",
       "\n",
       "    .dataframe thead th {\n",
       "        text-align: right;\n",
       "    }\n",
       "</style>\n",
       "<table border=\"1\" class=\"dataframe\">\n",
       "  <thead>\n",
       "    <tr style=\"text-align: right;\">\n",
       "      <th></th>\n",
       "      <th>gameId</th>\n",
       "      <th>playId</th>\n",
       "      <th>playDescription</th>\n",
       "      <th>quarter</th>\n",
       "      <th>down</th>\n",
       "      <th>yardsToGo</th>\n",
       "      <th>possessionTeam</th>\n",
       "      <th>specialTeamsPlayType</th>\n",
       "      <th>specialTeamsResult</th>\n",
       "      <th>kickerId</th>\n",
       "      <th>...</th>\n",
       "      <th>returnDirectionActual</th>\n",
       "      <th>missedTackler</th>\n",
       "      <th>assistTackler</th>\n",
       "      <th>tackler</th>\n",
       "      <th>kickoffReturnFormation</th>\n",
       "      <th>gunners</th>\n",
       "      <th>puntRushers</th>\n",
       "      <th>specialTeamsSafeties</th>\n",
       "      <th>vises</th>\n",
       "      <th>kickContactType</th>\n",
       "    </tr>\n",
       "  </thead>\n",
       "  <tbody>\n",
       "    <tr>\n",
       "      <th>0</th>\n",
       "      <td>2018090600</td>\n",
       "      <td>37</td>\n",
       "      <td>J.Elliott kicks 65 yards from PHI 35 to end zo...</td>\n",
       "      <td>1</td>\n",
       "      <td>0</td>\n",
       "      <td>0</td>\n",
       "      <td>PHI</td>\n",
       "      <td>Kickoff</td>\n",
       "      <td>Touchback</td>\n",
       "      <td>44966.0</td>\n",
       "      <td>...</td>\n",
       "      <td>NaN</td>\n",
       "      <td>NaN</td>\n",
       "      <td>NaN</td>\n",
       "      <td>NaN</td>\n",
       "      <td>8-0-2</td>\n",
       "      <td>NaN</td>\n",
       "      <td>NaN</td>\n",
       "      <td>PHI 23; PHI 27</td>\n",
       "      <td>NaN</td>\n",
       "      <td>NaN</td>\n",
       "    </tr>\n",
       "    <tr>\n",
       "      <th>1</th>\n",
       "      <td>2018090600</td>\n",
       "      <td>677</td>\n",
       "      <td>M.Bosher kicks 64 yards from ATL 35 to PHI 1. ...</td>\n",
       "      <td>1</td>\n",
       "      <td>0</td>\n",
       "      <td>0</td>\n",
       "      <td>ATL</td>\n",
       "      <td>Kickoff</td>\n",
       "      <td>Return</td>\n",
       "      <td>37267.0</td>\n",
       "      <td>...</td>\n",
       "      <td>C</td>\n",
       "      <td>ATL 83</td>\n",
       "      <td>ATL 22</td>\n",
       "      <td>ATL 27</td>\n",
       "      <td>8-0-2</td>\n",
       "      <td>NaN</td>\n",
       "      <td>NaN</td>\n",
       "      <td>ATL 17; ATL 22</td>\n",
       "      <td>NaN</td>\n",
       "      <td>NaN</td>\n",
       "    </tr>\n",
       "  </tbody>\n",
       "</table>\n",
       "<p>2 rows × 43 columns</p>\n",
       "</div>"
      ],
      "text/plain": [
       "       gameId  playId                                    playDescription  \\\n",
       "0  2018090600      37  J.Elliott kicks 65 yards from PHI 35 to end zo...   \n",
       "1  2018090600     677  M.Bosher kicks 64 yards from ATL 35 to PHI 1. ...   \n",
       "\n",
       "   quarter  down  yardsToGo possessionTeam specialTeamsPlayType  \\\n",
       "0        1     0          0            PHI              Kickoff   \n",
       "1        1     0          0            ATL              Kickoff   \n",
       "\n",
       "  specialTeamsResult  kickerId  ... returnDirectionActual  missedTackler  \\\n",
       "0          Touchback   44966.0  ...                   NaN            NaN   \n",
       "1             Return   37267.0  ...                     C         ATL 83   \n",
       "\n",
       "  assistTackler  tackler kickoffReturnFormation gunners puntRushers  \\\n",
       "0           NaN      NaN                  8-0-2     NaN         NaN   \n",
       "1        ATL 22   ATL 27                  8-0-2     NaN         NaN   \n",
       "\n",
       "   specialTeamsSafeties  vises  kickContactType  \n",
       "0        PHI 23; PHI 27    NaN              NaN  \n",
       "1        ATL 17; ATL 22    NaN              NaN  \n",
       "\n",
       "[2 rows x 43 columns]"
      ]
     },
     "execution_count": 30,
     "metadata": {},
     "output_type": "execute_result"
    }
   ],
   "source": [
    "kickoff_plays_df = pd.merge(left=kickoff_plays_df, right=pff_df)\n",
    "kickoff_plays_df.head(2)"
   ]
  },
  {
   "cell_type": "code",
   "execution_count": 33,
   "id": "b45aae7f-c8f4-4910-a745-7acfabf4cce8",
   "metadata": {},
   "outputs": [],
   "source": [
    "#Going to begin by just using the pff and plays datasets to build a minimum viable product on and then look to expand that with tracking data if time allows."
   ]
  },
  {
   "cell_type": "code",
   "execution_count": 36,
   "id": "ca378beb-517d-4a54-a22f-dcc99d121cd1",
   "metadata": {},
   "outputs": [],
   "source": [
    "#creating new csvs for use throughout project\n",
    "# kickoff_plays_df.to_csv('../data/kickoff_plays.csv', index=False)\n",
    "punt_plays_df.to_csv('../data/punt_plays.csv', index=False)"
   ]
  },
  {
   "cell_type": "code",
   "execution_count": null,
   "id": "c6de0d36-4948-416d-a0fb-682468d84475",
   "metadata": {},
   "outputs": [],
   "source": []
  }
 ],
 "metadata": {
  "kernelspec": {
   "display_name": "Python 3",
   "language": "python",
   "name": "python3"
  },
  "language_info": {
   "codemirror_mode": {
    "name": "ipython",
    "version": 3
   },
   "file_extension": ".py",
   "mimetype": "text/x-python",
   "name": "python",
   "nbconvert_exporter": "python",
   "pygments_lexer": "ipython3",
   "version": "3.8.8"
  }
 },
 "nbformat": 4,
 "nbformat_minor": 5
}
